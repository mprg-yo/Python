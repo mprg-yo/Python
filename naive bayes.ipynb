{
 "metadata": {
  "name": "",
  "signature": "sha256:ef963a7d74055841e69f296d839d19779b6bb8a1da6ad579df6cb23561a654d8"
 },
 "nbformat": 3,
 "nbformat_minor": 0,
 "worksheets": [
  {
   "cells": [
    {
     "cell_type": "heading",
     "level": 1,
     "metadata": {},
     "source": [
      "Naive Bayes Classifier"
     ]
    },
    {
     "cell_type": "heading",
     "level": 2,
     "metadata": {},
     "source": [
      "\u30c7\u30fc\u30bf\u30bb\u30c3\u30c8"
     ]
    },
    {
     "cell_type": "heading",
     "level": 4,
     "metadata": {},
     "source": [
      "\u653f\u6cbb\u3068\u5b97\u6559\u304b\u3089\u30b9\u30dd\u30fc\u30c4\u3068\u79d1\u5b66\u307e\u3067,20\u7a2e\u985e\u306e\u30c8\u30d4\u30c3\u30af\u304b\u3089\u7d0419,000\u306e\u30e1\u30c3\u30bb\u30fc\u30b8\u3067\u69cb\u6210"
     ]
    },
    {
     "cell_type": "heading",
     "level": 4,
     "metadata": {},
     "source": [
      "\u30c7\u30fc\u30bf\u30bb\u30c3\u30c8(fetch_20newsgroups)\u3092\u8aad\u307f\u8fbc\u3080"
     ]
    },
    {
     "cell_type": "code",
     "collapsed": false,
     "input": [
      "from sklearn.datasets import fetch_20newsgroups\n",
      "news = fetch_20newsgroups(subset='all')\n",
      "print news.keys()"
     ],
     "language": "python",
     "metadata": {},
     "outputs": [
      {
       "output_type": "stream",
       "stream": "stdout",
       "text": [
        "['DESCR', 'data', 'target', 'target_names', 'filenames']\n"
       ]
      }
     ],
     "prompt_number": 34
    },
    {
     "cell_type": "heading",
     "level": 4,
     "metadata": {},
     "source": [
      "\u8aad\u307f\u8fbc\u3093\u3060\u30c7\u30fc\u30bf\u306e\u914d\u5217\u306e\u578b\u3092\u8868\u793a"
     ]
    },
    {
     "cell_type": "code",
     "collapsed": false,
     "input": [
      "print type(news.data),type(news.target),type(news.target_names)"
     ],
     "language": "python",
     "metadata": {},
     "outputs": [
      {
       "output_type": "stream",
       "stream": "stdout",
       "text": [
        "<type 'list'> <type 'numpy.ndarray'> <type 'list'>\n"
       ]
      }
     ],
     "prompt_number": 35
    },
    {
     "cell_type": "heading",
     "level": 4,
     "metadata": {},
     "source": [
      "\u4f7f\u7528\u3059\u308b\u30c7\u30fc\u30bf\u306e\u540d\u524d\u3084\u8981\u7d20\u306e\u6570\u3092\u8868\u793a"
     ]
    },
    {
     "cell_type": "code",
     "collapsed": false,
     "input": [
      "print news.data[0]"
     ],
     "language": "python",
     "metadata": {},
     "outputs": [
      {
       "output_type": "stream",
       "stream": "stdout",
       "text": [
        "From: Mamatha Devineni Ratnam <mr47+@andrew.cmu.edu>\n",
        "Subject: Pens fans reactions\n",
        "Organization: Post Office, Carnegie Mellon, Pittsburgh, PA\n",
        "Lines: 12\n",
        "NNTP-Posting-Host: po4.andrew.cmu.edu\n",
        "\n",
        "\n",
        "\n",
        "I am sure some bashers of Pens fans are pretty confused about the lack\n",
        "of any kind of posts about the recent Pens massacre of the Devils. Actually,\n",
        "I am  bit puzzled too and a bit relieved. However, I am going to put an end\n",
        "to non-PIttsburghers' relief with a bit of praise for the Pens. Man, they\n",
        "are killing those Devils worse than I thought. Jagr just showed you why\n",
        "he is much better than his regular season stats. He is also a lot\n",
        "fo fun to watch in the playoffs. Bowman should let JAgr have a lot of\n",
        "fun in the next couple of games since the Pens are going to beat the pulp out of Jersey anyway. I was very disappointed not to see the Islanders lose the final\n",
        "regular season game.          PENS RULE!!!\n",
        "\n",
        "\n"
       ]
      }
     ],
     "prompt_number": 36
    },
    {
     "cell_type": "code",
     "collapsed": false,
     "input": [
      "print len(news.data)\n",
      "print len(news.target)"
     ],
     "language": "python",
     "metadata": {},
     "outputs": [
      {
       "output_type": "stream",
       "stream": "stdout",
       "text": [
        "18846\n",
        "18846\n"
       ]
      }
     ],
     "prompt_number": 37
    },
    {
     "cell_type": "code",
     "collapsed": false,
     "input": [
      "print news.target\n",
      "print news.target_names"
     ],
     "language": "python",
     "metadata": {},
     "outputs": [
      {
       "output_type": "stream",
       "stream": "stdout",
       "text": [
        "[10  3 17 ...,  3  1  7]\n",
        "['alt.atheism', 'comp.graphics', 'comp.os.ms-windows.misc', 'comp.sys.ibm.pc.hardware', 'comp.sys.mac.hardware', 'comp.windows.x', 'misc.forsale', 'rec.autos', 'rec.motorcycles', 'rec.sport.baseball', 'rec.sport.hockey', 'sci.crypt', 'sci.electronics', 'sci.med', 'sci.space', 'soc.religion.christian', 'talk.politics.guns', 'talk.politics.mideast', 'talk.politics.misc', 'talk.religion.misc']\n"
       ]
      }
     ],
     "prompt_number": 38
    },
    {
     "cell_type": "code",
     "collapsed": false,
     "input": [
      "print news.target[0],news.target_names[news.target[0]]\n",
      "print len(news.filenames)\n",
      "print news.filenames[0]"
     ],
     "language": "python",
     "metadata": {},
     "outputs": [
      {
       "output_type": "stream",
       "stream": "stdout",
       "text": [
        "10 rec.sport.hockey\n",
        "18846\n",
        "/Users/yo/scikit_learn_data/20news_home/20news-bydate-test/rec.sport.hockey/54367\n"
       ]
      }
     ],
     "prompt_number": 43
    },
    {
     "cell_type": "heading",
     "level": 2,
     "metadata": {},
     "source": [
      "\u524d\u51e6\u7406"
     ]
    },
    {
     "cell_type": "heading",
     "level": 4,
     "metadata": {},
     "source": [
      "\u6587\u5b57\u30c7\u30fc\u30bf\u306f\u51e6\u7406\u51fa\u6765\u306a\u3044\u306e\u3067\u6570\u5b57\u30c7\u30fc\u30bf\u306b\u5909\u63db\u3059\u308b\u5fc5\u8981\u304c\u3042\u308b<br>\n",
      "\u5909\u63db\u3059\u308b\u306b\u306f\u3044\u304f\u3064\u304b\u306e\u65b9\u6cd5\u304c\u3042\u308a\uff0csklearn.feature_extraction.text\u3092\u4f7f\u7528\u3059\u308b"
     ]
    },
    {
     "cell_type": "heading",
     "level": 4,
     "metadata": {},
     "source": [
      "\u5909\u63db\u3092\u884c\u306a\u3046\u969b\u306b\uff0c\u30c7\u30fc\u30bf\u3092\u5b66\u7fd2\u30c7\u30fc\u30bf\u3068\u8b58\u5225\u30c7\u30fc\u30bf\u306b\u5206\u3051\u308b<br>\n",
      "\u4eca\u56de\u306f\uff0c\u5b66\u7fd2\u30c7\u30fc\u30bf75%\uff0c\u8b58\u5225\u30c7\u30fc\u30bf25%\u306b\u5206\u3051\u305f"
     ]
    },
    {
     "cell_type": "code",
     "collapsed": false,
     "input": [
      "SPLIT_PERC = 0.75\n",
      "split_size = int(len(news.data)*SPLIT_PERC)\n",
      "print len(news.data)\n",
      "print split_size\n",
      "X_train = news.data[:split_size]\n",
      "X_test = news.data[split_size:]\n",
      "y_train = news.target[:split_size]\n",
      "y_test = news.target[split_size:]\n",
      "print len(X_train)\n",
      "print len(X_test)"
     ],
     "language": "python",
     "metadata": {},
     "outputs": [
      {
       "output_type": "stream",
       "stream": "stdout",
       "text": [
        "18846\n",
        "14134\n",
        "14134\n",
        "4712\n"
       ]
      }
     ],
     "prompt_number": 30
    },
    {
     "cell_type": "heading",
     "level": 2,
     "metadata": {},
     "source": [
      "\u5358\u7d14\u30d9\u30a4\u30ba\u5206\u985e\u5668\u3092\u5b66\u7fd2"
     ]
    },
    {
     "cell_type": "heading",
     "level": 4,
     "metadata": {},
     "source": [
      "sklearn.naive_bayes\u3088\u308a\uff0cMultinomialNB\u95a2\u6570\u3092\u4f7f\u7528\u3059\u308b\u5206\u985e\u5668\u30923\u7a2e\u985e\u4f5c\u6210\u3059\u308b\uff0e<br>\n",
      "Pipeline\u95a2\u6570\u3092\u4f7f\u7528\u3059\u308b\u4e8b\u306b\u3088\u308a\uff0c\u30d9\u30af\u30c8\u30eb\u5316\u3068\u5206\u985e\u3092\u9806\u6b21\u884c\u3046\u4e8b\u304c\u51fa\u6765\u308b\uff0e"
     ]
    },
    {
     "cell_type": "code",
     "collapsed": false,
     "input": [
      "from sklearn.naive_bayes import MultinomialNB\n",
      "from sklearn.pipeline import Pipeline\n",
      "from sklearn.feature_extraction.text import TfidfVectorizer,HashingVectorizer,CountVectorizer\n",
      "\n",
      "clf_1 = Pipeline([('vect',CountVectorizer()),('clf',MultinomialNB()),])\n",
      "clf_2 = Pipeline([('vect',HashingVectorizer(non_negative=True)),('clf',MultinomialNB()),])\n",
      "clf_3 = Pipeline([('vedt',TfidfVectorizer()),('clf',MultinomialNB()),])"
     ],
     "language": "python",
     "metadata": {},
     "outputs": [],
     "prompt_number": 31
    },
    {
     "cell_type": "heading",
     "level": 4,
     "metadata": {},
     "source": [
      "\u5206\u985e\u5668\u3092\u4f5c\u6210\u3057\uff0ck\u5206\u5272\u4ea4\u5dee\u691c\u5b9a\u3092\u884c\u3046\u95a2\u6570\u3092\u4f5c\u6210"
     ]
    },
    {
     "cell_type": "code",
     "collapsed": false,
     "input": [
      "from sklearn.cross_validation import cross_val_score,KFold\n",
      "from scipy.stats import sem\n",
      "\n",
      "def evaluate_cross_validation(clf, X, y, K):\n",
      "    # create a k-ford croos validation iterator of k=5 folds\n",
      "    cv = KFold(len(y), K, shuffle=True, random_state=0)\n",
      "    #by default the score used is the one returned by score method of the estimator(accuracy)\n",
      "    scores = cross_val_score(clf, X, y, cv=cv)\n",
      "    print scores\n",
      "    print (\"Mean score: {0:.3f} (+/-{1:.3f})\").format(np.mean(scores),sem(scores))"
     ],
     "language": "python",
     "metadata": {},
     "outputs": [],
     "prompt_number": 32
    },
    {
     "cell_type": "heading",
     "level": 4,
     "metadata": {},
     "source": [
      "\u5206\u985e\u5668\u3092\u4f7f\u7528\u3057\uff0c5\u5206\u5272\u4ea4\u5dee\u691c\u5b9a\u3092\u884c\u3046<br>\n",
      "\u4e0b\u8a18\u306e\u7d50\u679c\u3092\u898b\u308b\u3068\uff0cCountVectorizer\u3068TfidfVectorizer\u306f\u540c\u69d8\u306e\u6027\u80fd\u3067\u3042\u308a\uff0cHashingVectorizer\u3088\u308a\u9ad8\u3044"
     ]
    },
    {
     "cell_type": "code",
     "collapsed": false,
     "input": [
      "clfs = [clf_1,clf_2,clf_3]\n",
      "for clf in clfs:\n",
      "    evaluate_cross_validation(clf, news.data, news.target, 5)"
     ],
     "language": "python",
     "metadata": {},
     "outputs": [
      {
       "output_type": "stream",
       "stream": "stdout",
       "text": [
        "[ 0.85782493  0.85725657  0.84664367  0.85911382  0.8458477 ]\n",
        "Mean score: 0.853 (+/-0.003)\n",
        "[ 0.75543767  0.77659857  0.77049615  0.78508888  0.76200584]"
       ]
      },
      {
       "output_type": "stream",
       "stream": "stdout",
       "text": [
        "\n",
        "Mean score: 0.770 (+/-0.005)\n",
        "[ 0.84482759  0.85990979  0.84558238  0.85990979  0.84213319]"
       ]
      },
      {
       "output_type": "stream",
       "stream": "stdout",
       "text": [
        "\n",
        "Mean score: 0.850 (+/-0.004)\n"
       ]
      }
     ],
     "prompt_number": 33
    },
    {
     "cell_type": "heading",
     "level": 4,
     "metadata": {},
     "source": [
      "TfidfVectorizer\u306b\u3064\u3044\u3066\uff0c\u30c7\u30d5\u30a9\u30eb\u30c8\u3067\u5358\u8a9e\u3068\u3057\u3066\u8a8d\u8b58\u3059\u308b\u6b63\u898f\u8868\u73fe\u3092\u5909\u66f4\u3059\u308b\u4e8b\u3067\u7cbe\u5ea6\u306e\u5411\u4e0a\u3092\u306f\u304b\u308b"
     ]
    },
    {
     "cell_type": "code",
     "collapsed": false,
     "input": [
      "clf_4 = Pipeline([('vect', TfidfVectorizer\n",
      "                   (token_pattern=ur\"\\b[a-z0-9_\\-\\.]+[a-z][a-z0-9_\\-\\.]+\\b\",)),\n",
      "                    ('clf', MultinomialNB()),])"
     ],
     "language": "python",
     "metadata": {},
     "outputs": [],
     "prompt_number": 11
    },
    {
     "cell_type": "heading",
     "level": 4,
     "metadata": {},
     "source": [
      "\u4e0b\u8a18\u306e\u7d50\u679c\u3088\u308a\uff0c\u5206\u6790\u524d\u3068\u6bd4\u3079\u30660.850\u304b\u30890.865\u307e\u3067\u7d50\u679c\u304c\u826f\u304f\u306a\u3063\u305f"
     ]
    },
    {
     "cell_type": "code",
     "collapsed": false,
     "input": [
      "evaluate_cross_validation(clf_4, news.data, news.target, 5)"
     ],
     "language": "python",
     "metadata": {},
     "outputs": [
      {
       "output_type": "stream",
       "stream": "stdout",
       "text": [
        "[ 0.86100796  0.8718493   0.86203237  0.87291059  0.8588485 ]\n",
        "Mean score: 0.865 (+/-0.003)\n"
       ]
      }
     ],
     "prompt_number": 12
    },
    {
     "cell_type": "heading",
     "level": 4,
     "metadata": {},
     "source": [
      "\u305d\u306e\u4ed6\u306bstop_words\u3068\u3044\u3046\u30d1\u30e9\u30e1\u30fc\u30bf\u304c\u3042\u308a\uff0c\u3053\u308c\u3092\u4f7f\u3046\u4e8b\u3067\u983b\u7e41\u306b\u51fa\u3066\u304f\u308b\u5358\u8a9e\u3084\u8003\u616e\u3057\u305f\u304f\u306a\u3044\u8a00\u8449\u3092\u30ea\u30b9\u30c8\u3068\u3057\u3066\u4e0e\u3048\u3089\u308c\u308b\n",
      "\u30c6\u30ad\u30b9\u30c8\u30d5\u30a1\u30a4\u30eb\u304b\u3089stopword\u3092\u30ed\u30fc\u30c9\u3059\u308b\u95a2\u6570\u3092\u5b9a\u7fa9\u3059\u308b"
     ]
    },
    {
     "cell_type": "code",
     "collapsed": false,
     "input": [
      "def get_stop_words():\n",
      "    result = set()\n",
      "    for line in open('stopwords_en.txt','r').readlines():\n",
      "        result.add(line.strip())\n",
      "    return result"
     ],
     "language": "python",
     "metadata": {},
     "outputs": [],
     "prompt_number": 13
    },
    {
     "cell_type": "heading",
     "level": 4,
     "metadata": {},
     "source": [
      "\u3053\u306e\u30d1\u30e9\u30e1\u30fc\u30bf\u3092\u4f7f\u7528\u3059\u308b\u4e8b\u3067\uff0c\u65b0\u3057\u304f\u5206\u985e\u3092\u884c\u3046"
     ]
    },
    {
     "cell_type": "code",
     "collapsed": true,
     "input": [
      "clf_5 = Pipeline([('vect', TfidfVectorizer(stop_words= get_stop_words(),\n",
      "                    token_pattern=ur\"\\b[a-z0-9_\\-\\.]+[a-z][a-z0-9_\\-\\.]+\\b\",)),\n",
      "                     ('clf', MultinomialNB()),])"
     ],
     "language": "python",
     "metadata": {},
     "outputs": [],
     "prompt_number": 14
    },
    {
     "cell_type": "heading",
     "level": 4,
     "metadata": {},
     "source": [
      "\u4e0b\u8a18\u306e\u7d50\u679c\u3088\u308a\uff0c\u7cbe\u5ea6\u304c0.86\u304b\u30890.88\u307e\u3067\u4e0a\u304c\u3063\u305f"
     ]
    },
    {
     "cell_type": "code",
     "collapsed": false,
     "input": [
      "evaluate_cross_validation(clf_5,news.data,news.target, 5)"
     ],
     "language": "python",
     "metadata": {},
     "outputs": [
      {
       "output_type": "stream",
       "stream": "stdout",
       "text": [
        "[ 0.88116711  0.89519767  0.88325816  0.89227912  0.88113558]\n",
        "Mean score: 0.887 (+/-0.003)\n"
       ]
      }
     ],
     "prompt_number": 15
    },
    {
     "cell_type": "heading",
     "level": 4,
     "metadata": {},
     "source": [
      "MultinomialNB\u30d1\u30e9\u30e1\u30fc\u30bf\u3067\u6700\u3082\u91cd\u8981\u306a\u306e\u306f\u5e73\u6ed1\u5316\u30d1\u30e9\u30e1\u30fc\u30bf\u3067\u3042\u308a\uff0cclf_7\u3067\u306f\u30c7\u30d5\u30a9\u30eb\u30c8\u5024\u3067\u3042\u308b1.0\u304b\u3089\u4f4e\u3044\u5024\u3067\u3042\u308b0.01\u306b\u8a2d\u5b9a\u3059\u308b\uff0ealpha=0\u306e\u3068\u304d\u5e73\u6ed1\u5316\u306f\u50cd\u304b\u306a\u3044"
     ]
    },
    {
     "cell_type": "code",
     "collapsed": false,
     "input": [
      "clf_7 = Pipeline([('vect',TfidfVectorizer(stop_words=get_stop_words(),\n",
      "                    token_pattern=ur\"\\b[a-z0-9_\\-\\.]+[a-z][a-z0-9_\\-\\.]+\\b\",)),\n",
      "                  ('clf',MultinomialNB(alpha=0.01)),])"
     ],
     "language": "python",
     "metadata": {},
     "outputs": [],
     "prompt_number": 16
    },
    {
     "cell_type": "heading",
     "level": 4,
     "metadata": {},
     "source": [
      "\u6700\u7d42\u7684\u306a\u7d50\u679c\u3092\u898b\u308b\u3068\uff0c0.921\u3068\u975e\u5e38\u306b\u9ad8\u3044\u7d50\u679c\u3068\u306a\u3063\u305f\uff0e<br>\n",
      "\u7cbe\u5ea6\u306e\u5411\u4e0a\u70b9\u3068\u3057\u3066\u30d1\u30e9\u30e1\u30fc\u30bf\u306e\u5024\u306e\u5909\u66f4\u3084stopwords\u306e\u8003\u616e\u306a\u3069\u3092\u884c\u3063\u3066\u304d\u305f\uff0e"
     ]
    },
    {
     "cell_type": "code",
     "collapsed": false,
     "input": [
      "evaluate_cross_validation(clf_7, news.data, news.target, 5)"
     ],
     "language": "python",
     "metadata": {},
     "outputs": [
      {
       "output_type": "stream",
       "stream": "stdout",
       "text": [
        "[ 0.9204244   0.91960732  0.91828071  0.92677103  0.91854603]\n",
        "Mean score: 0.921 (+/-0.002)\n"
       ]
      }
     ],
     "prompt_number": 17
    },
    {
     "cell_type": "heading",
     "level": 2,
     "metadata": {},
     "source": [
      "\u30d1\u30d5\u30a9\u30fc\u30de\u30f3\u30b9\u306e\u8a55\u4fa1"
     ]
    },
    {
     "cell_type": "heading",
     "level": 4,
     "metadata": {},
     "source": [
      "\u30e2\u30c7\u30eb\u306b\u6539\u826f\u3092\u52a0\u3048\u305f\u305f\u3081\uff0c\u30c6\u30b9\u30c8\u30bb\u30c3\u30c8\u3067\u305d\u306e\u6027\u80fd\u3092\u8a55\u4fa1\u3059\u308b\u6e96\u5099\u304c\u6574\u3063\u305f\uff0e\n",
      "\u5b66\u7fd2\u3068\u30c6\u30b9\u30c8\u30bb\u30c3\u30c8\u3067\u306e\u7cbe\u5ea6\u3092\u5168\u4f53\u30c8\u30ec\u30fc\u30cb\u30f3\u30b0\u30bb\u30c3\u30c8\u3067\u30e2\u30c7\u30eb\u3092\u5b66\u7fd2\u3057\uff0c\u8a55\u4fa1\u3059\u308b\u30d8\u30eb\u30d1\u30fc\u95a2\u6570\u3092\u5b9a\u7fa9\u3059\u308b\uff0e\n",
      "\u307e\u305f\uff0c\u5206\u985e\u7d50\u679c(\u5404\u30af\u30e9\u30b9\u306e\u7cbe\u5ea6\u3068\u518d\u73fe\u7387)\u304a\u3088\u3073\u5bfe\u5fdc\u3059\u308b\u6df7\u540c\u884c\u5217\u3092\u51fa\u529b\u3059\u308b\uff0e"
     ]
    },
    {
     "cell_type": "code",
     "collapsed": false,
     "input": [
      "from sklearn import metrics\n",
      "\n",
      "def train_and_evaluate(clf, X_train, X_test, y_train, y_test):\n",
      "    clf.fit(X_train, y_train)\n",
      "    \n",
      "    print \"Accuracy on training set:\"\n",
      "    print clf.score(X_train, y_train)\n",
      "    print \"Accuracy on testing set:\"\n",
      "    print clf.score(X_test, y_test)\n",
      "    y_pred = clf.predict(X_test)\n",
      "    \n",
      "    print \"Classification Report:\"\n",
      "    print metrics.classification_report(y_test, y_pred)\n",
      "    print \"Confusion Matrix:\"\n",
      "    print metrics.confusion_matrix(y_test, y_pred)"
     ],
     "language": "python",
     "metadata": {},
     "outputs": [],
     "prompt_number": 18
    },
    {
     "cell_type": "code",
     "collapsed": false,
     "input": [
      "train_and_evaluate(clf_7, X_train, X_test, y_train, y_test)"
     ],
     "language": "python",
     "metadata": {},
     "outputs": [
      {
       "output_type": "stream",
       "stream": "stdout",
       "text": [
        "Accuracy on training set:\n",
        "0.996957690675"
       ]
      },
      {
       "output_type": "stream",
       "stream": "stdout",
       "text": [
        "\n",
        "Accuracy on testing set:\n",
        "0.917869269949"
       ]
      },
      {
       "output_type": "stream",
       "stream": "stdout",
       "text": [
        "\n",
        "Classification Report:"
       ]
      },
      {
       "output_type": "stream",
       "stream": "stdout",
       "text": [
        "\n",
        "             precision    recall  f1-score   support\n",
        "\n",
        "          0       0.95      0.88      0.91       216\n",
        "          1       0.85      0.85      0.85       246\n",
        "          2       0.91      0.84      0.87       274\n",
        "          3       0.81      0.86      0.83       235\n",
        "          4       0.88      0.90      0.89       231\n",
        "          5       0.89      0.91      0.90       225\n",
        "          6       0.88      0.80      0.84       248\n",
        "          7       0.92      0.93      0.93       275\n",
        "          8       0.96      0.98      0.97       226\n",
        "          9       0.97      0.94      0.96       250\n",
        "         10       0.97      1.00      0.98       257\n",
        "         11       0.97      0.97      0.97       261\n",
        "         12       0.90      0.91      0.91       216\n",
        "         13       0.94      0.95      0.95       257\n",
        "         14       0.94      0.97      0.95       246\n",
        "         15       0.90      0.96      0.93       234\n",
        "         16       0.91      0.97      0.94       218\n",
        "         17       0.97      0.99      0.98       236\n",
        "         18       0.95      0.91      0.93       213\n",
        "         19       0.86      0.78      0.82       148\n",
        "\n",
        "avg / total       0.92      0.92      0.92      4712\n",
        "\n",
        "Confusion Matrix:\n",
        "[[190   0   0   0   1   0   0   0   0   1   0   0   0   1   0   9   2   0\n",
        "    0  12]\n",
        " [  0 208   5   3   3  13   4   0   0   0   0   1   3   2   3   0   0   1\n",
        "    0   0]\n",
        " [  0  11 230  22   1   5   1   0   1   0   0   0   0   0   1   0   1   0\n",
        "    1   0]\n",
        " [  0   6   6 202   9   3   4   0   0   0   0   0   4   0   1   0   0   0\n",
        "    0   0]\n",
        " [  0   2   3   4 208   1   5   0   0   0   2   0   5   0   1   0   0   0\n",
        "    0   0]\n",
        " [  0   9   2   2   1 205   0   1   1   0   0   0   0   2   1   0   0   1\n",
        "    0   0]\n",
        " [  0   2   3  10   6   0 199  14   1   2   0   1   5   2   2   0   0   1\n",
        "    0   0]\n",
        " [  0   1   1   1   1   0   6 257   4   1   0   0   0   1   0   0   2   0\n",
        "    0   0]\n",
        " [  0   0   0   0   0   1   1   2 221   0   0   0   0   1   0   0   0   0\n",
        "    0   0]\n",
        " [  0   0   0   0   0   0   1   0   2 236   5   0   1   3   0   1   1   0\n",
        "    0   0]\n",
        " [  0   0   0   1   0   0   0   0   0   0 256   0   0   0   0   0   0   0\n",
        "    0   0]\n",
        " [  0   0   0   0   0   1   0   1   0   0   0 254   0   1   0   0   3   0\n",
        "    1   0]\n",
        " [  0   1   0   1   5   1   3   1   0   2   1   1 197   1   2   0   0   0\n",
        "    0   0]\n",
        " [  0   1   0   1   1   0   0   0   0   0   0   2   2 245   3   0   1   0\n",
        "    0   1]\n",
        " [  0   2   0   0   1   0   0   1   0   0   0   0   0   1 238   0   1   0\n",
        "    1   1]\n",
        " [  1   0   1   2   0   0   0   1   0   0   0   1   1   0   1 225   0   1\n",
        "    0   0]\n",
        " [  0   0   1   0   0   0   1   0   1   0   0   1   0   0   0   0 212   0\n",
        "    2   0]\n",
        " [  0   1   0   0   0   0   0   0   0   0   0   0   0   0   0   0   0 234\n",
        "    1   0]\n",
        " [  0   0   0   0   0   0   1   0   0   0   0   2   1   1   0   1   7   3\n",
        "  193   4]\n",
        " [  9   0   0   0   0   1   0   0   0   1   0   0   0   0   0  13   4   1\n",
        "    4 115]]\n"
       ]
      }
     ],
     "prompt_number": 19
    }
   ],
   "metadata": {}
  }
 ]
}