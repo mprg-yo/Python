{
 "metadata": {
  "name": "",
  "signature": "sha256:f169412ed666ef62c3c0f63b9abcc4d7955e388f2a0aab957f752b3b31c1c34c"
 },
 "nbformat": 3,
 "nbformat_minor": 0,
 "worksheets": [
  {
   "cells": [
    {
     "cell_type": "heading",
     "level": 1,
     "metadata": {},
     "source": [
      "3\u7ae0 \u30af\u30e9\u30b9\u30bf\u30ea\u30f3\u30b0:\u95a2\u9023\u306e\u3042\u308b\u6587\u66f8\u3092\u898b\u3064\u3051\u308b"
     ]
    },
    {
     "cell_type": "markdown",
     "metadata": {},
     "source": [
      "&nbsp;&nbsp;&nbsp;&nbsp;\u524d\u7ae0\u3067\u306f\u30e9\u30d9\u30eb\u4ed8\u3051\u3055\u308c\u305f\u30c7\u30fc\u30bf\u3092\u7528\u3044\u3066\u30af\u30e9\u30b9\u5206\u985e\u30e2\u30c7\u30eb\u3092\u5b66\u7fd2\u3057\u305f\u304c\uff0c\u672c\u7ae0\u3067\u306f\u30e9\u30d9\u30eb\u4ed8\u304d\u30c7\u30fc\u30bf\u304c\u5165\u624b\u3067\u304d\u306a\u3044\u72b6\u6cc1\u3092\u8003\u3048\u3066\u3044\u304f\uff0e\u30e9\u30d9\u30eb\u304c\u4ed8\u3044\u3066\u3044\u306a\u3044\u554f\u984c\u306b\u5bfe\u3057\u3066\u306f<b>\u30af\u30e9\u30b9\u30bf\u30ea\u30f3\u30b0(clustering)</b>\u3092\u7528\u3044\u308b\u4e8b\u3067\u554f\u984c\u3092\u89e3\u6c7a\u3067\u304d\u308b\uff0e\u30af\u30e9\u30b9\u30bf\u3068\u306f\uff0c\u30c7\u30fc\u30bf\u96c6\u5408\u306e\u90e8\u5206\u96c6\u5408\u3067\u3042\u308a\uff0c\u30af\u30e9\u30b9\u30bf\u30ea\u30f3\u30b0\u3068\u306f\uff0c\u4f3c\u3066\u3044\u308b\u30e2\u30ce\u306f\u540c\u3058\u30af\u30e9\u30b9\u30bf\u306b\u5206\u985e\u3057\uff0c\u4f3c\u3066\u3044\u306a\u3044\u30e2\u30ce\u306f\u5225\u306e\u30af\u30e9\u30b9\u30bf\u306b\u5206\u985e\u3059\u308b\u624b\u6cd5\u306e\u3053\u3068\u3092\u8a00\u3046\uff0e\u3053\u3053\u3067\uff0c\u307e\u305a\u521d\u3081\u306b\u8003\u3048\u306a\u3051\u308c\u3070\u306a\u3089\u306a\u3044\u554f\u984c\u306f\uff0c\u30c6\u30ad\u30b9\u30c8\u30c7\u30fc\u30bf\u306b\u3064\u3044\u3066\u3067\u3042\u308b\uff0e\u5177\u4f53\u7684\u306b\u306f\uff0c\u30c6\u30ad\u30b9\u30c8\u30c7\u30fc\u30bf\u540c\u58eb\u3067\u985e\u4f3c\u5ea6\u3092\u7b97\u51fa\u3059\u308b\u65b9\u6cd5\u304c\u5fc5\u8981\u3068\u306a\u308b\uff0e\u985e\u4f3c\u5ea6\u304c\u8a08\u7b97\u3067\u304d\u3066\u521d\u3081\u3066\uff0c\u300c\u985e\u4f3c\u3057\u305f\u6587\u66f8\u3092\u542b\u3080\u30af\u30e9\u30b9\u30bf\u3092\uff0c\u3044\u304b\u306b\u65e9\u304f\u898b\u3064\u3051\u51fa\u3059\u304b?\u300d\u3068\u3044\u3046\u554f\u984c\u306b\u3064\u3044\u3066\u8003\u3048\u308b\u3053\u3068\u304c\u3067\u304d\u308b\uff0e\u3053\u308c\u3092\u884c\u3046\u305f\u3081\u306b\uff0cScikit-learn\u306e\u6a5f\u80fd\u3092\u5229\u7528\u3059\u308b\uff0eScikit-learn\u3092\u7528\u3044\u308b\u3053\u3068\u3067\uff0c\u6a5f\u68b0\u5b66\u7fd2\u306b\u95a2\u3059\u308b\u69d8\u3005\u306a\u624b\u6cd5\u304c\u5229\u7528\u3067\u304d\u308b\uff0e"
     ]
    },
    {
     "cell_type": "heading",
     "level": 2,
     "metadata": {},
     "source": [
      "3.1 \u6587\u66f8\u306e\u95a2\u9023\u6027\u3092\u8a08\u6e2c\u3059\u308b"
     ]
    },
    {
     "cell_type": "markdown",
     "metadata": {},
     "source": [
      "&nbsp;&nbsp;&nbsp;&nbsp;\u6a5f\u68b0\u5b66\u7fd2\u306e\u89b3\u70b9\u304b\u3089\u306f\uff0c\u30c6\u30ad\u30b9\u30c8\u30c7\u30fc\u30bf\u3060\u3051\u3067\u306f\u4f55\u3082\u5f79\u306b\u7acb\u305f\u306a\u3044\uff0e\u30c6\u30ad\u30b9\u30c8\u30c7\u30fc\u30bf\u3092\u610f\u5473\u306e\u3042\u308b\u6570\u5b57\u306b\u5909\u63db\u3067\u304d\u3066\u521d\u3081\u3066\uff0c\u30af\u30e9\u30b9\u30bf\u30ea\u30f3\u30b0\u306a\u3069\u306e\u6a5f\u68b0\u5b66\u7fd2\u30a2\u30eb\u30b4\u30ea\u30ba\u30e0\u306b\u5165\u529b\u3059\u308b\u3053\u3068\u304c\u3067\u304d\u308b\uff0e\u3053\u308c\u306f\uff0c\u30c6\u30ad\u30b9\u30c8\u30c7\u30fc\u30bf\u306e\u985e\u4f3c\u5ea6\u3092\u7b97\u51fa\u3059\u308b\u5834\u5408\u3067\u3082\u540c\u3058\u3053\u3068\u3067\u3042\u308b\uff0e"
     ]
    },
    {
     "cell_type": "heading",
     "level": 3,
     "metadata": {},
     "source": [
      "3.1.1 \u3084\u3063\u3066\u306f\u3044\u3051\u306a\u3044\u3053\u3068"
     ]
    },
    {
     "cell_type": "markdown",
     "metadata": {},
     "source": [
      "\u30c6\u30ad\u30b9\u30c8\u30c7\u30fc\u30bf\u306e\u985e\u4f3c\u5ea6\u3092\u6c42\u3081\u308b\u305f\u3081\u306b\uff0c\u30ec\u30fc\u30d9\u30f3\u30b7\u30e5\u30bf\u30a4\u30f3\u8ddd\u96e2(Levenshtein distance)\u3092\u7528\u3044\u308b\u3053\u3068\u304c\u3067\u304d\u308b\uff0e\u30ec\u30fc\u30d9\u30b7\u30e5\u30bf\u30a4\u30f3\u8ddd\u96e2\u306f<b>\u7de8\u96c6\u8ddd\u96e2</b>\u3068\u547c\u3070\u308c\u308b\u3053\u3068\u3082\u3042\u308b\uff0e\u610f\u5473\u306f\uff0c\u4e8c\u3064\u306e\u5358\u8a9e\u304c\u3042\u3063\u305f\u5834\u5408\uff0c\u4e00\u65b9\u306e\u5358\u8a9e\u3092\u3082\u3046\u4e00\u65b9\u306e\u5358\u8a9e\u3068\u540c\u3058\u30a2\u30eb\u30d5\u30a1\u30d9\u30c3\u30c8\u306e\u4e26\u3073\u306b\u3059\u308b\u305f\u3081\u306b\uff0c\u7de8\u96c6\u3092\u884c\u3046\u6700\u5c0f\u56de\u6570\u3092\u8a00\u3046\uff0e\u305f\u3068\u3048\u3070\u300cmachine\u300d\u3068\u300cmchiene\u300d\u3068\u3044\u3046\u5358\u8a9e\u304c\u3042\u3063\u305f\u3068\u3059\u308b\uff0e\u3053\u306e\u5834\u5408\uff0c\u7de8\u96c6\u8ddd\u96e2\u306f2\u306b\u306a\u308b\uff0e\u307e\u305a\uff0cm\u306e\u5f8c\u306ba\u3092\u633f\u5165\u3057\u3066\uff0c\u6700\u521d\u306ee\u3092\u524a\u9664\u3059\u308b\uff0e\u3057\u304b\u3057\uff0c\u3053\u308c\u3092\u884c\u3046\u305f\u3081\u306e\u30a2\u30eb\u30b4\u30ea\u30ba\u30e0\u306f\u3068\u3066\u3082\u8a08\u7b97\u30b3\u30b9\u30c8\u304c\u9ad8\u304f\u306a\u308b\uff0e\u306a\u305c\u306a\u3089\u3001\u4e8c\u3064\u306e\u5358\u8a9e\u306e\u6587\u5b57\u3092\u7d44\u307f\u5408\u308f\u305b\u3066\u8003\u3048\u306a\u3051\u308c\u3070\u306a\u3089\u306a\u3044\u304b\u3089\u3067\u3042\u308b\uff0e<br>\n"
     ]
    },
    {
     "cell_type": "markdown",
     "metadata": {},
     "source": [
      "\u3044\u304f\u3064\u304b\u306e\u4f8b\u898b\u306a\u304c\u3089\uff0c\u7de8\u96c6\u8ddd\u96e2\u3092\u8003\u3048\u308b\uff0e\u3053\u3053\u3067\u306f\uff0c\u6587\u7ae0\u5185\u306e\u5358\u8a9e\u3092\u6700\u5c0f\u5358\u4f4d\u3068\u3057\u3066\u6271\u3044\uff0c\u6587\u7ae0\u5168\u4f53\u3067\u7de8\u96c6\u8ddd\u96e2\u3092\u8a08\u6e2c\u3059\u308b\uff0e<br>\n",
      "\u4f8b\u3048\u3070\uff0c\u4ee5\u4e0b\u306e\u4e8c\u3064\u306e\u6587\u7ae0\u304c\u3042\u308b\u3068\u3059\u308b\uff0e<br>"
     ]
    },
    {
     "cell_type": "markdown",
     "metadata": {},
     "source": [
      "<LI>How to format my hard disk</LI>\n",
      "<LI>Hard disk format problems</LI>"
     ]
    },
    {
     "cell_type": "markdown",
     "metadata": {},
     "source": [
      "\u3053\u306e\u5834\u5408\uff0c\u7de8\u96c6\u8ddd\u96e2\u306f6\u3068\u3059\u308b\u3053\u3068\u304c\u3067\u304d\u308b\uff0e(how\uff0cto\uff0cformat\uff0cmy\u3092\u524a\u9664\u3057\u3066\uff0c\u305d\u308c\u304b\u3089format\uff0cproblems\u3092\u6587\u306e\u6700\u5f8c\u306b\u8ffd\u52a0\u3059\u308b)<br>\n",
      "\u305d\u306e\u305f\u3081\uff0c\u4e8c\u3064\u306e\u6587\u66f8\u304c\u3069\u308c\u3060\u3051\u7570\u306a\u308b\u304b\u3068\u3044\u3046\u3053\u3068\u3092\u8868\u3059\u305f\u3081\u306b\u306f\uff0c\u4e8c\u3064\u306e\u6587\u7ae0\u3092\u540c\u3058\u6587\u7ae0\u306b\u3059\u308b\u305f\u3081\u306b\u5358\u8a9e\u306e\u8ffd\u52a0\u3068\u524a\u9664\u3092\u884c\u3046\u56de\u6570\u3067\u8868\u3059\u4e8b\u304c\u3067\u304d\u305d\u3046\u3067\u3042\u308b\uff0e\u3053\u306e\u5358\u8a9e\u30ec\u30d9\u30eb\u306e\u7de8\u96c6\u8ddd\u96e2\u306e\u65b9\u304c\uff0c\u6587\u5b57\u30ec\u30d9\u30eb\u306e\u7de8\u96c6\u8ddd\u96e2\u3088\u308a\uff0c\u51e6\u7406\u901f\u5ea6\u3092\u5411\u4e0a\u3067\u304d\u305d\u3046\u3067\u3042\u308b\uff0e\u3057\u304b\u3057\uff0c\u6642\u9593\u306e\u8a08\u7b97\u91cf\u306f\u540c\u3058\u3067\u3042\u308b\u305f\u3081\uff0c\u4ee5\u524d\u3068\u3057\u3066\u51e6\u7406\u901f\u5ea6\u306b\u3064\u3044\u3066\u306e\u554f\u984c\u304c\u6b8b\u308b\uff0e<br>\u307e\u305f\uff0c\u51e6\u7406\u901f\u5ea6\u306e\u4ed6\u306b\u3082\u554f\u984c\u304c\u3042\u308b\uff0e\u305d\u308c\u306f\uff0c\u5148\u307b\u3069\u306e\u4f8b\u3067\u306f\u300cformat\u300d\u3068\u3044\u3046\u5358\u8a9e\u304c\u7de8\u96c6\u8ddd\u96e2\u30922\u3064\u5fc5\u8981\u3068\u3059\u308b\u4e8b\u3067\u3042\u308b(\u6700\u521d\u306b\u6d88\u53bb\u3057\uff0c\u305d\u306e\u5f8c\u3067\u8ffd\u52a0\u3059\u308b)\uff0e\u305d\u306e\u305f\u3081\uff0c\u3053\u306e\u300c\u5358\u8a9e\u30ec\u30d9\u30eb\u306e\u7de8\u96c6\u8ddd\u96e2\u300d\u306e\u8003\u3048\u65b9\u306f\uff0c\u5358\u8a9e\u306e\u9806\u756a\u306b\u3064\u3044\u3066\u9811\u5065\u3068\u306f\u3044\u3048\u306a\u3044\uff0e"
     ]
    },
    {
     "cell_type": "heading",
     "level": 3,
     "metadata": {},
     "source": [
      "3.1.2 \u3069\u3046\u3084\u308b\u3079\u304d\u304b"
     ]
    },
    {
     "cell_type": "markdown",
     "metadata": {},
     "source": [
      "\u7de8\u96c6\u8ddd\u96e2\u3088\u308a\u624b\u8efd\u306a\u624b\u6cd5\u3068\u3057\u3066\uff0c<b>bag-of-words</b>\u3068\u547c\u3070\u308c\u308b\u30a2\u30d7\u30ed\u30fc\u30c1\u304c\u3042\u308b\uff0e\u3053\u306e\u624b\u6cd5\u306f\u5358\u8a9e\u306e\u51fa\u73fe\u56de\u6570\u3092\u7279\u5fb4\u91cf\u3068\u3057\u3066\u7528\u3044\u308b\uff0e\u6587\u66f8\u306e\u5404\u5358\u8a9e\u306b\u5bfe\u3057\u3066\uff0c\u51fa\u73fe\u56de\u6570\u3092\u30ab\u30a6\u30f3\u30c8\u3057\uff0c\u7d50\u679c\u3092\u30d9\u30af\u30c8\u30eb\u3067\u8868\u8a18\u3059\u308b\uff0e\u3053\u306e\u6bb5\u968e\u306f\u30d9\u30af\u30c8\u30eb\u5316(vectorization)\u3068\u547c\u3070\u308c\u308b\uff0e\u4e00\u822c\u7684\u306b\u30d9\u30af\u30c8\u30eb\u306e\u30b5\u30a4\u30ba\u306f\u5927\u304d\u304f\u306a\u308b\uff0e\u306a\u305c\u306a\u3089\uff0c\u30d9\u30af\u30c8\u30eb\u306e\u30b5\u30a4\u30ba\u306f\u5168\u30c7\u30fc\u30bf\u30bb\u30c3\u30c8\u4e2d\u306b\u5b58\u5728\u3059\u308b\u5358\u8a9e\u306e\u7a2e\u985e\u306e\u6570\u3068\u540c\u3058\u30b5\u30a4\u30ba\u306b\u306a\u308b\u304b\u3089\u3067\u3042\u308b\uff0e\u5148\u307b\u3069\u306e\u6587\u66f8\u306e\u4f8b\u306b\u3064\u3044\u3066\uff0c\u5358\u8a9e\u306e\u51fa\u73fe\u56de\u6570\u306f\u4ee5\u4e0b\u306e\u8868\u306e\u3088\u3046\u306b\u306a\u308b\uff0e"
     ]
    },
    {
     "cell_type": "code",
     "collapsed": false,
     "input": [
      "from IPython.display import HTML"
     ],
     "language": "python",
     "metadata": {},
     "outputs": [],
     "prompt_number": 280
    },
    {
     "cell_type": "code",
     "collapsed": false,
     "input": [
      "r = \"\"\"<table>\n",
      "<tr>\n",
      "<th>\u5358\u8a9e</th>\n",
      "<th>\u6587\u66f81\u3067\u306e\u51fa\u73fe\u56de\u6570</th>\n",
      "<th>\u6587\u66f82\u3067\u306e\u51fa\u73fe\u56de\u6570</th>\n",
      "</tr>\n",
      "<tr>\n",
      "<td>disk</td>\n",
      "<td>1</td>\n",
      "<td>1</td>\n",
      "</tr>\n",
      "<tr>\n",
      "<td>format</td>\n",
      "<td>1</td>\n",
      "<td>1</td>\n",
      "</tr>\n",
      "<tr>\n",
      "<td>now</td>\n",
      "<td>1</td>\n",
      "<td>0</td>\n",
      "</tr>\n",
      "<tr>\n",
      "<td>hard</td>\n",
      "<td>1</td>\n",
      "<td>1</td>\n",
      "</tr>\n",
      "<tr>\n",
      "<td>my</td>\n",
      "<td>1</td>\n",
      "<td>0</td>\n",
      "</tr>\n",
      "<tr>\n",
      "<td>problem</td>\n",
      "<td>0</td>\n",
      "<td>1</td>\n",
      "</tr>\n",
      "<tr>\n",
      "<td>to</td>\n",
      "<td>1</td>\n",
      "<td>0</td>\n",
      "</tr>\n",
      "</table>\"\"\""
     ],
     "language": "python",
     "metadata": {},
     "outputs": [],
     "prompt_number": 281
    },
    {
     "cell_type": "code",
     "collapsed": false,
     "input": [
      "r = HTML(r); r"
     ],
     "language": "python",
     "metadata": {},
     "outputs": [
      {
       "html": [
        "<table>\n",
        "<tr>\n",
        "<th>\u5358\u8a9e</th>\n",
        "<th>\u6587\u66f81\u3067\u306e\u51fa\u73fe\u56de\u6570</th>\n",
        "<th>\u6587\u66f82\u3067\u306e\u51fa\u73fe\u56de\u6570</th>\n",
        "</tr>\n",
        "<tr>\n",
        "<td>disk</td>\n",
        "<td>1</td>\n",
        "<td>1</td>\n",
        "</tr>\n",
        "<tr>\n",
        "<td>format</td>\n",
        "<td>1</td>\n",
        "<td>1</td>\n",
        "</tr>\n",
        "<tr>\n",
        "<td>now</td>\n",
        "<td>1</td>\n",
        "<td>0</td>\n",
        "</tr>\n",
        "<tr>\n",
        "<td>hard</td>\n",
        "<td>1</td>\n",
        "<td>1</td>\n",
        "</tr>\n",
        "<tr>\n",
        "<td>my</td>\n",
        "<td>1</td>\n",
        "<td>0</td>\n",
        "</tr>\n",
        "<tr>\n",
        "<td>problem</td>\n",
        "<td>0</td>\n",
        "<td>1</td>\n",
        "</tr>\n",
        "<tr>\n",
        "<td>to</td>\n",
        "<td>1</td>\n",
        "<td>0</td>\n",
        "</tr>\n",
        "</table>"
       ],
       "metadata": {},
       "output_type": "pyout",
       "prompt_number": 282,
       "text": [
        "<IPython.core.display.HTML at 0x117a9bfd0>"
       ]
      }
     ],
     "prompt_number": 282
    },
    {
     "cell_type": "markdown",
     "metadata": {},
     "source": [
      "<br>\n",
      "\u6587\u66f81\u3068\u6587\u66f8\uff12\u306e\u5217\u306f\uff0c\u30d9\u30af\u30c8\u30eb\u3068\u3057\u3066\u6271\u3046\u3053\u3068\u304c\u3067\u304d\u4ee5\u4e0b\u306e\u3088\u3046\u306b\u8868\u8a18\u3067\u304d\u308b\uff0e\n",
      "<br>\n",
      "<LI>\u6587\u66f81:(1,1,1,1,1,0,1)</LI>\n",
      "<LI>\u6587\u66f82:(1,1,0,1,0,1,0)</LI>\n"
     ]
    },
    {
     "cell_type": "markdown",
     "metadata": {},
     "source": [
      "\u3053\u306e\u3088\u3046\u306b\u30d9\u30af\u30c8\u30eb\u5316\u3059\u308c\u3070\uff0c\u30c7\u30fc\u30bf\u30bb\u30c3\u30c8\u4e2d\u306e\u5168\u3066\u306e\u6587\u66f8\u9593\u3067\u30e6\u30fc\u30af\u30ea\u30c3\u30c9\u8ddd\u96e2\u3092\u8a08\u7b97\u3059\u308b\u3053\u3068\u304c\u3067\u304d\uff0c\u6700\u8fd1\u508d\u70b9\u3092\u898b\u3064\u3051\u308b\u3053\u3068\u304c\u3067\u304d\u308b\uff0e\u307e\u305f\uff0c\u5404\u30b5\u30f3\u30d7\u30eb\u30c7\u30fc\u30bf\u3092\u7279\u5fb4\u30d9\u30af\u30c8\u30eb(feature vectors)\u306e\u5f62\u3067\u6271\u3046\u3053\u3068\u3067\uff0c\u30af\u30e9\u30b9\u30bf\u30ea\u30f3\u30b0\u3092\u884c\u3046\u3053\u3068\u304c\u3067\u304d\u308b\uff0e<br>\n",
      "\u4ee5\u4e0b\u3067\u306f\uff0c\u30af\u30e9\u30b9\u30bf\u30ea\u30f3\u30b0\u306b\u3064\u3044\u3066\u898b\u3066\u3044\u304f\uff0e\u4ee5\u4e0b\u306b\u793a\u3059\u306e\u306f\uff0c\u30af\u30e9\u30b9\u30bf\u30ea\u30f3\u30b0\u51e6\u7406\u3092\u884c\u3046\u624b\u9806\u3068\u306a\u308b\uff0e<br>"
     ]
    },
    {
     "cell_type": "markdown",
     "metadata": {},
     "source": [
      "&nbsp;&nbsp;&nbsp;&nbsp;1. \u5404\u6587\u66f8\u304b\u3089\u7279\u5fb4\u91cf\u3092\u62bd\u51fa\u3057\uff0c\u7279\u5fb4\u30d9\u30af\u30c8\u30eb\u306e\u5f62\u3067\u4fdd\u5b58\u3059\u308b\uff0e<br>\n",
      "&nbsp;&nbsp;&nbsp;&nbsp;2. \u7279\u5fb4\u30d9\u30af\u30c8\u30eb\u306b\u5bfe\u3057\u3066\uff0c\u30af\u30e9\u30b9\u30bf\u30ea\u30f3\u30b0\u3092\u884c\u3046\uff0e<br>\n",
      "&nbsp;&nbsp;&nbsp;&nbsp;3. \u6295\u7a3f\u3055\u308c\u305f\u8cea\u554f\u6587\u66f8\u306b\u5bfe\u3057\u3066\uff0c\u30af\u30e9\u30b9\u30bf\u3092\u6c7a\u5b9a\u3059\u308b\uff0e<br>\n",
      "&nbsp;&nbsp;&nbsp;&nbsp;4. \u6c7a\u5b9a\u3057\u305f\u30af\u30e9\u30b9\u30bf\u306b\u5c5e\u3059\u308b\u6587\u66f8\u3092\u4ed6\u306b\u3044\u304f\u3064\u304b\u96c6\u3081\u308b\uff0e\u3053\u308c\u306b\u3088\u308a\uff0c\u591a\u69d8\u6027\u3092\u5897\u3059\u4e8b\u304c\u3067\u304d\u308b\uff0e<br>"
     ]
    },
    {
     "cell_type": "markdown",
     "metadata": {},
     "source": [
      "\u30af\u30e9\u30b9\u30bf\u30ea\u30f3\u30b0\u306f\u4e0a\u8a18\u306e\u624b\u9806\u3067\u884c\u3046\u304c\uff0c\u305d\u306e\u524d\u306b\u30c7\u30fc\u30bf\u306b\u624b\u3092\u52a0\u3048\u308b\u5fc5\u8981\u304c\u3042\u308b\uff0e"
     ]
    },
    {
     "cell_type": "heading",
     "level": 2,
     "metadata": {},
     "source": [
      "3.2 \u524d\u51e6\u7406:\u5171\u901a\u3059\u308b\u5358\u8a9e\u306e\u51fa\u73fe\u56de\u6570\u3092\u985e\u4f3c\u5ea6\u3068\u3057\u3066\u8a08\u6e2c\u3059\u308b"
     ]
    },
    {
     "cell_type": "markdown",
     "metadata": {},
     "source": [
      "bag-of-word\u306f\u9ad8\u901f\u3067\u3042\u308a\uff0c\u30ed\u30d0\u30b9\u30c8\u6027\u3092\u3082\u3064\uff0e\u3057\u304b\u3057\uff0c\u554f\u984c\u304c\u306a\u3044\u308f\u3051\u3067\u306f\u306a\u304f\uff0c\u4ee5\u4e0b\u3067\u306f\u305d\u306e\u554f\u984c\u306b\u3064\u3044\u3066\u898b\u3066\u3044\u304f\uff0e"
     ]
    },
    {
     "cell_type": "heading",
     "level": 3,
     "metadata": {},
     "source": [
      "3.2.1 \u30c6\u30ad\u30b9\u30c8\u30c7\u30fc\u30bf\u3092bag-of-word\u306b\u5909\u63db\u3059\u308b"
     ]
    },
    {
     "cell_type": "markdown",
     "metadata": {},
     "source": [
      "Scikit-learn\u306e\u95a2\u6570\u3092\u4f7f\u7528\u3059\u308b\u3053\u3068\u3067\uff0c\u3044\u3061\u3044\u3061\u5358\u8a9e\u306e\u51fa\u73fe\u56de\u6570\u3092\u6570\u3048\uff0c\u305d\u308c\u3092\u30d9\u30af\u30c8\u30eb\u3067\u8868\u8a18\u3059\u308b\u305f\u3081\u306e\u30b3\u30fc\u30c9\u3092\u66f8\u304b\u306a\u304f\u3066\u3082\u3088\u3044\uff0e<br>\n",
      "\u4eca\u56de\u306fCountVectorizer\u304c\u305d\u306e\u4f5c\u696d\u3092\u52b9\u7387\u7684\u306b\u884c\u3063\u3066\u304f\u308c\u308b\uff0eScikit-learn\u306e\u95a2\u6570\u3068\u30af\u30e9\u30b9\u306fsklearn\u30d1\u30c3\u30b1\u30fc\u30b8\u3092\u7d4c\u7531\u3057\u3066\uff0c\u4ee5\u4e0b\u306e\u3088\u3046\u306b\u30a4\u30f3\u30dd\u30fc\u30c8\u3059\u308b\u3053\u3068\u304c\u3067\u304d\u308b\uff0e"
     ]
    },
    {
     "cell_type": "code",
     "collapsed": false,
     "input": [
      "from sklearn.feature_extraction.text import CountVectorizer\n",
      "vectorizer = CountVectorizer(min_df=1)"
     ],
     "language": "python",
     "metadata": {},
     "outputs": [],
     "prompt_number": 283
    },
    {
     "cell_type": "markdown",
     "metadata": {},
     "source": [
      "\u4e0a\u8a18\u306e\u30b3\u30fc\u30c9\u4e2d\u306emin_df\u3068\u3044\u3046\u30d1\u30e9\u30e1\u30fc\u30bf\u306f\uff0c\u983b\u7e41\u306b\u4f7f\u308f\u308c\u3066\u3044\u306a\u3044\u5358\u8a9e\u3092CountVectorizer\u304c\u7121\u8996\u3059\u308b\u3068\u304d\u306b\u4f7f\u7528\u3059\u308b\uff0e\u3082\u3057\uff0c\u8a2d\u5b9a\u3059\u308b\u5024\u304c\u6574\u6570\u3067\u3042\u308c\u3070\uff0c\u305d\u306e\u6570\u3088\u308a\u51fa\u73fe\u56de\u6570\u306e\u5c0f\u3055\u3044\u5358\u8a9e\u306f\u7121\u8996\u3055\u308c\u308b\uff0e\u8a2d\u5b9a\u3059\u308b\u5024\u304c\u5206\u6570\u3067\u3042\u308c\u3070\uff0c\u30c7\u30fc\u30bf\u30bb\u30c3\u30c8\u306e\u6570\u306b\u305d\u306e\u5206\u6570\u3092\u639b\u3051\u305f\u5024\u3092\u57fa\u6e96\u3068\u3059\u308b\uff0emax_df\u3068\u3044\u3046\u30d1\u30e9\u30e1\u30fc\u30bf\u3082\u540c\u69d8\u306a\u6a5f\u80fd\u3092\u3082\u3064\uff0e\u751f\u6210\u3057\u305f\u30a4\u30f3\u30b9\u30bf\u30f3\u30b9\u3092print\u3059\u308b\u3053\u3068\u3067\uff0c\u95a2\u6570\u306e\u30d1\u30e9\u30e1\u30fc\u30bf\u3068\u3057\u3066\uff0c\u4ed6\u306b\u3069\u306e\u3088\u3046\u306a\u5024\u3092\u8a2d\u5b9a\u3057\u3066\u3044\u308b\u304b\u898b\u308b\u3053\u3068\u304c\u3067\u304d\u308b\uff0e"
     ]
    },
    {
     "cell_type": "code",
     "collapsed": false,
     "input": [
      "print(vectorizer)"
     ],
     "language": "python",
     "metadata": {},
     "outputs": [
      {
       "output_type": "stream",
       "stream": "stdout",
       "text": [
        "CountVectorizer(analyzer=u'word', binary=False, charset=None,\n",
        "        charset_error=None, decode_error=u'strict',\n",
        "        dtype=<type 'numpy.int64'>, encoding=u'utf-8', input=u'content',\n",
        "        lowercase=True, max_df=1.0, max_features=None, min_df=1,\n",
        "        ngram_range=(1, 1), preprocessor=None, stop_words=None,\n",
        "        strip_accents=None, token_pattern=u'(?u)\\\\b\\\\w\\\\w+\\\\b',\n",
        "        tokenizer=None, vocabulary=None)\n"
       ]
      }
     ],
     "prompt_number": 284
    },
    {
     "cell_type": "markdown",
     "metadata": {},
     "source": [
      "\u4e0a\u8a18\u306e\u7d50\u679c\u3092\u898b\u308b\u3068analyzer=word\u3068\u3044\u3046\u30d1\u30e9\u30e1\u30fc\u30bf\u304c\u3042\u308b\uff0e\u3053\u308c\u306f\u5358\u8a9e\u30ec\u30d9\u30eb\u3067\u51fa\u73fe\u56de\u6570\u304c\u6570\u3048\u3089\u308c\u3066\u3044\u308b\u4e8b\u3092\u793a\u3057\u3066\u3044\u308b\uff0e\u307e\u305f\uff0ctoken_pattern\u306b\u306f\u6b63\u898f\u8868\u73fe\u304c\u6307\u5b9a\u3055\u308c\u3066\u3044\u308b\uff0e\u3053\u308c\u306f\u5358\u8a9e\u306e\u6c7a\u5b9a\u65b9\u6cd5\u3092\u5b9a\u7fa9\u3057\u3066\u3044\u308b\uff0e\u3053\u306e\u6b63\u898f\u8868\u73fe\u3092\u5909\u66f4\u3059\u308b\u3053\u3068\u3067\uff0c\u305f\u3068\u3048\u3070corss-validated\u3068\u3044\u3046\u5358\u8a9e\u3092cross\u3068validated\u306b\u5206\u3051\u3066\u30c8\u30fc\u30af\u30f3\u5316(tokenize)\u3059\u308b\u3053\u3068\u304c\u3067\u304d\u308b\uff0e"
     ]
    },
    {
     "cell_type": "code",
     "collapsed": false,
     "input": [
      "content = [\"How to format my hard disk\", \" Hard disk format problems \"]\n",
      "X = vectorizer.fit_transform(content)\n",
      "#content\u5185\u306e\u6570\u3048\u308b\u3079\u304d\u5358\u8a9e\u3092\u51fa\u529b\n",
      "vectorizer.get_feature_names()"
     ],
     "language": "python",
     "metadata": {},
     "outputs": [
      {
       "metadata": {},
       "output_type": "pyout",
       "prompt_number": 285,
       "text": [
        "[u'disk', u'format', u'hard', u'how', u'my', u'problems', u'to']"
       ]
      }
     ],
     "prompt_number": 285
    },
    {
     "cell_type": "markdown",
     "metadata": {},
     "source": [
      "<dr>\n",
      "\u4e0a\u8a18\u306e\u30b3\u30fc\u30c9\u3067vectorizer\u306f\uff0c7\u3064\u306e\u5358\u8a9e\u3092\u30c8\u30fc\u30af\u30f3(\u51fa\u73fe\u56de\u6570\u3092\u6570\u3048\u308b\u3079\u304d\u5358\u8a9e)\u3068\u3057\u3066\u629c\u304d\u51fa\u3057\u305f\uff0e"
     ]
    },
    {
     "cell_type": "code",
     "collapsed": false,
     "input": [
      "print(X.toarray().transpose())"
     ],
     "language": "python",
     "metadata": {},
     "outputs": [
      {
       "output_type": "stream",
       "stream": "stdout",
       "text": [
        "[[1 1]\n",
        " [1 1]\n",
        " [1 1]\n",
        " [1 0]\n",
        " [1 0]\n",
        " [0 1]\n",
        " [1 0]]\n"
       ]
      }
     ],
     "prompt_number": 286
    },
    {
     "cell_type": "markdown",
     "metadata": {},
     "source": [
      "<dr>\n",
      "\u3053\u308c\u306f\uff0c\u521d\u3081\u306e\u6587\u7ae0\u304cproblems\u4ee5\u5916\u306e\u5358\u8a9e\u3092\u5168\u3066\u542b\u3093\u3067\u3044\u3066\uff0c\u4e8c\u3064\u76ee\u306e\u6587\u7ae0\u304chow\uff0cmy\uff0cto\u3092\u9664\u3044\u305f\u5358\u8a9e\u3092\u5168\u3066\u542b\u3093\u3067\u3044\u308b\u3053\u3068\u3092\u793a\u3057\u3066\u3044\u308b\uff0e\u5b9f\u969b3.1.2\u3067\u4f5c\u6210\u3057\u305f\u8868\u3068\u540c\u3058\u5f62\u3092\u3057\u3066\u304a\u308a\uff0c\u4e8c\u3064\u306e\u30d9\u30af\u30c8\u30eb\u306e\u884c\u6570\u306f\u540c\u3058\u3068\u306a\u308b\uff0e\u3053\u306e\u5909\u6570X\u304b\u3089\u7279\u5fb4\u30d9\u30af\u30c8\u30eb\u3092\u53d6\u5f97\u3059\u308b\u3053\u3068\u304c\u3067\u304d\uff0c\u305d\u306e\u7279\u5fb4\u30d9\u30af\u30c8\u30eb\u306b\u3088\u3063\u3066\uff0c\u4e8c\u3064\u306e\u6587\u7ae0\u3092\u6bd4\u8f03\u3059\u308b\u3053\u3068\u304c\u3067\u304d\u308b\uff0e<br>\n",
      "\u307e\u305a\uff0c\u5358\u7d14\u306a\u30a2\u30d7\u30ed\u30fc\u30c1\u304b\u3089\u59cb\u3081\u308b\uff0e\u30e9\u30f3\u30c0\u30e0\u306b\u5206\u66f8\u3092\u3072\u3068\u3064\u9078\u3093\u3067\uff0c\u305d\u306e\u7279\u5fb4\u30d9\u30af\u30c8\u30eb\u3092\u8a08\u7b97\u3059\u308b\uff0e\u305d\u3057\u3066\uff0c\u4ed6\u306e\u6587\u66f8\u306e\u7279\u5fb4\u30d9\u30af\u30c8\u30eb\u3068\u306e\u8ddd\u96e2\u3092\u5168\u3066\u7b97\u51fa\u3057\uff0c\u6700\u3082\u8ddd\u96e2\u306e\u5c0f\u3055\u3044\u6587\u66f8\u3092\u9078\u629e\u3059\u308b\uff0e"
     ]
    },
    {
     "cell_type": "heading",
     "level": 3,
     "metadata": {},
     "source": [
      "3.2.2 \u5358\u8a9e\u3092\u6570\u3048\u308b"
     ]
    },
    {
     "cell_type": "code",
     "collapsed": false,
     "input": [
      "s = \"\"\"<table>\n",
      "<tr>\n",
      "<th>\u6587\u66f8\u306e\u30d5\u30a1\u30a4\u30eb\u540d</th>\n",
      "<th>\u6587\u66f8\u306e\u4e2d\u8eab</th>\n",
      "</tr>\n",
      "<tr>\n",
      "<td>01.txt</td>\n",
      "<td>This is a toy post about machine learning. Actually, it contains not much interesting stuff.</td>\n",
      "</tr>\n",
      "<tr>\n",
      "<td>02.txt</td>\n",
      "<td>Imaging databases provide storage capabilities.</td>\n",
      "</tr>\n",
      "<tr>\n",
      "<td>03.txt</td>\n",
      "<td>Most imaging databases safe images permanently.</td>\n",
      "</tr>\n",
      "<tr>\n",
      "<td>04.txt</td>\n",
      "<td>Imaging databases store images.</td>\n",
      "</tr>\n",
      "<tr>\n",
      "<td>05.txt</td>\n",
      "<td>Imaging databases store images. Imaging databases store images. Imaging databases store images.</td>\n",
      "</tr>\n",
      "</table>\"\"\""
     ],
     "language": "python",
     "metadata": {},
     "outputs": [],
     "prompt_number": 287
    },
    {
     "cell_type": "code",
     "collapsed": false,
     "input": [
      "h = HTML(s); h"
     ],
     "language": "python",
     "metadata": {},
     "outputs": [
      {
       "html": [
        "<table>\n",
        "<tr>\n",
        "<th>\u6587\u66f8\u306e\u30d5\u30a1\u30a4\u30eb\u540d</th>\n",
        "<th>\u6587\u66f8\u306e\u4e2d\u8eab</th>\n",
        "</tr>\n",
        "<tr>\n",
        "<td>01.txt</td>\n",
        "<td>This is a toy post about machine learning. Actually, it contains not much interesting stuff.</td>\n",
        "</tr>\n",
        "<tr>\n",
        "<td>02.txt</td>\n",
        "<td>Imaging databases provide storage capabilities.</td>\n",
        "</tr>\n",
        "<tr>\n",
        "<td>03.txt</td>\n",
        "<td>Most imaging databases safe images permanently.</td>\n",
        "</tr>\n",
        "<tr>\n",
        "<td>04.txt</td>\n",
        "<td>Imaging databases store images.</td>\n",
        "</tr>\n",
        "<tr>\n",
        "<td>05.txt</td>\n",
        "<td>Imaging databases store images. Imaging databases store images. Imaging databases store images.</td>\n",
        "</tr>\n",
        "</table>"
       ],
       "metadata": {},
       "output_type": "pyout",
       "prompt_number": 288,
       "text": [
        "<IPython.core.display.HTML at 0x11411bc90>"
       ]
      }
     ],
     "prompt_number": 288
    },
    {
     "cell_type": "markdown",
     "metadata": {},
     "source": [
      "\u4e0a\u8a18\u306e\u8868\u4e0a\u306b\u3042\u308btxt\u30d5\u30a1\u30a4\u30eb\u306e\u4e2d\u304b\u3089\u300cimaging databases\u300d\u3068\u3044\u3046\u77ed\u3044\u6587\u66f8\u3068\u6700\u3082\u985e\u4f3c\u3059\u308b\u6587\u66f8\u3092\u898b\u3064\u3051\u308b\u4e8b\u3092\u76ee\u7684\u3068\u3059\u308b\uff0e<dr>\n",
      "\u3053\u3053\u3067\u306f\uff0cDIR\u3068\u3044\u3046\u5909\u6570\u306e\u30c7\u30a3\u30ec\u30af\u30c8\u30ea\u306b\u6587\u66f8\u30c7\u30fc\u30bf\u304c\u7f6e\u304b\u308c\u3066\u3044\u308b\u3068\u4eee\u5b9a\u3059\u308b\uff0eCountVectorizer\u306b\u6587\u66f8\u3092\u5165\u529b\u3059\u308b\u305f\u3081\u306b\u4ee5\u4e0b\u306e\u3088\u3046\u306b\u30b3\u30fc\u30c9\u3092\u5b9f\u884c\u3059\u308b\uff0e"
     ]
    },
    {
     "cell_type": "code",
     "collapsed": false,
     "input": [
      "import os\n",
      "import sys\n",
      "\n",
      "DATA_DIR = os.path.join(\n",
      "    os.path.dirname(os.path.realpath(\"__file__\")), \"data\")\n",
      "\n",
      "if not os.path.exists(DATA_DIR):\n",
      "    print(\"Uh, we were expecting a data directory, which contains the toy data\")\n",
      "    sys.exit(1)\n",
      "\n",
      "CHART_DIR = os.path.join(\n",
      "    os.path.dirname(os.path.realpath(\"__file__\")), \"charts\")\n",
      "if not os.path.exists(CHART_DIR):\n",
      "    os.mkdir(CHART_DIR)"
     ],
     "language": "python",
     "metadata": {},
     "outputs": [],
     "prompt_number": 289
    },
    {
     "cell_type": "code",
     "collapsed": false,
     "input": [
      "#data/toy\u3088\u308a01~05\u307e\u3067\u306etxt\u30d5\u30a1\u30a4\u30eb\u3092\u8aad\u307f\u8fbc\u3080\n",
      "TOY_DIR = os.path.join(DATA_DIR, \"toy\")\n",
      "posts = [open(os.path.join(TOY_DIR, f)).read() for f in os.listdir(TOY_DIR)]\n",
      "from sklearn.feature_extraction.text import CountVectorizer\n",
      "vectorizer = CountVectorizer(min_df=1)"
     ],
     "language": "python",
     "metadata": {},
     "outputs": [],
     "prompt_number": 290
    },
    {
     "cell_type": "markdown",
     "metadata": {},
     "source": [
      "\u4e0a\u8a18\u30b3\u30fc\u30c9\u306evectorizer\u306b\u306f\uff0c\u5bfe\u8c61\u3068\u3059\u308b\u5168\u3066\u306e\u30c7\u30fc\u30bf\u3092\u4e0e\u3048\u308b\u5fc5\u8981\u304c\u3042\u308b\uff0e\u305d\u3046\u3059\u308b\u4e8b\u3067\uff0c\u3069\u306e\u3088\u3046\u306a\u5358\u8a9e\u3092\u5bfe\u8c61\u3068\u3059\u308b\u304b\u5b66\u7fd2\u3057\u3066\u304f\u308c\u308b\uff0e<br>"
     ]
    },
    {
     "cell_type": "code",
     "collapsed": false,
     "input": [
      "#\u8aad\u307f\u8fbc\u3093\u306001~05\u307e\u3067\u306e\u30c7\u30fc\u30bf\u3092\u5206\u985e\u5668\u306b\u4e0e\u3048\u308b\n",
      "X_train = vectorizer.fit_transform(posts)\n",
      "num_samples, num_features = X_train.shape\n",
      "print(\"#samples: %d,#features: %d\" % (num_samples, num_features))"
     ],
     "language": "python",
     "metadata": {},
     "outputs": [
      {
       "output_type": "stream",
       "stream": "stdout",
       "text": [
        "#samples: 5,#features: 25\n"
       ]
      }
     ],
     "prompt_number": 291
    },
    {
     "cell_type": "markdown",
     "metadata": {},
     "source": [
      "<br>\n",
      "\u4e0a\u8a18\u306e\u7d50\u679c\u304b\u30895\u3064\u306e\u6587\u66f8\u306825\u500b\u306e\u7570\u306a\u308b\u5358\u8a9e\u304c\u5b58\u5728\u3059\u308b\u4e8b\u304c\u78ba\u8a8d\u51fa\u6765\u308b\uff0e<br>\n",
      "\u307e\u305f\uff0c\u4ee5\u4e0b\u306b\u793a\u3059\u5358\u8a9e\u304c\u30c8\u30fc\u30af\u30f3\u5316\u3055\u308c\u305f\u3082\u306e\u3068\u306a\u308b\uff0e"
     ]
    },
    {
     "cell_type": "code",
     "collapsed": false,
     "input": [
      "print(vectorizer.get_feature_names())"
     ],
     "language": "python",
     "metadata": {},
     "outputs": [
      {
       "output_type": "stream",
       "stream": "stdout",
       "text": [
        "[u'about', u'actually', u'capabilities', u'contains', u'data', u'databases', u'images', u'imaging', u'interesting', u'is', u'it', u'learning', u'machine', u'most', u'much', u'not', u'permanently', u'post', u'provide', u'save', u'storage', u'store', u'stuff', u'this', u'toy']\n"
       ]
      }
     ],
     "prompt_number": 292
    },
    {
     "cell_type": "markdown",
     "metadata": {},
     "source": [
      "<br>\n",
      "\u65b0\u3057\u3044\u6587\u66f8\u306f\u4ee5\u4e0b\u306e\u3088\u3046\u306b\u30d9\u30af\u30c8\u30eb\u5316\u3059\u308b\u3053\u3068\u304c\u3067\u304d\u308b\uff0e"
     ]
    },
    {
     "cell_type": "code",
     "collapsed": false,
     "input": [
      "new_post = \"imaging databases\"\n",
      "new_post_vec = vectorizer.transform([new_post])"
     ],
     "language": "python",
     "metadata": {},
     "outputs": [],
     "prompt_number": 293
    },
    {
     "cell_type": "markdown",
     "metadata": {},
     "source": [
      "\u3053\u3053\u3067\u306e\u6ce8\u610f\u70b9\u3068\u3057\u3066\uff0ctransform\u30e1\u30bd\u30c3\u30c9\u306b\u3088\u3063\u3066\u8fd4\u3055\u308c\u308b\u30d9\u30af\u30c8\u30eb\u306f\u758e\u306a\u30d9\u30af\u30c8\u30eb(\u8981\u7d20\u306e\u6b86\u3069\u304c0)\u3067\u3042\u308b\uff0e\u3053\u306e\u305f\u3081\uff0c\u758e\u30d9\u30af\u30c8\u30eb\u306b\u9069\u3057\u305f\u30c7\u30fc\u30bf\u69cb\u9020\u304c\u7d50\u679c\u3068\u3057\u3066\u8fd4\u3055\u308c\u308b\u304c\uff0c\u307b\u3068\u3093\u3069\u306e\u8981\u7d20\u304c0\u3067\u3042\u308b\u305f\u3081\uff0c\u5168\u3066\u306e\u5358\u8a9e\u306e\u51fa\u73fe\u56de\u6570\u3092\u307e\u3068\u3081\u3066\u8868\u8a18\u3059\u308b\u3053\u3068\u304c\u3067\u304d\u306a\u3044\uff0e\u305d\u306e\u4ee3\u308f\u308a\u3068\u3057\u3066\uff0c\u51fa\u73fe\u3057\u305f\u5358\u8a9e\u306e\u307f\u306e\u60c5\u5831\u3060\u3051\u3092\u30c7\u30fc\u30bf\u306b\u683c\u7d0d\u3059\u308b\uff0e\u4f8b\u3068\u3057\u3066\uff0c\u4e0a\u8a18\u306enew_post_vec\u306e\u7279\u5fb4\u30d9\u30af\u30c8\u30eb\u306f\uff0c\u6b21\u306e\u4e8c\u3064\u306e\u8981\u7d20\u3092\u6301\u3064\uff0e"
     ]
    },
    {
     "cell_type": "code",
     "collapsed": false,
     "input": [
      "print(new_post_vec)\n",
      "print(vectorizer.transform([\"about\"]))"
     ],
     "language": "python",
     "metadata": {},
     "outputs": [
      {
       "output_type": "stream",
       "stream": "stdout",
       "text": [
        "  (0, 5)\t1\n",
        "  (0, 7)\t1\n",
        "  (0, 0)\t1\n"
       ]
      }
     ],
     "prompt_number": 294
    },
    {
     "cell_type": "markdown",
     "metadata": {},
     "source": [
      "<br>\n",
      "toarray()\u30e1\u30bd\u30c3\u30c9\u3092\u7528\u3044\u308b\u3053\u3068\u3067\uff0c\u7279\u5fb4\u30d9\u30af\u30c8\u30eb\u306e\u5168\u3066\u306e\u8981\u7d20\u3092\u8868\u793a\u3059\u308b\u3053\u3068\u304c\u3067\u304d\u308b(\u30c7\u30fc\u30bf\u69cb\u9020\u306fNumpy\u306endarray)"
     ]
    },
    {
     "cell_type": "code",
     "collapsed": false,
     "input": [
      "print(new_post_vec.toarray())"
     ],
     "language": "python",
     "metadata": {},
     "outputs": [
      {
       "output_type": "stream",
       "stream": "stdout",
       "text": [
        "[[0 0 0 0 0 1 0 1 0 0 0 0 0 0 0 0 0 0 0 0 0 0 0 0 0]]\n"
       ]
      }
     ],
     "prompt_number": 295
    },
    {
     "cell_type": "markdown",
     "metadata": {},
     "source": [
      "<br>\n",
      "\u985e\u4f3c\u5ea6\u3092\u7b97\u51fa\u3059\u308b\u305f\u3081\u306b\u30d9\u30af\u30c8\u30eb\u3092\u4f7f\u7528\u3059\u308b\u5834\u5408\uff0c\u4e0a\u306e\u7279\u5fb4\u30d9\u30af\u30c8\u30eb\u306e\u5f62\u5f0f\u306b\u3059\u308b\u5fc5\u8981\u304c\u3042\u308b\uff0e\u3053\u3053\u3067\u306f\uff0c\u985e\u4f3c\u5ea6\u3092\u7b97\u51fa\u3059\u308b\u70ba\u306b\u65b0\u3057\u3044\u6587\u66f8\u3068\u4ed6\u306e\u65e2\u5b58\u306e\u6587\u66f8\u306e\u9593\u3067\u30e6\u30fc\u30af\u30ea\u30c3\u30c9\u8ddd\u96e2\u3092\u8a08\u7b97\u3059\u308b\u3053\u3068\u306b\u3059\u308b\uff0e\u4ee5\u4e0b\u306e\u3088\u3046\u306b\uff0c\u4e8c\u3064\u306e\u7279\u5fb4\u30d9\u30af\u30c8\u30eb\u9593\u306e\u985e\u4f3c\u5ea6\u3092\u8a08\u7b97\u3059\u308b\u95a2\u6570\u3092\u5b9a\u7fa9\u3059\u308b\uff0e"
     ]
    },
    {
     "cell_type": "code",
     "collapsed": false,
     "input": [
      "import scipy as sp\n",
      "def dist_raw(v1,v2):\n",
      "    delta = v1 - v2\n",
      "    return sp.linalg.norm(delta.toarray())"
     ],
     "language": "python",
     "metadata": {},
     "outputs": [],
     "prompt_number": 296
    },
    {
     "cell_type": "code",
     "collapsed": false,
     "input": [
      "def dist_norm(v1,v2):\n",
      "    v1_normalized = v1 / sp.linalg.norm(v1.toarray())\n",
      "    v2_normalized = v2 / sp.linalg.norm(v2.toarray())\n",
      "    delta = v1_normalized - v2_normalized\n",
      "    return sp.linalg.norm(delta.toarray())"
     ],
     "language": "python",
     "metadata": {},
     "outputs": [],
     "prompt_number": 297
    },
    {
     "cell_type": "markdown",
     "metadata": {},
     "source": [
      "\u4e0a\u8a18\u306e\u30d7\u30ed\u30b0\u30e9\u30e0\u306b\u304a\u3044\u3066\uff0cnorm\u95a2\u6570\u306f\uff0c\u30e6\u30fc\u30af\u30ea\u30c3\u30c9\u8ddd\u96e2\u3092\u8a08\u7b97\u3059\u308b\uff0edist_raw\u95a2\u6570\u3092\u4f7f\u7528\u3059\u308b\u4e8b\u306b\u3088\u308a\uff0c\u4ed6\u306e\u5168\u3066\u306e\u6587\u66f8\u306b\u5bfe\u3057\u3066\u985e\u4f3c\u5ea6\u3092\u8a08\u7b97\u3059\u308b\u3053\u3068\u304c\u3067\u304d\u308b\uff0e<br>\n",
      "\u5b9f\u969b\u306b\u5b9a\u7fa9\u3057\u305f\u95a2\u6570\u3092\u4f7f\u3063\u3066\u8aad\u307f\u8fbc\u3093\u306001~05\u306e\u6587\u66f8\u3068\"imaging databases\"\u3092\u6bd4\u8f03\u3057\u985e\u4f3c\u5ea6\u3092\u7b97\u51fa\u3059\u308b\u30d7\u30ed\u30b0\u30e9\u30e0\u3092\u4e0b\u8a18\u306b\u793a\u3059\uff0e"
     ]
    },
    {
     "cell_type": "code",
     "collapsed": false,
     "input": [
      "best_dist = sys.maxsize\n",
      "best_i = None\n",
      "\n",
      "for i in range(0,num_samples):\n",
      "    post = posts[i]\n",
      "    if post == new_post:\n",
      "        continue\n",
      "    post_vec = X_train.getrow(i)\n",
      "    d = dist_raw(post_vec,new_post_vec)\n",
      "    print\"=== Post %i with dist=%.2f: %s\" % (i+1,d,post)\n",
      "    \n",
      "    if d < best_dist:\n",
      "        best_dist = d\n",
      "        best_i = i\n",
      "print(\"Best post is %i with dist=%.2f\" % (best_i+1, best_dist))"
     ],
     "language": "python",
     "metadata": {},
     "outputs": [
      {
       "output_type": "stream",
       "stream": "stdout",
       "text": [
        "=== Post 1 with dist=4.00: This is a toy post about machine learning. Actually, it contains not much interesting stuff.\n",
        "=== Post 2 with dist=1.73: Imaging databases provide storage capabilities.\n",
        "=== Post 3 with dist=2.00: Most imaging databases save images permanently.\n",
        "\n",
        "=== Post 4 with dist=1.41: Imaging databases store data.\n",
        "=== Post 5 with dist=5.10: Imaging databases store data. Imaging databases store data. Imaging databases store data.\n",
        "Best post is 4 with dist=1.41\n"
       ]
      }
     ],
     "prompt_number": 298
    },
    {
     "cell_type": "markdown",
     "metadata": {},
     "source": [
      "<br>\n",
      "\u4e0a\u8a18\u306e\u7d50\u679c\u3088\u308a\uff0c\u65b0\u3057\u3044\u6587\u66f8\u3068\u6700\u3082\u4f3c\u3066\u3044\u306a\u3044\u6587\u66f8\u306f5\uff0e\u6700\u3082\u4f3c\u3066\u3044\u308b\u6587\u66f8\u306f4\u3068\u3044\u3046\u7d50\u679c\u304c\u5f97\u3089\u308c\u305f\uff0e\u305f\u3060\u3057\uff0c\u6587\u66f82\u30684\u306e\u5185\u5bb9\u3068\u6bd4\u8f03\u3059\u308b\u3068\uff0c\u3069\u3061\u3089\u3082\u5171\u901a\u306e\u5358\u8a9e(Imaging\uff0cdatabase)\u3092\u542b\u3080\u305f\u3081\u985e\u4f3c\u5ea6\u304c\u9ad8\u3044\u304c\uff0c\u6587\u66f84\u306e\u65b9\u304c2\u3088\u308a\u95a2\u9023\u306e\u306a\u3044\u5358\u8a9e\u306e\u6570\u304c\u4e00\u3064\u5c11\u306a\u3044\u305f\u3081\u985e\u4f3c\u5ea6\u304c\u9ad8\u304f\u306a\u3063\u3066\u3044\u308b\u3082\u306e\u3068\u8003\u3048\u3089\u308c\u308b\uff0e<br>\n",
      "\u6b21\u306b\uff0c\u985e\u4f3c\u5ea6\u306e\u4e00\u756a\u9ad8\u3044\u6587\u66f84\u3068\u985e\u4f3c\u5ea6\u306e\u4e00\u756a\u4f4e\u3044\u6587\u66f85\u3092\u6bd4\u8f03\u3059\u308b\uff0e\u6587\u66f85\u306f4\u3068\u540c\u69d8\u306e\u5185\u5bb9\u30923\u56de\u7e70\u308a\u8fd4\u3059\u5185\u5bb9\u3068\u306a\u3063\u3066\u3044\u308b\uff0e\u305d\u306e\u305f\u3081\uff0c\u65b0\u3057\u3044\u6587\u66f8\u306b\u5bfe\u3059\u308b\u985e\u4f3c\u5ea6\u306f\uff0c\u540c\u3058\u3067\u3042\u308b\u3079\u304d\u3060\u304c\u7d50\u679c\u304c\u7570\u306a\u308b\uff0e\u305d\u306e\u7406\u7531\u3092\u63a2\u308b\u70ba\uff0c\u6587\u66f84\u30685\u306e\u7279\u5fb4\u30d9\u30af\u30c8\u30eb\u3092\u51fa\u529b\u3057\u3066\u307f\u308b\uff0e"
     ]
    },
    {
     "cell_type": "code",
     "collapsed": false,
     "input": [
      "print(X_train.getrow(3).toarray())"
     ],
     "language": "python",
     "metadata": {},
     "outputs": [
      {
       "output_type": "stream",
       "stream": "stdout",
       "text": [
        "[[0 0 0 0 1 1 0 1 0 0 0 0 0 0 0 0 0 0 0 0 0 1 0 0 0]]\n"
       ]
      }
     ],
     "prompt_number": 299
    },
    {
     "cell_type": "code",
     "collapsed": false,
     "input": [
      "print(X_train.getrow(4).toarray())"
     ],
     "language": "python",
     "metadata": {},
     "outputs": [
      {
       "output_type": "stream",
       "stream": "stdout",
       "text": [
        "[[0 0 0 0 3 3 0 3 0 0 0 0 0 0 0 0 0 0 0 0 0 3 0 0 0]]\n"
       ]
      }
     ],
     "prompt_number": 300
    },
    {
     "cell_type": "markdown",
     "metadata": {},
     "source": [
      "\u3053\u306e\u3088\u3046\u306b\uff0c\u5358\u8a9e\u306e\u51fa\u73fe\u56de\u6570\u3060\u3051\u3092\u7279\u5fb4\u91cf\u3068\u3057\u3066\u7528\u3044\u308b\u306e\u306f\u5358\u7d14\u3067\u3042\u308a\u4e0a\u8a18\u306e\u3088\u3046\u306a\u554f\u984c\u304c\u8d77\u3053\u308a\u3046\u308b\uff0e\u3053\u306e\u554f\u984c\u306b\u5bfe\u3057\u3066\uff0c\u7279\u5fb4\u30d9\u30af\u30c8\u30eb\u3092\u5358\u4f4d\u9577\u3055\u306b\u3059\u308b\u305f\u3081\u306b\uff0c\u6b63\u898f\u5316\u3092\u884c\u3046\uff0e"
     ]
    },
    {
     "cell_type": "heading",
     "level": 3,
     "metadata": {},
     "source": [
      "3.2.3 \u5358\u8a9e\u306e\u51fa\u73fe\u56de\u6570\u30d9\u30af\u30c8\u30eb\u3092\u6b63\u898f\u5316\u3059\u308b"
     ]
    },
    {
     "cell_type": "markdown",
     "metadata": {},
     "source": [
      "\u30e6\u30fc\u30af\u30ea\u30c3\u30c9\u8ddd\u96e2\u3092\u8a08\u7b97\u3059\u308b\u70ba\u306b\u4f5c\u6210\u3057\u305f\uff0cdist_raw\u95a2\u6570\u3092\u62e1\u5f35\u3059\u308b\u4e8b\u3067\uff0c\u5358\u8a9e\u306e\u51fa\u73fe\u56de\u6570\u304b\u3089\u306a\u308b\u30d9\u30af\u30c8\u30eb\u3067\u306f\u306a\u304f\uff0c\u6b63\u898f\u5316\u3057\u305f\u30d9\u30af\u30c8\u30eb\u3092\u8fd4\u3059\u3088\u3046\u306b\u3059\u308b\uff0e"
     ]
    },
    {
     "cell_type": "code",
     "collapsed": false,
     "input": [
      "def dist_norm(v1, v2):\n",
      "    v1_normalized = v1/sp.linalg.norm(v1.toarray())\n",
      "    v2_normalized = v2/sp.linalg.norm(v2.toarray())\n",
      "    delta = v1_normalized - v2_normalized\n",
      "    return sp.linalg.norm(delta.toarray())"
     ],
     "language": "python",
     "metadata": {},
     "outputs": [],
     "prompt_number": 301
    },
    {
     "cell_type": "markdown",
     "metadata": {},
     "source": [
      "\u3053\u306e\u95a2\u6570\u3092\u7528\u3044\u3066\u8a08\u7b97\u3059\u308b\u3068\uff0c\u7d50\u679c\u306f\u6b21\u306e\u3088\u3046\u306b\u306a\u308b"
     ]
    },
    {
     "cell_type": "code",
     "collapsed": false,
     "input": [
      "best_dist = sys.maxsize\n",
      "best_i = None\n",
      "\n",
      "for i in range(0,num_samples):\n",
      "    post = posts[i]\n",
      "    if post == new_post:\n",
      "        continue\n",
      "    post_vec = X_train.getrow(i)\n",
      "    d = dist_norm(post_vec,new_post_vec)\n",
      "    print\"=== Post %i with dist=%.2f: %s\" % (i+1,d,post)\n",
      "    \n",
      "    if d < best_dist:\n",
      "        best_dist = d\n",
      "        best_i = i\n",
      "print(\"Best post is %i with dist=%.2f\" % (best_i+1, best_dist))"
     ],
     "language": "python",
     "metadata": {},
     "outputs": [
      {
       "output_type": "stream",
       "stream": "stdout",
       "text": [
        "=== Post 1 with dist=1.41: This is a toy post about machine learning. Actually, it contains not much interesting stuff.\n",
        "=== Post 2 with dist=0.86: Imaging databases provide storage capabilities.\n",
        "=== Post 3 with dist=0.92: Most imaging databases save images permanently.\n",
        "\n",
        "=== Post 4 with dist=0.77: Imaging databases store data.\n",
        "=== Post 5 with dist=0.77: Imaging databases store data. Imaging databases store data. Imaging databases store data.\n",
        "Best post is 4 with dist=0.77\n"
       ]
      }
     ],
     "prompt_number": 302
    },
    {
     "cell_type": "markdown",
     "metadata": {},
     "source": [
      "<br>\n",
      "\u7d50\u679c\u3092\u898b\u308b\u3068\uff0c\u6700\u521d\u306b\u7b97\u51fa\u3057\u305f\u985e\u4f3c\u5ea6\u3088\u308a\u5168\u4f53\u7684\u306b\u826f\u304f\u306a\u3063\u305f\uff0e\u6587\u66f84\u30685\u306e\u985e\u4f3c\u5ea6\u304c\u540c\u3058\u5024\u306b\u306a\u3063\u3066\u3044\u308b\u4e8b\u304b\u3089\u7d50\u679c\u306e\u6539\u5584\u3092\u884c\u3046\u4e8b\u304c\u3067\u304d\u305f\uff0e"
     ]
    },
    {
     "cell_type": "heading",
     "level": 3,
     "metadata": {},
     "source": [
      "3.2.4 \u91cd\u8981\u5ea6\u306e\u4f4e\u3044\u5358\u8a9e\u3092\u53d6\u308a\u9664\u304f"
     ]
    },
    {
     "cell_type": "markdown",
     "metadata": {},
     "source": [
      "\"imaging databases\"\u3068\u6587\u66f82\u3092\u6bd4\u8f03\u3059\u308b\u3068\uff0c\"imaging databases\"\u306b\u542b\u307e\u308c\u306a\u3044\u5358\u8a9e\u3068\u3057\u3066\uff0cmost\uff0csafe\uff0cimages\uff0cpermanently\u304c\u3042\u308b\uff0e\u3053\u308c\u3089\u306e\u5358\u8a9e\u306f\u6587\u66f8\u5185\u3067\u306e\u91cd\u8981\u5ea6\u304c\u305d\u308c\u305e\u308c\u7570\u306a\u308b\uff0e\u4f8b\u3048\u3070\uff0cmost\u3068\u3044\u3046\u5358\u8a9e\u306f\uff0c\u5206\u91ce\u306b\u95a2\u4fc2\u306a\u304f\u69d8\u3005\u306a\u6587\u7ae0\u3067\u51fa\u73fe\u3059\u308b\uff0e\u305d\u306e\u305f\u3081\uff0c\u305d\u306e\u3088\u3046\u306a\u5358\u8a9e\u306f\u30b9\u30c8\u30c3\u30d7\u30ef\u30fc\u30c9(stop word)\u3068\u3057\u3066\u51e6\u7406\u306e\u5bfe\u8c61\u5916\u3068\u3059\u308b\u3079\u304d\u3067\u3042\u308b\uff0e\u7406\u60f3\u3068\u3057\u3066\u306f\uff0c\u983b\u7e41\u306b\u4f7f\u308f\u308c\u308b\u5358\u8a9e\uff0c\u8a00\u3044\u63db\u3048\u308b\u3068\u6587\u7ae0\u306e\u5206\u985e\u51e6\u7406\u306b\u5165\u3089\u306a\u3044\u5358\u8a9e\u306f\u5168\u3066\u53d6\u308a\u9664\u304d\u305f\u3044\uff0e\u3053\u306e\u3088\u3046\u306a\u5358\u8a9e\u306f<b>\u30b9\u30c8\u30c3\u30d7\u30ef\u30fc\u30c9</b>\u3068\u547c\u3070\u308c\u308b\uff0e<br>"
     ]
    },
    {
     "cell_type": "markdown",
     "metadata": {},
     "source": [
      "\u30c6\u30ad\u30b9\u30c8\u51e6\u7406\u3067\u306f\u30b9\u30c8\u30c3\u30d7\u30ef\u30fc\u30c9\u3092\u7528\u3044\u308b\u3053\u3068\u306f\u4e00\u822c\u7684\u306a\u3053\u3068\u3067\u3042\u308b\uff0e\u305d\u306e\u305f\u3081CountVectorizer\u306f\u7c21\u5358\u306b\u30b9\u30c8\u30c3\u30d7\u30ef\u30fc\u30c9\u3092\u767b\u9332\u3059\u308b\u3053\u3068\u304c\u3067\u304d\uff0c\u305d\u308c\u306b\u306f\u4ee5\u4e0b\u306e\u3088\u3046\u306b\u5b9a\u7fa9\u3059\u308b\uff0e"
     ]
    },
    {
     "cell_type": "code",
     "collapsed": false,
     "input": [
      "vectorizer = CountVectorizer(min_df=1, stop_words='english')"
     ],
     "language": "python",
     "metadata": {},
     "outputs": [],
     "prompt_number": 303
    },
    {
     "cell_type": "markdown",
     "metadata": {},
     "source": [
      "<br>\n",
      "\u30b9\u30c8\u30c3\u30d7\u30ef\u30fc\u30c9\u3068\u3057\u3066\u5358\u8a9e\u304c\u601d\u3044\u3064\u3051\u3070\uff0c\u305d\u306e\u30ea\u30b9\u30c8\u3092stop_words\u306b\u6307\u5b9a\u3059\u308b\u4e8b\u304c\u3067\u304d\u308b\uff0e\u4eca\u56de\u306fEnglish\u3068\u6307\u5b9a\u3059\u308b\u4e8b\u3067\u8a08318\u500b\u306e\u30b9\u30c8\u30c3\u30d7\u30ef\u30fc\u30c9\u3068\u3057\u3066\u767b\u9332\u3059\u308b\u3053\u3068\u304c\u3067\u304d\u308b\uff0e\u767b\u9332\u3057\u305f\u30b9\u30c8\u30c3\u30d7\u30ef\u30fc\u30c9\u3092\u898b\u308b\u306b\u306f\uff0cget_stop_words()\u3092\u7528\u3044\u308b\uff0e"
     ]
    },
    {
     "cell_type": "code",
     "collapsed": false,
     "input": [
      "print len(vectorizer.get_stop_words())\n",
      "sorted(vectorizer.get_stop_words())[0:20]"
     ],
     "language": "python",
     "metadata": {},
     "outputs": [
      {
       "output_type": "stream",
       "stream": "stdout",
       "text": [
        "318\n"
       ]
      },
      {
       "metadata": {},
       "output_type": "pyout",
       "prompt_number": 304,
       "text": [
        "['a',\n",
        " 'about',\n",
        " 'above',\n",
        " 'across',\n",
        " 'after',\n",
        " 'afterwards',\n",
        " 'again',\n",
        " 'against',\n",
        " 'all',\n",
        " 'almost',\n",
        " 'alone',\n",
        " 'along',\n",
        " 'already',\n",
        " 'also',\n",
        " 'although',\n",
        " 'always',\n",
        " 'am',\n",
        " 'among',\n",
        " 'amongst',\n",
        " 'amoungst']"
       ]
      }
     ],
     "prompt_number": 304
    },
    {
     "cell_type": "markdown",
     "metadata": {},
     "source": [
      "\u5b9f\u969b\u306b\uff0c\u5148\u307b\u3069\u306e\u6587\u66f8\u306e\u5206\u985e\u306b\u3053\u306e\u30b9\u30c8\u30c3\u30d7\u30ef\u30fc\u30c9\u3092\u9069\u7528\u3057\u3066\u307f\u308b\uff0e"
     ]
    },
    {
     "cell_type": "code",
     "collapsed": false,
     "input": [
      "X_train = vectorizer.fit_transform(posts)\n",
      "num_samples, num_features = X_train.shape\n",
      "new_post = \"imaging databases\"\n",
      "new_post_vec = vectorizer.transform([new_post])\n",
      "best_dist = sys.maxsize\n",
      "best_i = None\n",
      "\n",
      "for i in range(0,num_samples):\n",
      "    post = posts[i]\n",
      "    if post == new_post:\n",
      "        continue\n",
      "    post_vec = X_train.getrow(i)\n",
      "    d = dist_norm(post_vec,new_post_vec)\n",
      "    print\"=== Post %i with dist=%.2f: %s\" % (i+1,d,post)\n",
      "    \n",
      "    if d < best_dist:\n",
      "        best_dist = d\n",
      "        best_i = i\n",
      "print(\"Best post is %i with dist=%.2f\" % (best_i+1, best_dist))"
     ],
     "language": "python",
     "metadata": {},
     "outputs": [
      {
       "output_type": "stream",
       "stream": "stdout",
       "text": [
        "=== Post 1 with dist=1.41: This is a toy post about machine learning. Actually, it contains not much interesting stuff.\n",
        "=== Post 2 with dist=0.86: Imaging databases provide storage capabilities.\n",
        "=== Post 3 with dist=0.86: Most imaging databases save images permanently.\n",
        "\n",
        "=== Post 4 with dist=0.77: Imaging databases store data.\n",
        "=== Post 5 with dist=0.77: Imaging databases store data. Imaging databases store data. Imaging databases store data.\n",
        "Best post is 4 with dist=0.77\n"
       ]
      }
     ],
     "prompt_number": 305
    },
    {
     "cell_type": "markdown",
     "metadata": {},
     "source": [
      "<br>\n",
      "\u7d50\u679c\u3092\u898b\u308b\u3068\uff0c\u6587\u66f82\u30683\u304c\u540c\u3058\u985e\u4f3c\u5ea6\u3068\u306a\u3063\u305f\uff0e\u4eca\u56de\u306e\u4f8b\u3067\u306f\uff0c\u305d\u308c\u307b\u3069\u7d50\u679c\u306f\u5909\u308f\u3089\u306a\u304b\u3063\u305f\u304c\uff0c\u5b9f\u969b\u306e\u30c7\u30fc\u30bf\u3092\u7528\u3044\u308b\u5834\u5408\u306f\u30b9\u30c8\u30c3\u30d7\u30ef\u30fc\u30c9\u304c\u5fc5\u8981\u4e0d\u53ef\u6b20\u3068\u306a\u308b\uff0e"
     ]
    },
    {
     "cell_type": "heading",
     "level": 3,
     "metadata": {},
     "source": [
      "3.2.5 \u30b9\u30c6\u30df\u30f3\u30b0(stemming)"
     ]
    },
    {
     "cell_type": "markdown",
     "metadata": {},
     "source": [
      "\u3053\u306e\u4ed6\u306e\u51e6\u7406\u3068\u3057\u3066\u30b9\u30c6\u30df\u30f3\u30b0\u3068\u3044\u3046\u3082\u306e\u304c\u3042\u308b\uff0e\u3053\u308c\u306f\uff0c\u5358\u8a9e\u3092\u7279\u5b9a\u306e\u8a9e\u5e79\u306b\u5909\u5316\u3055\u305b\u308b\u51e6\u7406\u3067\u3042\u308b\uff0e\u4f7f\u7528\u3059\u308b\u72b6\u6cc1\u3068\u3057\u3066\uff0c\u610f\u5473\u7684\u306b\u306f\u540c\u3058\u5358\u8a9e\u304c\u8a9e\u5f62\u5909\u5316\u306b\u3088\u308a\uff0c\u7570\u306a\u308b\u5358\u8a9e\u3068\u3057\u3066\u30ab\u30a6\u30f3\u30c8\u3055\u308c\u308b\u6642\u306b\u4f7f\u7528\u3059\u308b\uff0e\u4f8b\u3048\u3070\uff0c\u6587\u66f81\u306b\u306f\uff0cimaging\u3068images\u304c\u542b\u307e\u308c\u308b\uff0e\u3053\u306e\u4e8c\u3064\u306e\u5358\u8a9e\u306f\u540c\u3058\u610f\u5473\u3092\u6301\u3064\u305f\u3081\uff0c\u540c\u3058\u5358\u8a9e\u3068\u3057\u3066\u30ab\u30a6\u30f3\u30c8\u3057\u305f\u65b9\u304c\u3088\u3044\u3068\u601d\u308f\u308c\u308b\uff0e<br>\n",
      "\u3053\u306e\u6a5f\u80fd\u306fScikit-learan\u306b\u306f\u542b\u307e\u308c\u3066\u7121\u304f\uff0cNatural Language Toolkit(NLTK)\u3092\u7528\u3044\u308b\uff0eNLTK\u306f\u30d5\u30ea\u30fc\u306e\u30c4\u30fc\u30eb\u3067\u3042\u308a\uff0c\u30c0\u30a6\u30f3\u30ed\u30fc\u30c9\u3059\u308b\u4e8b\u3067\uff0cCountVectorizer\u306e\u30d7\u30e9\u30b0\u30a4\u30f3\u3068\u3057\u3066\u4f7f\u7528\u3067\u304d\u308b\uff0e"
     ]
    },
    {
     "cell_type": "heading",
     "level": 4,
     "metadata": {},
     "source": [
      "NLTK\u306e\u30a4\u30f3\u30b9\u30c8\u30fc\u30eb"
     ]
    },
    {
     "cell_type": "markdown",
     "metadata": {},
     "source": [
      "NLTK\u306e\u30a4\u30f3\u30b9\u30c8\u30fc\u30eb\u65b9\u6cd5\u306f\uff0chttp://nltk.org/install.html \u306b\u8a73\u7d30\u304c\u8a18\u8f09\u3055\u308c\u3066\u3044\u308b\uff0e<br>\n",
      "\u901a\u5e38\u306fNLTK\u3068PyYAML\u306e\u4e8c\u3064\u306e\u30d1\u30c3\u30b1\u30fc\u30b8\u3092\u30a4\u30f3\u30b9\u30c8\u30fc\u30eb\u5fc5\u8981\u304c\u3042\u308b\uff0e\u30a4\u30f3\u30b9\u30c8\u30fc\u30eb\u304c\u4e0a\u624b\u304f\u51fa\u6765\u305f\u4e8b\u3092\u78ba\u8a8d\u3059\u308b\u305f\u3081\u306b\u306f\uff0cPython\u30a4\u30f3\u30bf\u30fc\u30d7\u30ea\u30bf\u3092\u958b\u304d\uff0c\u6b21\u306e\u3088\u3046\u306b\u5165\u529b\u3059\u308b\uff0e"
     ]
    },
    {
     "cell_type": "code",
     "collapsed": false,
     "input": [
      "import nltk"
     ],
     "language": "python",
     "metadata": {},
     "outputs": [],
     "prompt_number": 306
    },
    {
     "cell_type": "markdown",
     "metadata": {},
     "source": [
      "NLTK\u306b\u306f\uff0c\u7570\u306a\u308b\u7a2e\u985e\u306e\u30b9\u30c6\u30de\u30fc\u304c\u3044\u304f\u3064\u304b\u3042\u308b\uff0e\u3053\u308c\u306f\u8a00\u8a9e\u3054\u3068\u306b\uff0c\u30eb\u30fc\u30eb\u306e\u7570\u306a\u308b\u30b9\u30c6\u30df\u30f3\u30b0\u3092\u884c\u3046\u5fc5\u8981\u304c\u3042\u308b\u304b\u3089\u3067\u3042\u308b\uff0e\u4f8b\u3048\u3070\uff0c\u82f1\u8a9e\u306e\u5834\u5408\u306fSnowballStemmer\u3092\u7528\u3044\u308b\uff0e"
     ]
    },
    {
     "cell_type": "code",
     "collapsed": false,
     "input": [
      "import nltk.stem\n",
      "s = nltk.stem.SnowballStemmer('english')\n",
      "s.stem(\"graphics\")"
     ],
     "language": "python",
     "metadata": {},
     "outputs": [
      {
       "metadata": {},
       "output_type": "pyout",
       "prompt_number": 307,
       "text": [
        "u'graphic'"
       ]
      }
     ],
     "prompt_number": 307
    },
    {
     "cell_type": "code",
     "collapsed": false,
     "input": [
      "s.stem(\"imaging\")"
     ],
     "language": "python",
     "metadata": {},
     "outputs": [
      {
       "metadata": {},
       "output_type": "pyout",
       "prompt_number": 308,
       "text": [
        "u'imag'"
       ]
      }
     ],
     "prompt_number": 308
    },
    {
     "cell_type": "code",
     "collapsed": false,
     "input": [
      "s.stem(\"imagination\")"
     ],
     "language": "python",
     "metadata": {},
     "outputs": [
      {
       "metadata": {},
       "output_type": "pyout",
       "prompt_number": 309,
       "text": [
        "u'imagin'"
       ]
      }
     ],
     "prompt_number": 309
    },
    {
     "cell_type": "code",
     "collapsed": false,
     "input": [
      "s.stem(\"imagine\")"
     ],
     "language": "python",
     "metadata": {},
     "outputs": [
      {
       "metadata": {},
       "output_type": "pyout",
       "prompt_number": 310,
       "text": [
        "u'imagin'"
       ]
      }
     ],
     "prompt_number": 310
    },
    {
     "cell_type": "markdown",
     "metadata": {},
     "source": [
      "\u52d5\u8a5e\u306b\u3064\u3044\u3066\u306f\uff0c\u4ee5\u4e0b\u306e\u3088\u3046\u306b\u306a\u308b\uff0e<br>\n",
      "\u307e\u305f\uff0c\u30b9\u30c6\u30df\u30f3\u30b0\u306e\u7d50\u679c\u306f\uff0c\u5fc5\u305a\u3057\u3082\u6b63\u3057\u3044\u82f1\u5358\u8a9e\u306b\u306a\u308b\u3068\u306f\u9650\u3089\u306a\u3044\uff0e"
     ]
    },
    {
     "cell_type": "code",
     "collapsed": false,
     "input": [
      "s.stem(\"buys\")"
     ],
     "language": "python",
     "metadata": {},
     "outputs": [
      {
       "metadata": {},
       "output_type": "pyout",
       "prompt_number": 311,
       "text": [
        "u'buy'"
       ]
      }
     ],
     "prompt_number": 311
    },
    {
     "cell_type": "code",
     "collapsed": false,
     "input": [
      "s.stem(\"buying\")"
     ],
     "language": "python",
     "metadata": {},
     "outputs": [
      {
       "metadata": {},
       "output_type": "pyout",
       "prompt_number": 312,
       "text": [
        "u'buy'"
       ]
      }
     ],
     "prompt_number": 312
    },
    {
     "cell_type": "code",
     "collapsed": false,
     "input": [
      "s.stem(\"bought\")"
     ],
     "language": "python",
     "metadata": {},
     "outputs": [
      {
       "metadata": {},
       "output_type": "pyout",
       "prompt_number": 313,
       "text": [
        "u'bought'"
       ]
      }
     ],
     "prompt_number": 313
    },
    {
     "cell_type": "heading",
     "level": 4,
     "metadata": {},
     "source": [
      "NLTK\u306e\u30b9\u30c6\u30de\u30fc(\u8a9e\u5e79\u62bd\u51fa)\u3092\u7528\u3044\u3066\uff0c\u30d9\u30af\u30c8\u30eb\u5316\u3092\u62e1\u5f35\u3059\u308b"
     ]
    },
    {
     "cell_type": "markdown",
     "metadata": {},
     "source": [
      "\u6587\u66f8\u3092CountVectorizer\u306b\u5165\u529b\u3059\u308b\u524d\u306b\uff0c\u30b9\u30c6\u30df\u30f3\u30b0\u3092\u884c\u3046\u5fc5\u8981\u304c\u3042\u308b\uff0e\u3053\u306e\u30af\u30e9\u30b9\u306b\u306f\uff0c\u524d\u51e6\u7406\u3068\u30c8\u30fc\u30af\u30f3\u5316\u3092\u884c\u3046\u6bb5\u968e\u3092\u30ab\u30b9\u30bf\u30de\u30a4\u30ba\u3059\u308b\u4e8b\u304c\u51fa\u6765\u308b\uff0e\u3053\u306e\u6a5f\u80fd\u306f\uff0c\u30b3\u30f3\u30b9\u30c8\u30e9\u30af\u30bf\u306e\u30d1\u30e9\u30e1\u30fc\u30bf\u3068\u3057\u3066\u8a2d\u5b9a\u51fa\u6765\u308b\uff0e<br>\n",
      "\u3057\u304b\u3057\uff0c\u305d\u306e\u65b9\u6cd5\u306b\u3088\u308a\u30b9\u30c6\u30de\u30fc\u3092\u884c\u3063\u305f\u5834\u5408\uff0c\u30b9\u30c6\u30df\u30f3\u30b0\u3092\u884c\u3063\u305f\u5f8c\u306e\u30c8\u30fc\u30af\u30f3\u5316\u3068\u6b63\u898f\u5316\u3092\u81ea\u5206\u3067\u884c\u3046\u5fc5\u8981\u304c\u3042\u308b\uff0e<br>\n",
      "\u4ee5\u4e0b\u3067\u306f\uff0c\u305d\u306e\u4ee3\u308f\u308a\u306bbuild_analyzer\u3092\u4e0a\u66f8\u304d\u3059\u308b\u4e8b\u3067\u5bfe\u5fdc\u3059\u308b\uff0e"
     ]
    },
    {
     "cell_type": "code",
     "collapsed": false,
     "input": [
      "import nltk.stem\n",
      "english_stemmer = nltk.stem.SnowballStemmer('english')\n",
      "class StemmedCountVectorizer(CountVectorizer):\n",
      "    def build_analyzer(self):\n",
      "        analyzer = super(StemmedCountVectorizer, self).build_analyzer()\n",
      "        return lambda doc: (english_stemmer.stem(w) for w in analyzer(doc))\n",
      "vectorizer = StemmedCountVectorizer(min_df=1,stop_words='english')"
     ],
     "language": "python",
     "metadata": {},
     "outputs": [],
     "prompt_number": 314
    },
    {
     "cell_type": "markdown",
     "metadata": {},
     "source": [
      "\u3053\u3053\u3067\u306f\u4ee5\u4e0b\u306e3\u3064\u306e\u51e6\u7406\u884c\u3063\u3066\u3044\u308b\uff0e<br>\n",
      "<LI>\u524d\u51e6\u7406\u306e\u6bb5\u968e\u3067\uff0c\u6587\u66f8\u3092\u5c0f\u6587\u5b57\u306b\u5909\u63db</LI>\n",
      "<LI>\u30c8\u30fc\u30af\u30f3\u5316\u306e\u6bb5\u968e\u3067\uff0c\u5168\u3066\u306e\u5358\u8a9e\u3092\u629c\u304d\u51fa\u3059</LI>\n",
      "<LI>\u305d\u308c\u305e\u308c\u306e\u5358\u8a9e\u3092\u30b9\u30c6\u30e0\u5316\u3055\u308c\u305f\u5358\u8a9e\u306b\u5909\u63db</LI>\n"
     ]
    },
    {
     "cell_type": "code",
     "collapsed": false,
     "input": [
      "X_train = vectorizer.fit_transform(posts)\n",
      "num_samples, num_features = X_train.shape\n",
      "new_post = \"imaging databases\"\n",
      "new_post_vec = vectorizer.transform([new_post])\n",
      "best_dist = sys.maxsize\n",
      "best_i = None\n",
      "\n",
      "for i in range(0,num_samples):\n",
      "    post = posts[i]\n",
      "    if post == new_post:\n",
      "        continue\n",
      "    post_vec = X_train.getrow(i)\n",
      "    d = dist_norm(post_vec,new_post_vec)\n",
      "    print\"=== Post %i with dist=%.2f: %s\" % (i+1,d,post)\n",
      "    \n",
      "    if d < best_dist:\n",
      "        best_dist = d\n",
      "        best_i = i\n",
      "print(\"Best post is %i with dist=%.2f\" % (best_i+1, best_dist))"
     ],
     "language": "python",
     "metadata": {},
     "outputs": [
      {
       "output_type": "stream",
       "stream": "stdout",
       "text": [
        "=== Post 1 with dist=1.41: This is a toy post about machine learning. Actually, it contains not much interesting stuff.\n",
        "=== Post 2 with dist=0.86: Imaging databases provide storage capabilities.\n",
        "=== Post 3 with dist=0.63: Most imaging databases save images permanently.\n",
        "\n",
        "=== Post 4 with dist=0.77: Imaging databases store data.\n",
        "=== Post 5 with dist=0.77: Imaging databases store data. Imaging databases store data. Imaging databases store data.\n",
        "Best post is 3 with dist=0.63\n"
       ]
      }
     ],
     "prompt_number": 315
    },
    {
     "cell_type": "markdown",
     "metadata": {},
     "source": [
      "\u4ee5\u4e0b\u306e\u30c8\u30fc\u30af\u30f3\u3092\u898b\u308b\u3068\uff0cimages\u3068imaging\u304c\u540c\u3058\u5358\u8a9e\u3068\u3057\u3066\u30ab\u30a6\u30f3\u30c8\u3055\u308c\uff0c\u30b9\u30c6\u30df\u30f3\u30b0\u3055\u308c\u3066img\u3068\u5909\u308f\u3063\u3066\u3044\u308b\uff0e\u3053\u306e\u4e8b\u3092\u8e0f\u307e\u3048\u3066\uff0c\u4e0a\u8a18\u306e\u7d50\u679c\u3092\u898b\u308b\u3068\u6587\u66f83\u306b\u306fimg\u304c2\u3064\u542b\u307e\u308c\u308b\u305f\u3081\uff0c\u985e\u4f3c\u5ea6\u304c\u6700\u5927\u3068\u306a\u3063\u3066\u3044\u308b\uff0e"
     ]
    },
    {
     "cell_type": "code",
     "collapsed": false,
     "input": [
      "print(vectorizer.get_feature_names())"
     ],
     "language": "python",
     "metadata": {},
     "outputs": [
      {
       "output_type": "stream",
       "stream": "stdout",
       "text": [
        "[u'actual', u'capabl', u'contain', u'data', u'databas', u'imag', u'interest', u'learn', u'machin', u'perman', u'post', u'provid', u'save', u'storag', u'store', u'stuff', u'toy']\n"
       ]
      }
     ],
     "prompt_number": 316
    },
    {
     "cell_type": "heading",
     "level": 3,
     "metadata": {},
     "source": [
      "3.2.6 TF-IDF\u3092\u7528\u3044\u308b"
     ]
    },
    {
     "cell_type": "markdown",
     "metadata": {},
     "source": [
      "\u4eca\u306e\u3068\u3053\u308d\u30ce\u30a4\u30ba\u306e\u542b\u307e\u308c\u308b(\u8868\u8a18\u306b\u30d6\u30ec\u306e\u3042\u308b)\u30c6\u30ad\u30b9\u30c8\u30c7\u30fc\u30bf\u304b\u3089\uff0c\u7279\u5fb4\u30d9\u30af\u30c8\u30eb\u3092\u62bd\u51fa\u3059\u308b\u3053\u3068\u3092\u884c\u3063\u305f\uff0e\u6b21\u306b\u7279\u5fb4\u91cf\u306e\u610f\u5473\u3059\u308b\u5185\u5bb9\u306b\u3064\u3044\u3066\u518d\u5ea6\u8003\u3048\u3066\u307f\u308b\uff0e<br>\n",
      "\u3053\u308c\u307e\u3067\u8003\u3048\u305f\u7279\u5fb4\u91cf\u306f\uff0c\u6587\u66f8\u306b\u7279\u5b9a\u306e\u5358\u8a9e\u304c\u4f55\u56de\u73fe\u308c\u308b\u304b\u3092\u6570\u3048\u305f\u3082\u306e\u3060\u3063\u305f\uff0e\u3053\u308c\u306f\uff0c\u6587\u66f8\u4e2d\u306b\u7279\u5b9a\u306e\u5358\u8a9e\u304c\u591a\u304f\u5b58\u5728\u3059\u308c\u3070\u3059\u308b\u307b\u3069\uff0c\u305d\u306e\u5358\u8a9e\u306b\u5bfe\u3059\u308b\u91cd\u8981\u5ea6\u304c\u9ad8\u304f\u306a\u308b\u3053\u3068\u3092\u610f\u5473\u3059\u308b\uff0e<br>\n",
      "\u3057\u304b\u3057\uff0c\u3069\u306e\u6587\u66f8\u306b\u3082\u5b58\u5728\u3059\u308b\u3088\u3046\u306a\u5358\u8a9e\u306b\u5bfe\u3057\u3066\uff0c\u3053\u306e\u8003\u3048\u65b9\u3060\u3068\u554f\u984c\u304c\u3042\u308b\uff0e<br>\n",
      "\u4f8b\u3048\u3070\uff0csubject\u306e\u3088\u3046\u306a\uff0c\u3069\u306e\u6587\u66f8\u306b\u3082\u5b58\u5728\u3059\u308b\u3088\u3046\u306a\u5358\u8a9e\u3092\u8003\u3048\u308b\u3068\uff0cmax_df\u306e\u30d1\u30e9\u30e1\u30fc\u30bf\u3092\u8a2d\u5b9a\u3059\u308b\u4e8b\u3067\u6587\u66f8\u306b90%\u4ee5\u4e0a\u5b58\u5728\u3059\u308b\u5358\u8a9e\u3092\u53d6\u308a\u9664\u304f\u4e8b\u306f\u51fa\u6765\u308b\uff0e\u3057\u304b\u3057\uff0c89%\u51fa\u73fe\u3059\u308b\u5358\u8a9e\u306f\u53d6\u308a\u9664\u304f\u4e8b\u304c\u51fa\u6765\u306a\u3044\u3068\u3044\u3046\u4e8b\u3067\u3042\u308b\uff0e<br>\n",
      "\u4ee5\u4e0a\u306e\u554f\u984c\u306b\u5bfe\u3059\u308b\u89e3\u6c7a\u7b56\u3068\u3057\u3066\uff0c\u300c\u3042\u308b\u5358\u8a9e\u306b\u5bfe\u3057\u3066\uff0c\u5bfe\u8c61\u306e\u6587\u7ae0\u4e2d\u3067\u4fee\u9a13\u3057\u305f\u56de\u6570\u3092\u30ab\u30a6\u30f3\u30c8\u3059\u308b\u306e\u306b\u52a0\u3048\u3066\uff0c\u305d\u306e\u5358\u8a9e\u304c<b>\u4ed6\u306e\u6587\u66f8\u3067</b>\u3069\u308c\u3060\u3051\u51fa\u73fe\u3059\u308b\u304b\u3092\u30ab\u30a6\u30f3\u30c8\u3057\uff0c\u305d\u306e\u56de\u6570\u3067\u5272\u308b\u300d\u3068\u3044\u3063\u305f\u65b9\u6cd5\u304c\u3042\u308b\uff0e\u3053\u308c\u3092\u884c\u3046\u4e8b\u3067\uff0c\u7279\u5b9a\u306e\u6587\u66f8\u3060\u3051\u3067\u73fe\u308c\u3084\u3059\u3044\u5358\u8a9e\uff0c\u3064\u307e\u308a\uff0c\u4ed6\u306e\u6587\u66f8\u3067\u306f\u3042\u307e\u308a\u73fe\u308c\u306a\u3044\u5358\u8a9e\u306b\u5bfe\u3057\uff0c\u7279\u5fb4\u91cf\u3068\u3057\u3066\u5927\u304d\u3044\u5024\u3092\u8a2d\u5b9a\u3059\u308b\u4e8b\u304c\u3067\u304d\u308b\uff0e<br>\n",
      "\u3053\u306e\u65b9\u6cd5\u306f\uff0c<b>TF-IDF(term frequency - inverse document frequency)</b>\u3068\u547c\u3070\u308c\u308b\uff0eTF\u306f\u5358\u8a9e\u306e\u51fa\u73fe\u56de\u6570\u3092\u8868\u3057\uff0cIDF\u306f\u9664\u7b97\u3092\u8868\u3059\uff0e<br>"
     ]
    },
    {
     "cell_type": "markdown",
     "metadata": {},
     "source": [
      "\u30d7\u30ed\u30b0\u30e9\u30e0\u3068\u3057\u3066\u5b9f\u88c5\u3059\u308b\u3068\u4ee5\u4e0b\u306e\u3088\u3046\u306b\u306a\u308b"
     ]
    },
    {
     "cell_type": "code",
     "collapsed": false,
     "input": [
      "def tfidf(t, d, D):\n",
      "    tf = float(d.count(t)) / sum(d.count(w) for w in set(d))\n",
      "    idf = sp.log(float(len(D)) / (len([doc for doc in D if t in doc])))\n",
      "    return tf * idf"
     ],
     "language": "python",
     "metadata": {},
     "outputs": [],
     "prompt_number": 317
    },
    {
     "cell_type": "markdown",
     "metadata": {},
     "source": [
      "\u4ee5\u4e0b\u306e\u4f8b\u3067\u306f\uff0c3\u3064\u306e\u6587\u66f8\u304b\u3089\u306a\u308b\u30c7\u30fc\u30bf\u30bb\u30c3\u30c8\u3092\u4f7f\u3044\uff0cTF-IDF\u304c\u3069\u306e\u3088\u3046\u306b\u8a08\u7b97\u3055\u308c\u308b\u304b\u78ba\u8a8d\u3059\u308b\uff0e"
     ]
    },
    {
     "cell_type": "code",
     "collapsed": false,
     "input": [
      "a, abb, abc = [\"a\"],[\"a\", \"b\", \"b\"],[\"a\", \"b\", \"c\"]\n",
      "D = [a, abb, abc]\n",
      "print(tfidf(\"a\", a, D))\n",
      "print(tfidf(\"b\", abb, D))\n",
      "print(tfidf(\"a\", abc, D))\n",
      "print(tfidf(\"b\", abc, D))\n",
      "print(tfidf(\"c\", abc, D))"
     ],
     "language": "python",
     "metadata": {},
     "outputs": [
      {
       "output_type": "stream",
       "stream": "stdout",
       "text": [
        "0.0\n",
        "0.270310072072\n",
        "0.0\n",
        "0.135155036036\n",
        "0.366204096223\n"
       ]
      }
     ],
     "prompt_number": 318
    },
    {
     "cell_type": "markdown",
     "metadata": {},
     "source": [
      "<br>\n",
      "\u4e0a\u8a18\u306e\u7d50\u679c\u3092\u898b\u308b\u3068\uff0ca\u3068\u3044\u3046\u5358\u8a9e\u306f\u5168\u3066\u306e\u5358\u8a9e\u3067\u7528\u3044\u3089\u308c\u308b\u305f\u3081\uff0c\u5024\u304c0\u306b\u306a\u3063\u3066\u3044\u308b\u4e8b\u304c\u78ba\u8a8d\u3067\u304d\u308b\uff0e<br>\n",
      "\u307e\u305f\uff0cb\u3068\u3044\u3046\u5358\u8a9e\u306fabb\u306fabc\u306e2\u500d\u51fa\u73fe\u3057\u3066\u3044\u308b\u305f\u3081\uff0c2\u500d\u91cd\u8981\u3068\u306a\u308b\uff0e<br>\n",
      "TF-IDF\u3092\u884c\u3046\u6a5f\u80fd\u306f\uff0cScikit-learn\u306eTfidfVectorizer\u306b\u542b\u307e\u308c\u3066\u3044\u308b\uff0e\u305d\u306e\u305f\u3081\uff0c\u3053\u308c\u307e\u3067\u4f7f\u7528\u3057\u3066\u304d\u305f\u30b9\u30c6\u30df\u30f3\u30b0\u306e\u6a5f\u80fd\u3092\u4e00\u304b\u3089\u5b9f\u88c5\u3057\u76f4\u3059\u5fc5\u8981\u306f\u306a\u3044\uff0e<br>"
     ]
    },
    {
     "cell_type": "code",
     "collapsed": false,
     "input": [
      "from sklearn.feature_extraction.text import TfidfVectorizer\n",
      "class StemmedTfidfVectorizer(TfidfVectorizer):\n",
      "    def build_analyzer(self):\n",
      "        analyzer = super(StemmedTfidfVectorizer, self).build_analyzer()\n",
      "        return lambda doc: (english_stemmer.stem(w) for w in analyzer(doc))\n",
      "    \n",
      "vectorizer = StemmedTfidfVectorizer(min_df=1, stop_words='english', decode_error='ignore')"
     ],
     "language": "python",
     "metadata": {},
     "outputs": [],
     "prompt_number": 319
    },
    {
     "cell_type": "markdown",
     "metadata": {},
     "source": [
      "\u3053\u3053\u3067\u7279\u5fb4\u30d9\u30af\u30c8\u30eb\u306e\u5024\u306f\uff0c\u5358\u8a9e\u306e\u51fa\u73fe\u56de\u6570\u3067\u306f\u306a\u304f\uff0cTF-IDF\u5024\u304c\u305d\u308c\u305e\u308c\u306e\u5358\u8a9e\u3054\u3068\u306b\u683c\u7d0d\u3055\u308c\u3066\u3044\u308b\uff0e"
     ]
    },
    {
     "cell_type": "heading",
     "level": 3,
     "metadata": {},
     "source": [
      "3.2.7 \u3053\u3053\u307e\u3067\u306e\u307e\u3068\u3081"
     ]
    },
    {
     "cell_type": "markdown",
     "metadata": {},
     "source": [
      "\u30c6\u30ad\u30b9\u30c8\u30c7\u30fc\u30bf\u306e\u524d\u51e6\u7406\u3068\u3057\u3066\u4ee5\u4e0b\u306e\u4e8b\u3092\u884c\u3063\u3066\u304d\u305f"
     ]
    },
    {
     "cell_type": "markdown",
     "metadata": {},
     "source": [
      "&nbsp;&nbsp;&nbsp;&nbsp;1.\u30c6\u30ad\u30b9\u30c8\u30c7\u30fc\u30bf\u3092\u30c8\u30fc\u30af\u30f3\u5316\u3059\u308b<br>\n",
      "&nbsp;&nbsp;&nbsp;&nbsp;2.\u983b\u51fa\u3057\u3059\u304e\u308b\u5358\u8a9e\u306f\uff0c\u95a2\u9023\u3059\u308b\u6587\u66f8\u3092\u898b\u3064\u3051\u308b\u306e\u306b\u5f79\u306b\u7acb\u305f\u306a\u3044\u305f\u3081\u53d6\u308a\u9664\u304f<br>\n",
      "&nbsp;&nbsp;&nbsp;&nbsp;3.\u4f7f\u7528\u983b\u5ea6\u304c\u4f4e\u3044\u5358\u8a9e\u306f\uff0c\u65b0\u3057\u3044\u6587\u66f8\u3067\u3082\u4f7f\u7528\u3055\u308c\u308b\u53ef\u80fd\u6027\u304c\u4f4e\u3044\u305f\u3081\u53d6\u308a\u9664\u304f<br>\n",
      "&nbsp;&nbsp;&nbsp;&nbsp;4.\u6b8b\u3063\u305f\u5358\u8a9e\u306b\u3064\u3044\u3066\uff0c\u305d\u306e\u51fa\u73fe\u56de\u6570\u3092\u30ab\u30a6\u30f3\u30c8\u3059\u308b<br>\n",
      "&nbsp;&nbsp;&nbsp;&nbsp;5.\u6587\u66f8\u5168\u4f53\u306e\u72b6\u6cc1\u3092\u8003\u616e\u3059\u308b\u305f\u3081\uff0c\u305d\u306e\u51fa\u73fe\u56de\u6570\u3092\u30ab\u30a6\u30f3\u30c8\u3059\u308b<br>"
     ]
    },
    {
     "cell_type": "markdown",
     "metadata": {},
     "source": [
      "\u4e0a\u8a18\u306e\u51e6\u7406\u306b\u3088\u308a\uff0c\u30ce\u30a4\u30ba\u306e\u3042\u308b\u30c6\u30ad\u30b9\u30c8\u30c7\u30fc\u30bf\u304b\u3089\u7c21\u6f54\u306b\u307e\u3068\u3081\u3089\u308c\u305f\u7279\u5fb4\u91cf\u3092\u5f97\u308b\u4e8b\u304c\u51fa\u6765\u308b\u3088\u3046\u306b\u306a\u3063\u305f\uff0e<br>\n",
      "bag-of-words\u306b\u3088\u308b\u30a2\u30d7\u30ed\u30fc\u30c1\u306f\u5358\u7d14\u3067\u3042\u308b\u304c\u826f\u3044\u6027\u80fd\u3092\u3082\u305f\u3089\u3059\uff0e\u3057\u304b\u3057\uff0c\u4ee5\u4e0b\u306e\u3088\u3046\u306a\u6b20\u70b9\u304c\u6319\u3052\u3089\u308c\u308b\uff0e<br>\n",
      "<br>\n",
      "<LI>\u5358\u8a9e\u306e\u95a2\u9023\u6027\u306b\u3064\u3044\u3066\u8003\u616e\u3057\u3066\u3044\u306a\u3044\uff0e\u3053\u308c\u307e\u3067\u8003\u3048\u3066\u304d\u305f\u30d9\u30af\u30c8\u30eb\u5316\u624b\u6cd5\u306f\u300cCar hits wall\u300d\u3068\u300cWall hits car\u300d\u306e\u6587\u3067\u540c\u3058\u7279\u5fb4\u30d9\u30af\u30c8\u30eb\u306b\u306a\u308b\uff0e</LI>\n",
      "<LI>\u5426\u5b9a\u7684\u306a\u610f\u5473\u3092\u6b63\u3057\u304f\u6349\u3048\u308b\u4e8b\u304c\u3067\u304d\u306a\u3044\uff0e\u4f8b\u3048\u3070\uff0c\u300cI will eat ice cream\u300d\u3068\u300cI will not eat ice cream\u300d\u306f\u610f\u5473\u7684\u306b\u9006\u3067\u3059\u304c\uff0c\u7279\u5fb4\u30d9\u30af\u30c8\u30eb\u306f\u3068\u3066\u3082\u4f3c\u305f\u3082\u306e\u306b\u306a\u308b\uff0e</LI>\n",
      "<LI>\u30bf\u30a4\u30d7\u30df\u30b9\u306b\u5bfe\u5fdc\u3067\u304d\u306a\u3044\uff0edatabase\u3068databas\u306e\u3088\u3046\u306b\uff0c\u660e\u3089\u304b\u306b\u540c\u3058\u610f\u5473\u3060\u3068\u5206\u304b\u308b\u5834\u5408\u3067\u3082\uff0c\u3053\u306e\u30a2\u30d7\u30ed\u30fc\u30c1\u3067\u306f\u7570\u306a\u308b\u5358\u8a9e\u3068\u3057\u3066\u6271\u308f\u308c\u308b\uff0e</LI>"
     ]
    },
    {
     "cell_type": "markdown",
     "metadata": {},
     "source": [
      "\u672c\u7ae0\u3067\u306f\u4eca\u5f8c\u3082\uff0c\u3053\u3053\u307e\u3067\u4f5c\u6210\u3057\u305f\u30a2\u30d7\u30ed\u30fc\u30c1\u3092\u4f7f\u7528\u3059\u308b\uff0e\u3053\u308c\u306b\u3088\u308a\u52b9\u7387\u7684\u306b\u30af\u30e9\u30b9\u30bf\u30ea\u30f3\u30b0\u3092\u884c\u3046\u6e96\u5099\u304c\u6574\u3063\u305f\uff0e"
     ]
    },
    {
     "cell_type": "heading",
     "level": 2,
     "metadata": {},
     "source": [
      "3.3 \u30af\u30e9\u30b9\u30bf\u30ea\u30f3\u30b0"
     ]
    },
    {
     "cell_type": "markdown",
     "metadata": {},
     "source": [
      "\u30af\u30e9\u30b9\u30bf\u30ea\u30f3\u30b0\u624b\u6cd5\u306f\uff0c\u4e00\u822c\u306b\u30d5\u30e9\u30c3\u30c8\u30af\u30e9\u30b9\u30bf\u30ea\u30f3\u30b0(flat clustering)\u3068\u968e\u5c64\u7684\u30af\u30e9\u30b9\u30bf\u30ea\u30f3\u30b0(hierarchical clustering)\u306e\u3069\u3061\u3089\u304b\u306b\u8a72\u5f53\u3059\u308b\uff0e<br>\n",
      "&nbsp;&nbsp;&nbsp;&nbsp;\u30d5\u30e9\u30c3\u30c8\u30af\u30e9\u30b9\u30bf\u30ea\u30f3\u30b0\u306f\uff0c\u30af\u30e9\u30b9\u30bf\u9593\u306e\u95a2\u4fc2\u6027\u306f\u8003\u616e\u305b\u305a\u306b\uff0c\u30c7\u30fc\u30bf\u3092\u30af\u30e9\u30b9\u30bf\u306b\u5206\u985e\u3059\u308b\uff0e\u3053\u308c\u306f\uff0c\u5168\u3066\u306e\u30c7\u30fc\u30bf\u304c\u3069\u3053\u304b\u4e00\u3064\u306e\u30af\u30e9\u30b9\u30bf\u306b\u5c5e\u3059\u308b\u3088\u3046\u306b\u5206\u5272\u3059\u308b\u4e8b\u3067\uff0c\u30c7\u30fc\u30bf\u306f\u985e\u4f3c\u6027\u306e\u9ad8\u3044\u30c7\u30fc\u30bf\u540c\u58eb\u304c\u30b0\u30eb\u30fc\u30d7\u5316\u3055\u308c\uff0c\u4ed6\u306e\u30af\u30e9\u30b9\u30bf\u306e\u30c7\u30fc\u30bf\u3068\u306f\u985e\u4f3c\u3057\u3066\u3044\u306a\u3044\u4e8b\u304c\u6c42\u3081\u3089\u308c\u308b\uff0e\u30d5\u30e9\u30c3\u30c8\u30af\u30e9\u30b9\u30bf\u30ea\u30f3\u30b0\u3092\u884c\u3046\u30a2\u30eb\u30b4\u30ea\u30ba\u30e0\u306f\u591a\u3044\u304c\uff0c\u305d\u306e\u5927\u534a\u306f\u524d\u3082\u3063\u3066\u30af\u30e9\u30b9\u30bf\u306e\u6570\u3092\u6c7a\u3081\u308b\u5fc5\u8981\u304c\u3042\u308b\uff0e<br>\n",
      "&nbsp;&nbsp;&nbsp;&nbsp;\u968e\u5c64\u7684\u30af\u30e9\u30b9\u30bf\u30ea\u30f3\u30b0\u3067\u306f\uff0c\u30af\u30e9\u30b9\u30bf\u306e\u6570\u3092\u6307\u5b9a\u3059\u308b\u5fc5\u8981\u306f\u306a\u3044\uff0e\u305d\u306e\u4ee3\u308f\u308a\uff0c\u30af\u30e9\u30b9\u30bf\u3092\u968e\u5c64\u69cb\u9020\u306b\u7d44\u307f\u7acb\u3066\u308b\uff0e\u985e\u4f3c\u6027\u306e\u9ad8\u3044\u30c7\u30fc\u30bf\u3092\u30af\u30e9\u30b9\u30bf\u3068\u3057\u3066\u30b0\u30eb\u30fc\u30d7\u5316\u3057\uff0c\u305d\u306e\u30af\u30e9\u30b9\u30bf\u3068\u985e\u4f3c\u3059\u308b\u30af\u30e9\u30b9\u30bf\u3092\u307e\u3068\u3081\u3066\u89aa\u30af\u30e9\u30b9\u30bf\u3068\u3059\u308b\uff0e\u3053\u308c\u3092\u518d\u5e30\u7684\u306b\u884c\u3044\uff0c\u30af\u30e9\u30b9\u30bf\u304c\u4e00\u3064\u306b\u306a\u308b\u307e\u3067\u7e70\u308a\u8fd4\u3059\uff0e\u6700\u5f8c\u306e\u30af\u30e9\u30b9\u30bf\u306f\u5168\u3066\u306e\u30c7\u30fc\u30bf\u6301\u3064\u3053\u3068\u306b\u306a\u308b\uff0e\u968e\u5c64\u7684\u30af\u30e9\u30b9\u30bf\u30ea\u30f3\u30b0\u3067\u306f\u30af\u30e9\u30b9\u30bf\u306e\u6570\u3092\u6307\u5b9a\u3067\u304d\u308b\u304c\uff0c\u3053\u308c\u306f\u51e6\u7406\u52b9\u7387\u3092\u843d\u3068\u3059\u3053\u3068\u306b\u306a\u308b\uff0e<br>\n",
      "<br>\n",
      "Scikit-learn\u3067\u306f\uff0c\u30af\u30e9\u30b9\u30bf\u30ea\u30f3\u30b0\u306e\u305f\u3081\u306e\u624b\u6cd5\u3092\u5e45\u5e83\u304f\u53d6\u308a\u6271\u3063\u3066\u3044\u308b\uff0e\u4ee5\u4e0b\u306eWeb\u30da\u30fc\u30b8\u3067\u306f\uff0c\u305d\u308c\u305e\u308c\u306e\u624b\u6cd5\u306b\u3064\u3044\u3066\uff0c\u305d\u306e\u5229\u70b9\u3084\u6b20\u70b9\u306a\u3069\u306e\u6982\u8981\u3092\u77e5\u308b\u4e8b\u304c\u3067\u304d\u308b\uff0e"
     ]
    },
    {
     "cell_type": "code",
     "collapsed": false,
     "input": [
      "from IPython.display import HTML\n",
      "HTML('<iframe src=http://scikit-learn.org/dev/modules/clustering.html?useformat=mobile width=900 height=400></iframe>')"
     ],
     "language": "python",
     "metadata": {},
     "outputs": [
      {
       "html": [
        "<iframe src=http://scikit-learn.org/dev/modules/clustering.html?useformat=mobile width=900 height=400></iframe>"
       ],
       "metadata": {},
       "output_type": "pyout",
       "prompt_number": 320,
       "text": [
        "<IPython.core.display.HTML at 0x11610dd10>"
       ]
      }
     ],
     "prompt_number": 320
    },
    {
     "cell_type": "heading",
     "level": 3,
     "metadata": {},
     "source": [
      "3.3.1 KMeans"
     ]
    },
    {
     "cell_type": "markdown",
     "metadata": {},
     "source": [
      "KMeans\u306f\u30d5\u30e9\u30c3\u30c8\u30af\u30e9\u30b9\u30bf\u30ea\u30f3\u30b0\u306e\u4e2d\u3067\uff0c\u6700\u3082\u5e83\u304f\u7528\u3044\u3089\u308c\u308b\u30a2\u30eb\u30b4\u30ea\u30ba\u30e0\u3067\u3042\u308b\uff0e\u30af\u30e9\u30b9\u30bf\u306e\u6570\u3092\u793a\u3059num_clusters\u3092\u6307\u5b9a\u3057\u3066\u521d\u671f\u5316\u3092\u884c\u3046\uff0e\u3053\u3053\u3067\u306f\uff0c\u6307\u5b9a\u3057\u305f\u6570\u306e\u5206\u3060\u3051\uff0c\u4e2d\u5fc3\u70b9\u3092\u6301\u3064\uff0e\u521d\u3081\u306b\uff0cnum_clusters\u3067\u6307\u5b9a\u3057\u305f\u6570\u306e\u30c7\u30fc\u30bf\u3092\u4efb\u610f\u306b\u9078\u51fa\u3057\uff0c\u305d\u306e\u7279\u5fb4\u30d9\u30af\u30c8\u30eb\u3092\u4e2d\u5fc3\u70b9\u3068\u3059\u308b\uff0e\u6b21\u306b\uff0c\u9078\u3070\u308c\u306a\u304b\u3063\u305f\u30c7\u30fc\u30bf\u306b\u3064\u3044\u3066\uff0c\u6700\u3082\u8fd1\u3044\u4e2d\u5fc3\u70b9\u3092\u3082\u3064\u30af\u30e9\u30b9\u30bf\u3092\uff0c\u305d\u306e\u30c7\u30fc\u30bf\u306e\u30af\u30e9\u30b9\u30bf\u3068\u3059\u308b\uff0e\u305d\u3057\u3066\u5404\u30af\u30e9\u30b9\u30bf\u306b\u3064\u3044\u3066\uff0c\u305d\u306e\u4e2d\u5fc3\u70b9\u306e\u4f4d\u7f6e\u30c7\u30fc\u30bf\u3092\u66f4\u65b0\u3059\u308b\uff0e\u4e2d\u5fc3\u70b9\u306e\u66f4\u65b0\u65b9\u6cd5\u306f\u30af\u30e9\u30b9\u30bf\u306b\u6240\u5b58\u3059\u308b\u30c7\u30fc\u30bf\u5168\u3066\u3092\u5bfe\u8c61\u306b\u3057\u3066\u305d\u308c\u3089\u306e\u7279\u5fb4\u30d9\u30af\u30c8\u30eb\u306e\u5e73\u5747\u3092\uff0c\u305d\u306e\u30af\u30e9\u30b9\u30bf\u306e\u4e2d\u5fc3\u70b9\u3068\u3059\u308b\uff0e\u5404\u30af\u30e9\u30b9\u30bf\u306e\u4e2d\u5fc3\u70b9\u304c\u5909\u66f4\u3055\u308c\u308b\u306e\u3067\uff0c\u30c7\u30fc\u30bf\u6240\u5c5e\u3059\u308b\u30af\u30e9\u30b9\u30bf\u304c\u5909\u66f4\u3055\u308c\u308b\u53ef\u80fd\u6027\u304c\u3042\u308b\uff0e\u3042\u308b\u30c7\u30fc\u30bf\u306b\u3064\u3044\u3066\u306f\uff0c\u4ed6\u306e\u30af\u30e9\u30b9\u30bf\u306e\u4e2d\u5fc3\u70b9\u306e\u307b\u3046\u304c\u8fd1\u304f\u306a\u308b\u304b\u3082\u3057\u308c\u306a\u3044\uff0e\u305d\u306e\u3088\u3046\u306a\u30c7\u30fc\u30bf\u304c\u3042\u308c\u3070\uff0c\u6240\u5c5e\u3059\u308b\u30af\u30e9\u30b9\u30bf\u3092\u5909\u66f4\u3057\u3066\u3044\u304f\uff0e\u3053\u306e\u4f5c\u696d\u3092\u4e2d\u5fc3\u70b9\u306e\u52d5\u304f\u8ddd\u96e2\u304c\u3042\u308b\u95be\u5024\u4ee5\u4e0a\u306e\u9593\u306f\u7e70\u308a\u8fd4\u3059\uff0e\u3042\u308b\u7a0b\u5ea6\u7e70\u308a\u8fd4\u3057\u305f\u5f8c\u3067\uff0c\u305d\u306e\u79fb\u52d5\u8ddd\u96e2\u304c\u95be\u5024\u3092\u4e0b\u56de\u308c\u3070\uff0c\u30af\u30e9\u30b9\u30bf\u30ea\u30f3\u30b0\u51e6\u7406\u304c\u53ce\u675f\u3057\u305f\u3068\u8003\u3048\u308b\uff0e"
     ]
    },
    {
     "cell_type": "code",
     "collapsed": false,
     "input": [
      "from scipy.stats import norm\n",
      "from sklearn.cluster import KMeans\n",
      "seed = 2\n",
      "sp.random.seed(seed)  # to reproduce the data later on\n",
      "\n",
      "num_clusters = 3\n",
      "\n",
      "\n",
      "def plot_clustering(x, y, title, mx=None, ymax=None, xmin=None, km=None):\n",
      "    pylab.figure(num=None, figsize=(8, 6))\n",
      "    if km:\n",
      "        pylab.scatter(x, y, s=50, c=km.predict(list(zip(x, y))))\n",
      "    else:\n",
      "        pylab.scatter(x, y, s=50)\n",
      "\n",
      "    pylab.title(title)\n",
      "    pylab.xlabel(\"Occurrence word 1\")\n",
      "    pylab.ylabel(\"Occurrence word 2\")\n",
      "\n",
      "    pylab.autoscale(tight=True)\n",
      "    pylab.ylim(ymin=0, ymax=1)\n",
      "    pylab.xlim(xmin=0, xmax=1)\n",
      "    pylab.grid(True, linestyle='-', color='0.75')\n",
      "\n",
      "    return pylab\n",
      "\n",
      "\n",
      "xw1 = norm(loc=0.3, scale=.15).rvs(20)\n",
      "yw1 = norm(loc=0.3, scale=.15).rvs(20)\n",
      "\n",
      "xw2 = norm(loc=0.7, scale=.15).rvs(20)\n",
      "yw2 = norm(loc=0.7, scale=.15).rvs(20)\n",
      "\n",
      "xw3 = norm(loc=0.2, scale=.15).rvs(20)\n",
      "yw3 = norm(loc=0.8, scale=.15).rvs(20)\n",
      "\n",
      "x = sp.append(sp.append(xw1, xw2), xw3)\n",
      "y = sp.append(sp.append(yw1, yw2), yw3)\n",
      "\n",
      "plot_clustering(x, y, \"Vectors\")"
     ],
     "language": "python",
     "metadata": {},
     "outputs": [
      {
       "metadata": {},
       "output_type": "pyout",
       "prompt_number": 321,
       "text": [
        "<module 'matplotlib.pylab' from '/System/Library/Frameworks/Python.framework/Versions/2.7/Extras/lib/python/matplotlib/pylab.pyc'>"
       ]
      },
      {
       "metadata": {},
       "output_type": "display_data",
       "png": "[encoded data removed]",
       "text": [
        "<matplotlib.figure.Figure at 0x117896ad0>"
       ]
      }
     ],
     "prompt_number": 321
    },
    {
     "cell_type": "markdown",
     "metadata": {},
     "source": [
      "\u4e0a\u8a18\u306e\u30b0\u30e9\u30d5\u306f\u4e8c\u3064\u306e\u5358\u8a9e\u304b\u3089\u306a\u308b\u6587\u66f8\u306e\u96c6\u5408\u3092\u7528\u3044\u3066\uff0c\u5404\u5358\u8a9e\u306e\u91cd\u307f\u3092\u53ef\u8996\u5316\u3057\u305f\u3082\u306e\u306b\u306a\u308b\uff0e\u3053\u306e\u30b0\u30e9\u30d5\u3092\u7528\u3044\u3066Kmeans\u306e\u30d7\u30ed\u30bb\u30b9\u3092\u5b66\u3093\u3067\u3044\u304f\uff0e<br>\n",
      "\u307e\u305a\uff0cKMeans\u306e\u30eb\u30fc\u30d7\u51e6\u7406\u3092\u4e00\u5ea6\u884c\u3063\u305f\u3068\u304d\u306b\u3069\u3046\u306a\u308b\u304b\u78ba\u8a8d\u3059\u308b\uff0e3\u3064\u306e\u7279\u5fb4\u30d9\u30af\u30c8\u30eb\u3092\u521d\u671f\u4f4d\u7f6e\u3068\u3057\u3066\u4efb\u610f\u306b\u9078\u51fa\u3057\uff0c\u5404\u30c7\u30fc\u30bf\u304b\u3089\u4e00\u756a\u8fd1\u3044\u4e2d\u5fc3\u70b9\u306e\u30af\u30e9\u30b9\u30bf\u306b\u8a2d\u5b9a\u3059\u308b\uff0e\u6b21\u306b\uff0c\u30af\u30e9\u30b9\u30bf\u306e\u4e2d\u5fc3\u70b9\u3092\u305d\u306e\u30af\u30e9\u30b9\u30bf\u306b\u6240\u5c5e\u3059\u308b\u70b9\u306e\u5e73\u5747\u70b9\u306b\u66f4\u65b0\u3059\u308b\uff0e<br>\n",
      "<br>\n",
      "\u7d50\u679c\u306f\u4ee5\u4e0b\u306e\u3088\u3046\u306b\u306a\u308b"
     ]
    },
    {
     "cell_type": "code",
     "collapsed": false,
     "input": [
      "mx, my = sp.meshgrid(sp.arange(0, 1, 0.001), sp.arange(0, 1, 0.001))\n",
      "\n",
      "km = KMeans(init='random', n_clusters=num_clusters, verbose=1,\n",
      "            n_init=1, max_iter=1,\n",
      "            random_state=seed)\n",
      "km.fit(sp.array(list(zip(x, y))))\n",
      "\n",
      "Z = km.predict(sp.c_[mx.ravel(), my.ravel()]).reshape(mx.shape)\n",
      "\n",
      "plot_clustering(x, y, \"Clustering iteration 1\", km=km)\n",
      "pylab.imshow(Z, interpolation='nearest',\n",
      "             extent=(mx.min(), mx.max(), my.min(), my.max()),\n",
      "             cmap=pylab.cm.Blues,\n",
      "             aspect='auto', origin='lower')\n",
      "\n",
      "c1a, c1b, c1c = km.cluster_centers_\n",
      "pylab.scatter(km.cluster_centers_[:, 0], km.cluster_centers_[:, 1],\n",
      "              marker='x', linewidth=2, s=100, color='black')\n"
     ],
     "language": "python",
     "metadata": {},
     "outputs": [
      {
       "output_type": "stream",
       "stream": "stdout",
       "text": [
        "Initialization complete\n",
        "Iteration  0, inertia 4.749\n"
       ]
      },
      {
       "metadata": {},
       "output_type": "pyout",
       "prompt_number": 322,
       "text": [
        "<matplotlib.collections.PathCollection at 0x11791e250>"
       ]
      },
      {
       "metadata": {},
       "output_type": "display_data",
       "png": "[encoded data removed]",
       "text": [
        "<matplotlib.figure.Figure at 0x11787d210>"
       ]
      }
     ],
     "prompt_number": 322
    },
    {
     "cell_type": "markdown",
     "metadata": {},
     "source": [
      "\u30af\u30e9\u30b9\u30bf\u306e\u4e2d\u5fc3\u304c\u52d5\u304f\u305f\u3081\uff0c\u518d\u5ea6\u30af\u30e9\u30b9\u30bf\u306e\u30e9\u30d9\u30eb\u4ed8\u3051\u3092\u884c\u3044\uff0c\u30af\u30e9\u30b9\u30bf\u306e\u4e2d\u5fc3\u3092\u8a08\u7b97\u3057\u76f4\u3059\u5fc5\u8981\u304c\u3042\u308b\uff0e\u30eb\u30fc\u30d7\u51e6\u7406\u30922\u56de\u7e70\u308a\u8fd4\u3059\u3068\uff0c\u30af\u30e9\u30b9\u30bf\u30ea\u30f3\u30b0\u306e\u4e2d\u5fc3\u306f\u4ee5\u4e0b\u306e\u3088\u3046\u306b\u306a\u308b\uff0e<br>\n",
      "\u3053\u308c\u3089\u306e\u51e6\u7406\u304c\u7d42\u308f\u308b\u3068\uff0c\u30af\u30e9\u30b9\u30bf\u306e\u4e2d\u5fc3\u70b9\u3068\u305d\u306e\u30e9\u30d9\u30eb\u3092\u8a18\u61b6\u3057\uff0c\u65b0\u3057\u3044\u6587\u66f8\u304c\u5165\u529b\u3055\u308c\u308b\u3068\uff0c\u305d\u306e\u6587\u66f8\u3092\u30d9\u30af\u30c8\u30eb\u5316\u3057\u3066\uff0c\u3059\u3079\u3066\u306e\u30af\u30e9\u30b9\u30bf\u306e\u4e2d\u5fc3\u70b9\u3068\u6bd4\u8f03\u3059\u308b\uff0e\u305d\u306e\u7d50\u679c\uff0c\u6700\u3082\u8ddd\u96e2\u306e\u5c0f\u3055\u3044\u30af\u30e9\u30b9\u30bf\u306e\u4e2d\u5fc3\u70b9\u3092\u63a2\u3057\uff0c\u305d\u308c\u3092\u65b0\u3057\u3044\u6587\u66f8\u306e\u30af\u30e9\u30b9\u30bf\u3068\u3059\u308b\uff0e\u3053\u306e\u6642\u30d0\u30c4\u5370\u306f\u30af\u30e9\u30b9\u30bf\u306e\u4e2d\u5fc3\u70b9\u3092\u8868\u3057\u3066\u3044\u308b\uff0e"
     ]
    },
    {
     "cell_type": "code",
     "collapsed": false,
     "input": [
      "km = KMeans(init='random', n_clusters=num_clusters, verbose=1,\n",
      "            n_init=1, max_iter=10,\n",
      "            random_state=seed)\n",
      "km.fit(sp.array(list(zip(x, y))))\n",
      "\n",
      "Z = km.predict(sp.c_[mx.ravel(), my.ravel()]).reshape(mx.shape)\n",
      "\n",
      "plot_clustering(x, y, \"Clustering iteration 10\", km=km)\n",
      "pylab.imshow(Z, interpolation='nearest',\n",
      "             extent=(mx.min(), mx.max(), my.min(), my.max()),\n",
      "             cmap=pylab.cm.Blues,\n",
      "             aspect='auto', origin='lower')\n",
      "\n",
      "pylab.scatter(km.cluster_centers_[:, 0], km.cluster_centers_[:, 1],\n",
      "              marker='x', linewidth=2, s=100, color='black')"
     ],
     "language": "python",
     "metadata": {},
     "outputs": [
      {
       "output_type": "stream",
       "stream": "stdout",
       "text": [
        "Initialization complete\n",
        "Iteration  0, inertia 4.749\n",
        "Iteration  1, inertia 3.379\n",
        "Iteration  2, inertia 2.600\n",
        "Iteration  3, inertia 2.497\n",
        "Iteration  4, inertia 2.447\n",
        "Converged at iteration 4\n"
       ]
      },
      {
       "metadata": {},
       "output_type": "pyout",
       "prompt_number": 323,
       "text": [
        "<matplotlib.collections.PathCollection at 0x1173711d0>"
       ]
      },
      {
       "metadata": {},
       "output_type": "display_data",
       "png": "[encoded data removed]",
       "text": [
        "<matplotlib.figure.Figure at 0x1172e8150>"
       ]
      }
     ],
     "prompt_number": 323
    },
    {
     "cell_type": "heading",
     "level": 3,
     "metadata": {},
     "source": [
      "3.3.2 \u30c6\u30b9\u30c8\u30c7\u30fc\u30bf\u3092\u7528\u3044\u3066\u8a55\u4fa1\u3092\u884c\u3046"
     ]
    },
    {
     "cell_type": "markdown",
     "metadata": {},
     "source": [
      "\u30af\u30e9\u30b9\u30bf\u30ea\u30f3\u30b0\u306e\u8a55\u4fa1\u3092\u884c\u3046\u305f\u3081\uff0c\u300c20newsgroup\u300d\u3068\u3044\u3046\u30c7\u30fc\u30bf\u30bb\u30c3\u30c8\u3092\u7528\u3044\u308b\uff0e\u3053\u308c\u306f\uff0c20\u500b\u306e\u30cb\u30e5\u30fc\u30b9\u30b0\u30eb\u30fc\u30d7\u304b\u3089\u96c6\u3081\u3089\u308c\u305f18826\u500b\u306e\u6587\u66f8\u304c\u542b\u307e\u308c\u3066\u3044\u308b\uff0e\u30cb\u30e5\u30fc\u30b9\u30b0\u30eb\u30fc\u30d7\u306b\u306f\uff0ccomp.sys.mac.hardware\u3084sc.crypt\u3068\u3044\u3063\u305f\u6280\u8853\u7cfb\u3092\u6271\u3046\u30b5\u30a4\u30c8\u3084\uff0ctalk.politics,guns\uff0csoc.religion.christian\u3068\u3044\u3063\u305f\u653f\u6cbb\u3084\u5b97\u6559\u306b\u95a2\u9023\u3057\u305f\u30b5\u30a4\u30c8\u306a\u3069\uff0c\u69d8\u3005\u306a\u5206\u91ce\u304c\u542b\u307e\u308c\u3066\u3044\u308b\uff0e\u4eca\u56de\u306f\uff0c\u6280\u8853\u7cfb\u3092\u6271\u3046\u30b0\u30eb\u30fc\u30d7\u3060\u3051\u3092\u5bfe\u8c61\u3068\u3059\u308b\uff0e\u305d\u3057\u3066\uff0c\u6280\u8853\u7cfb\u306e\u5404\u30cb\u30e5\u30fc\u30b9\u30b0\u30eb\u30fc\u30d7\u304c\u5404\u6587\u66f8\u306b\u5c5e\u3059\u308b\u30af\u30e9\u30b9\u30bf\u3067\u3042\u308b\u3068\u898b\u306a\u3059\uff0e\u3053\u306e\u3088\u3046\u306b\u3059\u308b\u4e8b\u3067\uff0c\u5404\u6587\u66f8\u306e\u6b63\u89e3\u3068\u306a\u308b\u30e9\u30d9\u30eb(\u30af\u30e9\u30b9\u30bf)\u304c\u308f\u304b\u3063\u3066\u3044\u308b\u305f\u3081\uff0c\u90fd\u5408\u826f\u304f\u8a55\u4fa1\u3092\u884c\u3046\u4e8b\u304c\u3067\u304d\u308b\uff0e<br>"
     ]
    },
    {
     "cell_type": "code",
     "collapsed": false,
     "input": [
      "import sklearn.datasets\n",
      "MLCOMP_DIR = r\"~/data/\"\n",
      "data = sklearn.datasets.load_mlcomp(\"20news-18828\",mlcomp_root=MLCOMP_DIR)"
     ],
     "language": "python",
     "metadata": {},
     "outputs": [],
     "prompt_number": 324
    },
    {
     "cell_type": "code",
     "collapsed": false,
     "input": [
      "print len(data.filenames)\n",
      "print data.target_names"
     ],
     "language": "python",
     "metadata": {},
     "outputs": [
      {
       "output_type": "stream",
       "stream": "stdout",
       "text": [
        "18828\n",
        "['alt.atheism', 'comp.graphics', 'comp.os.ms-windows.misc', 'comp.sys.ibm.pc.hardware', 'comp.sys.mac.hardware', 'comp.windows.x', 'misc.forsale', 'rec.autos', 'rec.motorcycles', 'rec.sport.baseball', 'rec.sport.hockey', 'sci.crypt', 'sci.electronics', 'sci.med', 'sci.space', 'soc.religion.christian', 'talk.politics.guns', 'talk.politics.mideast', 'talk.politics.misc', 'talk.religion.misc']\n"
       ]
      }
     ],
     "prompt_number": 325
    },
    {
     "cell_type": "markdown",
     "metadata": {},
     "source": [
      "\u8a13\u7df4\u30c7\u30fc\u30bf\u3068\u8a55\u4fa1\u30c7\u30fc\u30bf\u306f\u4ee5\u4e0b\u306e\u3088\u3046\u306b\u8aad\u307f\u8fbc\u3080"
     ]
    },
    {
     "cell_type": "code",
     "collapsed": false,
     "input": [
      "train_data = sklearn.datasets.load_mlcomp(\"20news-18828\",\"train\",mlcomp_root=MLCOMP_DIR)"
     ],
     "language": "python",
     "metadata": {},
     "outputs": [],
     "prompt_number": 326
    },
    {
     "cell_type": "code",
     "collapsed": false,
     "input": [
      "print (len(train_data.filenames))"
     ],
     "language": "python",
     "metadata": {},
     "outputs": [
      {
       "output_type": "stream",
       "stream": "stdout",
       "text": [
        "13180\n"
       ]
      }
     ],
     "prompt_number": 327
    },
    {
     "cell_type": "code",
     "collapsed": false,
     "input": [
      "test_data = sklearn.datasets.load_mlcomp(\"20news-18828\",\"test\",mlcomp_root=MLCOMP_DIR)"
     ],
     "language": "python",
     "metadata": {},
     "outputs": [],
     "prompt_number": 328
    },
    {
     "cell_type": "code",
     "collapsed": false,
     "input": [
      "print (len(test_data.filenames))"
     ],
     "language": "python",
     "metadata": {},
     "outputs": [
      {
       "output_type": "stream",
       "stream": "stdout",
       "text": [
        "5648\n"
       ]
      }
     ],
     "prompt_number": 329
    },
    {
     "cell_type": "markdown",
     "metadata": {},
     "source": [
      "\u3053\u3053\u3067\u306f\uff0c\u554f\u984c\u3092\u8907\u96d1\u306b\u3057\u306a\u3044\u305f\u3081\u306b\uff0c\u3044\u304f\u3064\u304b\u306e\u30cb\u30e5\u30fc\u30b9\u30b0\u30eb\u30fc\u30d7\u306b\u9650\u5b9a\u3057\u3066\u53d6\u308a\u7d44\u3080\u3053\u3068\u306b\u3059\u308b\uff0e\u3053\u3046\u3059\u308b\u3053\u3068\u3067\uff0c\u5b9f\u9a13\u306e\u30b5\u30a4\u30af\u30eb\u3082\u77ed\u304f\u306a\u308b\uff0e\u4ee5\u4e0b\u306b\u793a\u3059\u3088\u3046\u306bcategories\u30d1\u30e9\u30e1\u30fc\u30bf\u3092\u7528\u3044\u308b\uff0e"
     ]
    },
    {
     "cell_type": "code",
     "collapsed": false,
     "input": [
      "groups = [ 'comp.graphics', 'comp.os.ms-windows.misc', 'comp.sys.ibm.pc.hardware',\n",
      "    'comp.sys.ma c.hardware', 'comp.windows.x', 'sci.space']\n",
      "train_data = sklearn.datasets.load_mlcomp(\"20news-18828\",\"train\",mlcomp_root=MLCOMP_DIR,categories=groups)"
     ],
     "language": "python",
     "metadata": {},
     "outputs": [],
     "prompt_number": 330
    },
    {
     "cell_type": "code",
     "collapsed": false,
     "input": [
      "print (len(train_data.filenames))"
     ],
     "language": "python",
     "metadata": {},
     "outputs": [
      {
       "output_type": "stream",
       "stream": "stdout",
       "text": [
        "3414\n"
       ]
      }
     ],
     "prompt_number": 331
    },
    {
     "cell_type": "heading",
     "level": 3,
     "metadata": {},
     "source": [
      "3.3.3 \u6587\u66f8\u306e\u30af\u30e9\u30b9\u30bf\u30ea\u30f3\u30b0"
     ]
    },
    {
     "cell_type": "markdown",
     "metadata": {},
     "source": [
      "\u4f7f\u7528\u3059\u308b\u30cb\u30e5\u30fc\u30b9\u30b0\u30eb\u30fc\u30d7\u306b\u306f\u30ce\u30a4\u30ba(\u5b66\u7fd2\u3057\u305f\u3044\u3082\u306e\u3068\u306f\u5225\u306e\u30c7\u30fc\u30bf)\u304c\u542b\u307e\u308c\u3066\u304a\u308a\uff0c\u4e0d\u9069\u5207\u306a\u6587\u5b57\u3055\u3048\u542b\u307e\u308c\u308b\u4e8b\u304c\u3042\u308b\uff0e\u305d\u306e\u5834\u5408\u306fUnicodeDecodeError\u3068\u3044\u3046\u30a8\u30e9\u30fc\u304c\u8d77\u304d\u3066\u3057\u307e\u3046\uff0e\u305d\u306e\u70ba\uff0c\u30d9\u30af\u30c8\u30eb\u5316\u3092\u884c\u3046\u3068\u304d\u306b\uff0c\u4e0d\u9069\u5207\u306a\u6587\u5b57\u3092\u7121\u8996\u3059\u308b\u3088\u3046\u306b\u6307\u5b9a\u3059\u308b\u5fc5\u8981\u304c\u3042\u308b\uff0e\u305d\u308c\u306b\u306f\uff0c\u4ee5\u4e0b\u306b\u793a\u3059\u3088\u3046\u306b\uff0ccharset_error='ignore'\u3068\u6307\u5b9a\u3059\u308b\uff0e"
     ]
    },
    {
     "cell_type": "code",
     "collapsed": false,
     "input": [
      "vectorizer = StemmedTfidfVectorizer(min_df=10,max_df=0.5,stop_words='english',decode_error='ignore')\n",
      "vectorized = vectorizer.fit_transform(train_data.data)\n",
      "num_samples,num_features = vectorized.shape\n",
      "print(\"#samples: %d,#features: %d\" % (num_samples, num_features))"
     ],
     "language": "python",
     "metadata": {},
     "outputs": [
      {
       "output_type": "stream",
       "stream": "stdout",
       "text": [
        "#samples: 3414,#features: 4331\n"
       ]
      }
     ],
     "prompt_number": 344
    },
    {
     "cell_type": "markdown",
     "metadata": {},
     "source": [
      "\u3053\u3053\u3067\u306f\uff0c3414\u500b\u306e\u6587\u66f8\u304c\u3042\u308a\uff0c\u305d\u308c\u305e\u308c4331\u6b21\u5143\u306e\u7279\u5fb4\u30d9\u30af\u30c8\u30eb\u3092\u6301\u3063\u3066\u3044\u308b\uff0e\u4ee5\u4e0b\u3067\u306f\uff0c\u30af\u30e9\u30b9\u30bf\u6570\u309250\u306b\u8a2d\u5b9a\u3057\uff0c\u30af\u30e9\u30b9\u30bf\u30ea\u30f3\u30b0\u3092\u884c\u3046\uff0e"
     ]
    },
    {
     "cell_type": "code",
     "collapsed": false,
     "input": [
      "num_clusters = 50\n",
      "from sklearn.cluster import KMeans\n",
      "km = KMeans(n_clusters=num_clusters,n_init=1,verbose=1,random_state=1)\n",
      "clustered = km.fit(vectorized)"
     ],
     "language": "python",
     "metadata": {},
     "outputs": [
      {
       "output_type": "stream",
       "stream": "stdout",
       "text": [
        "Initialization complete\n",
        "Iteration  0, inertia 5515.098"
       ]
      },
      {
       "output_type": "stream",
       "stream": "stdout",
       "text": [
        "\n",
        "Iteration  1, inertia 3061.433"
       ]
      },
      {
       "output_type": "stream",
       "stream": "stdout",
       "text": [
        "\n",
        "Iteration  2, inertia 3028.318"
       ]
      },
      {
       "output_type": "stream",
       "stream": "stdout",
       "text": [
        "\n",
        "Iteration  3, inertia 3015.728"
       ]
      },
      {
       "output_type": "stream",
       "stream": "stdout",
       "text": [
        "\n",
        "Iteration  4, inertia 3008.094"
       ]
      },
      {
       "output_type": "stream",
       "stream": "stdout",
       "text": [
        "\n",
        "Iteration  5, inertia 3002.926"
       ]
      },
      {
       "output_type": "stream",
       "stream": "stdout",
       "text": [
        "\n",
        "Iteration  6, inertia 3000.056"
       ]
      },
      {
       "output_type": "stream",
       "stream": "stdout",
       "text": [
        "\n",
        "Iteration  7, inertia 2998.753"
       ]
      },
      {
       "output_type": "stream",
       "stream": "stdout",
       "text": [
        "\n",
        "Iteration  8, inertia 2998.124"
       ]
      },
      {
       "output_type": "stream",
       "stream": "stdout",
       "text": [
        "\n",
        "Iteration  9, inertia 2997.446"
       ]
      },
      {
       "output_type": "stream",
       "stream": "stdout",
       "text": [
        "\n",
        "Iteration 10, inertia 2996.918"
       ]
      },
      {
       "output_type": "stream",
       "stream": "stdout",
       "text": [
        "\n",
        "Iteration 11, inertia 2996.598"
       ]
      },
      {
       "output_type": "stream",
       "stream": "stdout",
       "text": [
        "\n",
        "Iteration 12, inertia 2996.521"
       ]
      },
      {
       "output_type": "stream",
       "stream": "stdout",
       "text": [
        "\n",
        "Iteration 13, inertia 2996.503"
       ]
      },
      {
       "output_type": "stream",
       "stream": "stdout",
       "text": [
        "\n",
        "Converged at iteration 13\n"
       ]
      }
     ],
     "prompt_number": 411
    },
    {
     "cell_type": "code",
     "collapsed": false,
     "input": [
      "print(\"km.labels_=%s\" % km.labels_)"
     ],
     "language": "python",
     "metadata": {},
     "outputs": [
      {
       "output_type": "stream",
       "stream": "stdout",
       "text": [
        "km.labels_=[17 40 39 ...,  6  5 41]\n"
       ]
      }
     ],
     "prompt_number": 412
    },
    {
     "cell_type": "code",
     "collapsed": false,
     "input": [
      "print(\"km.labels_.shape=%s\" % km.labels_.shape)"
     ],
     "language": "python",
     "metadata": {},
     "outputs": [
      {
       "output_type": "stream",
       "stream": "stdout",
       "text": [
        "km.labels_.shape=3414\n"
       ]
      }
     ],
     "prompt_number": 413
    },
    {
     "cell_type": "markdown",
     "metadata": {},
     "source": [
      "\u30af\u30e9\u30b9\u30bf\u306e\u4e2d\u5fc3\u70b9\u306f\uff0ckm.cluster\\_centers\\_\u3088\u308a\u53d6\u5f97\u3059\u308b\u4e8b\u304c\u3067\u304d\u308b\uff0e<br>\n",
      "\u6b21\u306e\u7bc0\u3067\u306f\uff0c\u65b0\u3057\u3044\u6587\u66f8\u306b\u5bfe\u3057\u3066\uff0c\u30af\u30e9\u30b9\u30bf\u3092\u6c7a\u5b9a\u3059\u308b\u65b9\u6cd5\u306b\u3064\u3044\u3066\u898b\u3066\u3044\u304f\uff0e"
     ]
    },
    {
     "cell_type": "heading",
     "level": 2,
     "metadata": {},
     "source": [
      "3.4 \u6700\u521d\u306e\u554f\u984c\u306b\u5bfe\u3059\u308b\u7b54\u3048"
     ]
    },
    {
     "cell_type": "markdown",
     "metadata": {},
     "source": [
      "\u4f5c\u6210\u3057\u305f\u5206\u985e\u5668\u304c\u65b0\u3057\u3044\u6587\u66f8\u3092\u5206\u985e\u3067\u304d\u308b\u304b\u78ba\u304b\u3081\u3066\u307f\u308b\uff0e\u6b21\u306b\u793a\u3059\u5185\u5bb9\u3092new_post\u306b\u683c\u7d0d\u3059\u308b\uff0e"
     ]
    },
    {
     "cell_type": "markdown",
     "metadata": {},
     "source": [
      "Disk drive problims. Hi, I have a problem with my hard disk.<br>\n",
      "After 1 year it is working only sporadically now.<br>\n",
      "I tried to format it, but now it dosen't boot any more.<br>\n",
      "Any ideas? Thanks.<br>\n",
      "<br>\n",
      "\u307e\u305a\uff0c\u30e9\u30d9\u30eb\u3092\u4e88\u6e2c\u3059\u308b\u524d\u306b\uff0c\u6587\u66f8\u3092\u30d9\u30af\u30c8\u30eb\u5316\u3057\u306a\u3051\u308c\u3070\u306a\u3089\u306a\u3044\uff0e"
     ]
    },
    {
     "cell_type": "code",
     "collapsed": false,
     "input": [
      "new_post = \\\n",
      "    \"\"\"Disk drive problems. Hi, I have a problem with my hard disk.\n",
      "After 1 year it is working only sporadically now.\n",
      "I tried to format it, but now it doesn't boot any more.\n",
      "Any ideas? Thanks.\n",
      "\"\"\""
     ],
     "language": "python",
     "metadata": {},
     "outputs": [],
     "prompt_number": 414
    },
    {
     "cell_type": "code",
     "collapsed": false,
     "input": [
      "new_post_vec = vectorizer.transform([new_post])\n",
      "new_post_label = km.predict(new_post_vec)[0]"
     ],
     "language": "python",
     "metadata": {},
     "outputs": [],
     "prompt_number": 415
    },
    {
     "cell_type": "markdown",
     "metadata": {},
     "source": [
      "\u30af\u30e9\u30b9\u30bf\u30ea\u30f3\u30b0\u306f\u65e2\u306b\u884c\u3063\u3066\u3044\u308b\u306e\u3067\uff0cnew_post_vec\u3092\u4ed6\u306e\u5168\u3066\u306e\u6587\u66f8\u3068\u6bd4\u8f03\u3059\u308b\u5fc5\u8981\u306f\u306a\u3044\uff0e\u305d\u306e\u70ba\uff0c\u540c\u3058\u30af\u30e9\u30b9\u30bf\u306b\u6240\u5c5e\u3059\u308b\u6587\u66f8\u3060\u3051\u3068\u6bd4\u8f03\u3092\u3059\u308c\u3070\u3044\u3044\uff0e\u5143\u306e\u30c7\u30fc\u30bf\u30bb\u30c3\u30c8\u304b\u3089\uff0c\u540c\u3058\u30af\u30e9\u30b9\u30bf\u306b\u6240\u5c5e\u3059\u308b\u6587\u66f8\u306e\u30a4\u30f3\u30c7\u30c3\u30af\u30b9\u3092\u53d6\u308a\u51fa\u3059\uff0e"
     ]
    },
    {
     "cell_type": "code",
     "collapsed": false,
     "input": [
      "similar_indices = (km.labels_ == new_post_label).nonzero()[0]"
     ],
     "language": "python",
     "metadata": {},
     "outputs": [],
     "prompt_number": 416
    },
    {
     "cell_type": "markdown",
     "metadata": {},
     "source": [
      "\u62ec\u5f27\u306e\u4e2d\u3067\u6bd4\u8f03\u3092\u884c\u3046\u3053\u3068\u3067\uff0c\u30d6\u30fc\u30ea\u30a2\u30f3\u578b\u306e\u914d\u5217\u3068\u306a\u308b\uff0e\u305d\u3057\u3066\uff0cnonzero\u30e1\u30bd\u30c3\u30c9\u306fTrue\u3092\u542b\u3080\u8981\u7d20\u306e\u30a4\u30f3\u30c7\u30c3\u30af\u30b9\u3060\u3051\u304b\u3089\u306a\u308b\u914d\u5217\u3078\u5909\u63db\u3059\u308b\uff0e<br>\n",
      "similar_indices\u3092\u7528\u3044\u3066\uff0c\u6b21\u306e\u3088\u3046\u306a\u7c21\u5358\u306a\u8a08\u7b97\u3092\u3057\u3066\uff0c\u985e\u4f3c\u5ea6\u3092\u7b97\u51fa\u3059\u308b\uff0e"
     ]
    },
    {
     "cell_type": "code",
     "collapsed": false,
     "input": [
      "similar = []\n",
      "for i in similar_indices:\n",
      "    dist = sp.linalg.norm((new_post_vec - vectorized[i]).toarray())\n",
      "    similar.append((dist, dataset.data[i]))\n",
      "\n",
      "similar = sorted(similar)\n",
      "print(\"Count similar: %i\" % len(similar))"
     ],
     "language": "python",
     "metadata": {},
     "outputs": [
      {
       "output_type": "stream",
       "stream": "stdout",
       "text": [
        "Count similar: 99\n"
       ]
      }
     ],
     "prompt_number": 417
    },
    {
     "cell_type": "markdown",
     "metadata": {},
     "source": [
      "\u3053\u3053\u3067\u306f\uff0c50\u500b\u306e\u6587\u66f8\u304c\u540c\u3058\u30af\u30e9\u30b9\u30bf\u306b\u6240\u5c5e\u3057\u3066\u3044\u308b\u4e8b\u304c\u78ba\u8a8d\u3067\u304d\u305f\uff0e\u3053\u308c\u3089\u306e\u6587\u66f8\u304c\uff0c\u65b0\u3057\u3044\u6587\u66f8\u3068\u3069\u308c\u304f\u3089\u3044\u4f3c\u3066\u3044\u308b\u306e\u304b\u7c21\u5358\u306b\u898b\u3066\u3044\u304f\uff0e\u305d\u306e\u305f\u3081\u306b\uff0c\u540c\u3058\u30af\u30e9\u30b9\u30bf\u306b\u6240\u5c5e\u3057\u3066\u3044\u308b50\u500b\u306e\u6587\u66f8\u306e\u4e2d\u304b\u3089\uff0c\u6700\u3082\u985e\u4f3c\u3059\u308b\u6587\u66f8(show\\_at\\_1)\uff0c\u6700\u3082\u985e\u4f3c\u3057\u3066\u3044\u306a\u3044\u6587\u66f8(show\\_at\\_3)\uff0c\u305d\u306e\u4e2d\u9593\u306e\u6587\u66f8(show\\_at\\_2)\u3092\u898b\u3066\u307f\u308b\uff0e"
     ]
    },
    {
     "cell_type": "code",
     "collapsed": false,
     "input": [
      "show_at_1 = similar[0]\n",
      "show_at_2 = similar[int(len(similar) / 10)]\n",
      "show_at_3 = similar[int(len(similar) / 2)]"
     ],
     "language": "python",
     "metadata": {},
     "outputs": [],
     "prompt_number": 423
    },
    {
     "cell_type": "code",
     "collapsed": false,
     "input": [
      "i = \"\"\"<table>\n",
      "<tr>\n",
      "<th>\u756a\u53f7</th>\n",
      "<th>\u985e\u4f3c\u5ea6</th>\n",
      "<th>\u6587\u66f8\u304b\u3089\u306e\u629c\u7c8b</th>\n",
      "</tr>\n",
      "<tr>\n",
      "<td>1</td>\n",
      "<td>1.018</td>\n",
      "<td>From: sheaffer@netcom.com (Robert Sheaffer)\\nSubject: Re: Astronomy Program\\n\\nIn article <28641@galaxy.ucr.edu> datadec@ucrengr.ucr.edu (kevin marcus) writes:\\n>Are there any public domain or shareware astronomy programs which will\\n>map out the sky at any given time, and allow you to locate planets, nebulae,\\n>and so forth?  If so, is there any ftp site where I can get one?\\n\\nI posted my public-domain MSDOS program \"sunlight.zip\" to \"sci.astro\" yesterday.\\nIt easily locates the sun, moon, and planets, and can also be used to\\nlocate other objects if you input their Right Ascesion and Declination.\\nUse \"uudecode\" to extract.\\n\\n\\n-- \\n  \\n        Robert Sheaffer - Scepticus Maximus - sheaffer@netcom.com\\n  \\n Past Chairman, The Bay Area Skeptics - for whom I speak only when authorized!\\n\\n         \"Marxism and feminism are one and that one is Marxism\"\\n\\n                             - Heidi Hartmann and Amy Bridges,\\n                       quoted by Catharine MacKinnon above the first chapter\\n                       of her \"Toward a Feminist Theory of the State\"\\n\\n</td>\n",
      "</tr>\n",
      "<tr>\n",
      "<td>2</td>\n",
      "<td>1.134</td>\n",
      "<td>From: jmd@cube.handheld.com (Jim De Arras)\\nSubject: Re: CLINTON JOINS LIST OF GENOCIDAL SOCIALIST LEADERS\\n\\nIn article <1993Apr26.174819.13707@starbase.trincoll.edu>  () writes:\\n> In article <1ra5i9INNd4g@clem.handheld.com>, jmd@cube.handheld.com (Jim De\\n> Arras) wrote:\\n> > \\n> > In article <1993Apr23.153005.8237@starbase.trincoll.edu>  () writes:\\n> \\n> > > I\\'ve yet to meet a group of Baptists who were stockpiling Cambell\\'s soup\\n> > > and M-16\\'s/AR-15\\'s and banging/marrying thirteen yuear olds. \\n> > \\n> > I don\\'t recall saying Baptists do any of that.  Though I suppose some do.   \\nAnd  \\n> > none of them are listed in the dictionary as characteristics of a cult.  My  \\n> > mother stockpiled Campbells soup when it was on sale.  \\n> > \\n> > > You\\'re a sorry\\n> > > son of a bitch if you can\\'t draw a distinction between these two things.\\n> > \\n> > You are an intolerent, foul-mouthed human.  You sound like you are ready to  \\n> > join the KKK or neo-nazis, with a narrow mind like yours.\\n> \\n> Fuck YOU. My paternal grandparents died in Oswiecym (Aushwitz in the native\\n> tongue, for all of you pseudo-historically literate people). \\n\\nAnd Bejing = Peking, who cares about native tongue, as long as we all  \\nunderstand each other.\\n\\n> I would\\n> suggest you\\'d have to search long and hard to find someone with more\\n> diffuse sensibilities. \\n\\nOh, not more than a few feet, I wouldn\\'t think.  I\\'m sorry IF your paternal  \\ngrandparents died in Oswiecym or Aushwitz, which is easier to say than prove,  \\nbut if so, the lesson they paid thier lives for was wasted on you.\\n\\n> Just tootin\\' my own horn.\\n\\nYou are the expert.  I often feel compelled to brag about the circumstances of  \\nmy grandparent\\'s death.  8-}\\n\\n> \\n> > > People like you cheapen our constitution by using it to defend sociopaths\\n> > > who aren\\'t deserved of it. Get a life and chill on the paranoia.\\n> > > \\n> \\n> I don\\'t care about *cults*. There\\'s no language problem here. My problem is\\n> with religious fanatics (claiming to be God is just a *little bit*\\n> unsettling) stockpiling several years\\' supply of canned foods and enough\\n> weapons to hold off a company (not to mention the ATF, which %&^#ed up in\\n> the first place) and talking about how they\\'re going to \"take care\" of all\\n> of the \"unbelievers.\" But granted, up to that moment, he\\'d done nothing\\n> wrong. I recognize and respect that.\\n> \\n> Then the ATF discovers he doesn\\'t have proper permits for some of his\\n> purchases and failed to pay some taxes on them. \\n> \\n\\nA BATF offense, if true.\\n\\n> Then several parents come forward and demand that previous charges of child\\n> abuse be refiled. There have been interviews with some parents whose\\n> children were in the compound at some point. These parents claimed\\n> psychological and sexual abuse. The childrens\\' statements supported these\\n> charges.\\n\\nA LOCAL offense, if true.  Totally outside the BATF\\'s domain.\\n\\n> \\n> Was it a \\'no-knock?\\' I really haven\\'t heard anything on that. But clearly\\n> he was not just another guy minding his own business. Hell, give them all\\n> the guns in the world if they don\\'t bother anyone. But he was a scary sort,\\n> don\\'t you think? \\n\\nI didn\\'t know the man.  Just what the TV chose to tell me.\\n\\n> The sort of person you\\'d want your daughter to date? \\n\\nI thought there were prejudicial undertones here.  I would trust my daughter\\'s  \\njudgement.\\n\\n> I\\n> didn\\'t think so. Reason number one to doubt the legal statements made by\\n> some of the survivors. (Note that some of them were made by his \\'guard,\\'\\n> well-[hesitate to say expertly] trained killers).\\n\\nI don\\'t believe either side blindly.\\n> \\n> Then he fired on the ATF. That\\'s not just a little mistake, or some\\n> red-white-and blue American defending his home against Big Brother. \\n\\nIF they fired first, without announcing in a beleivable way who they were ( I  \\ncan pound on your door and claim to be the police, will you just lay down and  \\ntake it if I do?), then he could be justified in firing on the ATF in  \\nself-defense.\\n\\n> That\\n> shit doesn\\'t fly. Anyone with his background that will shoot and kill\\n> Federal Law Enforcement officials is not some good citizen whose crusade\\n> enjoys our support. He\\'s a loose cannon. Just my opinion...\\n\\n\"His background\"?  What law has he been convicted of breaking in the past?\\n> \\n> joe.kusmierczak@mail.trincoll.edu\\n\\nJim\\n--\\njmd@handheld.com\\n-------------------------------------------------------------------------------\\n\"I\\'m always rethinking that.  There\\'s never been a day when I haven\\'t rethought  \\nthat.  But I can\\'t do that by myself.\"  Bill Clinton  6 April 93\\n\"If I were an American, as I am an Englishman, while a foreign troop was landed  \\nin my country, I never would lay down my arms,-never--never--never!\"\\nWILLIAM PITT, EARL OF CHATHAM 1708-1778 18 Nov. 1777\\n</td>\n",
      "</tr>\n",
      "<tr>\n",
      "<td>3</td>\n",
      "<td>1.298</td>\n",
      "<td>From: Rupin.Dang@dartmouth.edu (Rupin Dang)\\nSubject: Texas Instuments TI-81 calculator\\n\\n\\nTexas Instruments TI-81 calculalor. Excellent scientific calculator. \\n\\nbest offer.\\n</td>\n",
      "</tr>\n",
      "</table>\"\"\""
     ],
     "language": "python",
     "metadata": {},
     "outputs": [],
     "prompt_number": 424
    },
    {
     "cell_type": "code",
     "collapsed": false,
     "input": [
      "h = HTML(i); h"
     ],
     "language": "python",
     "metadata": {},
     "outputs": [
      {
       "html": [
        "<table>\n",
        "<tr>\n",
        "<th>\u756a\u53f7</th>\n",
        "<th>\u985e\u4f3c\u5ea6</th>\n",
        "<th>\u6587\u66f8\u304b\u3089\u306e\u629c\u7c8b</th>\n",
        "</tr>\n",
        "<tr>\n",
        "<td>1</td>\n",
        "<td>1.018</td>\n",
        "<td>From: sheaffer@netcom.com (Robert Sheaffer)\n",
        "Subject: Re: Astronomy Program\n",
        "\n",
        "In article <28641@galaxy.ucr.edu> datadec@ucrengr.ucr.edu (kevin marcus) writes:\n",
        ">Are there any public domain or shareware astronomy programs which will\n",
        ">map out the sky at any given time, and allow you to locate planets, nebulae,\n",
        ">and so forth?  If so, is there any ftp site where I can get one?\n",
        "\n",
        "I posted my public-domain MSDOS program \"sunlight.zip\" to \"sci.astro\" yesterday.\n",
        "It easily locates the sun, moon, and planets, and can also be used to\n",
        "locate other objects if you input their Right Ascesion and Declination.\n",
        "Use \"uudecode\" to extract.\n",
        "\n",
        "\n",
        "-- \n",
        "  \n",
        "        Robert Sheaffer - Scepticus Maximus - sheaffer@netcom.com\n",
        "  \n",
        " Past Chairman, The Bay Area Skeptics - for whom I speak only when authorized!\n",
        "\n",
        "         \"Marxism and feminism are one and that one is Marxism\"\n",
        "\n",
        "                             - Heidi Hartmann and Amy Bridges,\n",
        "                       quoted by Catharine MacKinnon above the first chapter\n",
        "                       of her \"Toward a Feminist Theory of the State\"\n",
        "\n",
        "</td>\n",
        "</tr>\n",
        "<tr>\n",
        "<td>2</td>\n",
        "<td>1.134</td>\n",
        "<td>From: jmd@cube.handheld.com (Jim De Arras)\n",
        "Subject: Re: CLINTON JOINS LIST OF GENOCIDAL SOCIALIST LEADERS\n",
        "\n",
        "In article <1993Apr26.174819.13707@starbase.trincoll.edu>  () writes:\n",
        "> In article <1ra5i9INNd4g@clem.handheld.com>, jmd@cube.handheld.com (Jim De\n",
        "> Arras) wrote:\n",
        "> > \n",
        "> > In article <1993Apr23.153005.8237@starbase.trincoll.edu>  () writes:\n",
        "> \n",
        "> > > I've yet to meet a group of Baptists who were stockpiling Cambell's soup\n",
        "> > > and M-16's/AR-15's and banging/marrying thirteen yuear olds. \n",
        "> > \n",
        "> > I don't recall saying Baptists do any of that.  Though I suppose some do.   \n",
        "And  \n",
        "> > none of them are listed in the dictionary as characteristics of a cult.  My  \n",
        "> > mother stockpiled Campbells soup when it was on sale.  \n",
        "> > \n",
        "> > > You're a sorry\n",
        "> > > son of a bitch if you can't draw a distinction between these two things.\n",
        "> > \n",
        "> > You are an intolerent, foul-mouthed human.  You sound like you are ready to  \n",
        "> > join the KKK or neo-nazis, with a narrow mind like yours.\n",
        "> \n",
        "> Fuck YOU. My paternal grandparents died in Oswiecym (Aushwitz in the native\n",
        "> tongue, for all of you pseudo-historically literate people). \n",
        "\n",
        "And Bejing = Peking, who cares about native tongue, as long as we all  \n",
        "understand each other.\n",
        "\n",
        "> I would\n",
        "> suggest you'd have to search long and hard to find someone with more\n",
        "> diffuse sensibilities. \n",
        "\n",
        "Oh, not more than a few feet, I wouldn't think.  I'm sorry IF your paternal  \n",
        "grandparents died in Oswiecym or Aushwitz, which is easier to say than prove,  \n",
        "but if so, the lesson they paid thier lives for was wasted on you.\n",
        "\n",
        "> Just tootin' my own horn.\n",
        "\n",
        "You are the expert.  I often feel compelled to brag about the circumstances of  \n",
        "my grandparent's death.  8-}\n",
        "\n",
        "> \n",
        "> > > People like you cheapen our constitution by using it to defend sociopaths\n",
        "> > > who aren't deserved of it. Get a life and chill on the paranoia.\n",
        "> > > \n",
        "> \n",
        "> I don't care about *cults*. There's no language problem here. My problem is\n",
        "> with religious fanatics (claiming to be God is just a *little bit*\n",
        "> unsettling) stockpiling several years' supply of canned foods and enough\n",
        "> weapons to hold off a company (not to mention the ATF, which %&^#ed up in\n",
        "> the first place) and talking about how they're going to \"take care\" of all\n",
        "> of the \"unbelievers.\" But granted, up to that moment, he'd done nothing\n",
        "> wrong. I recognize and respect that.\n",
        "> \n",
        "> Then the ATF discovers he doesn't have proper permits for some of his\n",
        "> purchases and failed to pay some taxes on them. \n",
        "> \n",
        "\n",
        "A BATF offense, if true.\n",
        "\n",
        "> Then several parents come forward and demand that previous charges of child\n",
        "> abuse be refiled. There have been interviews with some parents whose\n",
        "> children were in the compound at some point. These parents claimed\n",
        "> psychological and sexual abuse. The childrens' statements supported these\n",
        "> charges.\n",
        "\n",
        "A LOCAL offense, if true.  Totally outside the BATF's domain.\n",
        "\n",
        "> \n",
        "> Was it a 'no-knock?' I really haven't heard anything on that. But clearly\n",
        "> he was not just another guy minding his own business. Hell, give them all\n",
        "> the guns in the world if they don't bother anyone. But he was a scary sort,\n",
        "> don't you think? \n",
        "\n",
        "I didn't know the man.  Just what the TV chose to tell me.\n",
        "\n",
        "> The sort of person you'd want your daughter to date? \n",
        "\n",
        "I thought there were prejudicial undertones here.  I would trust my daughter's  \n",
        "judgement.\n",
        "\n",
        "> I\n",
        "> didn't think so. Reason number one to doubt the legal statements made by\n",
        "> some of the survivors. (Note that some of them were made by his 'guard,'\n",
        "> well-[hesitate to say expertly] trained killers).\n",
        "\n",
        "I don't believe either side blindly.\n",
        "> \n",
        "> Then he fired on the ATF. That's not just a little mistake, or some\n",
        "> red-white-and blue American defending his home against Big Brother. \n",
        "\n",
        "IF they fired first, without announcing in a beleivable way who they were ( I  \n",
        "can pound on your door and claim to be the police, will you just lay down and  \n",
        "take it if I do?), then he could be justified in firing on the ATF in  \n",
        "self-defense.\n",
        "\n",
        "> That\n",
        "> shit doesn't fly. Anyone with his background that will shoot and kill\n",
        "> Federal Law Enforcement officials is not some good citizen whose crusade\n",
        "> enjoys our support. He's a loose cannon. Just my opinion...\n",
        "\n",
        "\"His background\"?  What law has he been convicted of breaking in the past?\n",
        "> \n",
        "> joe.kusmierczak@mail.trincoll.edu\n",
        "\n",
        "Jim\n",
        "--\n",
        "jmd@handheld.com\n",
        "-------------------------------------------------------------------------------\n",
        "\"I'm always rethinking that.  There's never been a day when I haven't rethought  \n",
        "that.  But I can't do that by myself.\"  Bill Clinton  6 April 93\n",
        "\"If I were an American, as I am an Englishman, while a foreign troop was landed  \n",
        "in my country, I never would lay down my arms,-never--never--never!\"\n",
        "WILLIAM PITT, EARL OF CHATHAM 1708-1778 18 Nov. 1777\n",
        "</td>\n",
        "</tr>\n",
        "<tr>\n",
        "<td>3</td>\n",
        "<td>1.298</td>\n",
        "<td>From: Rupin.Dang@dartmouth.edu (Rupin Dang)\n",
        "Subject: Texas Instuments TI-81 calculator\n",
        "\n",
        "\n",
        "Texas Instruments TI-81 calculalor. Excellent scientific calculator. \n",
        "\n",
        "best offer.\n",
        "</td>\n",
        "</tr>\n",
        "</table>"
       ],
       "metadata": {},
       "output_type": "pyout",
       "prompt_number": 425,
       "text": [
        "<IPython.core.display.HTML at 0x117ae5d10>"
       ]
      }
     ],
     "prompt_number": 425
    },
    {
     "cell_type": "markdown",
     "metadata": {},
     "source": [
      "new_post\u306e\u5185\u5bb9\u306b\u5bfe\u3057\u3066\uff0c\u4e00\u756a\u985e\u4f3c\u5ea6\u304c\u9ad8\u3044\u6587\u66f8\u30921\uff0c\u985e\u4f3c\u5ea6\u304c\u4e00\u756a\u4f4e\u3044\u6587\u66f8\u30923\uff0c\u305d\u306e\u4e2d\u9593\u306e\u6587\u66f8\u30922\u3068\u3057\u3066\u4e0a\u8a18\u306b\u793a\u3059\uff0e"
     ]
    },
    {
     "cell_type": "heading",
     "level": 3,
     "metadata": {},
     "source": [
      "3.4.1 \u30ce\u30a4\u30ba\u306b\u5bfe\u3059\u308b\u5225\u306e\u898b\u65b9"
     ]
    },
    {
     "cell_type": "markdown",
     "metadata": {},
     "source": [
      "\u5b8c\u74a7\u306a\u30af\u30e9\u30b9\u30bf\u30ea\u30f3\u30b0\u3092\u884c\u3046\u4e8b\u306f\u3067\u304d\u306a\u3044\u3060\u308d\u3046\uff0e\u6b63\u78ba\u306b\u3044\u3046\u3068\uff0c\u540c\u3058\u30cb\u30e5\u30fc\u30b9\u30b0\u30eb\u30fc\u30d7\u306e\u6587\u66f8\u3092\u540c\u3058\u30af\u30e9\u30b9\u30bf\u306b\u5168\u3066\u6b63\u78ba\u306b\u6240\u5c5e\u3055\u305b\u308b\u4e8b\u3092\u76ee\u6307\u3059\u3079\u304d\u3067\u306f\u306a\u3044\uff0e\u5b9f\u969b\u306e\u554f\u984c\u3067\u306f\uff0c\u30ce\u30a4\u30ba\u306b\u3064\u3044\u3066\u8003\u3048\u308b\u5fc5\u8981\u304c\u3042\u308a\uff0c\u3044\u304f\u3064\u304b\u306e\u4f8b\u3092\u898b\u308b\u4e8b\u3067\u30ce\u30a4\u30ba\u306b\u3064\u3044\u3066\u5b66\u3076\u4e8b\u304c\u3067\u304d\u308b\u3060\u308d\u3046\uff0e"
     ]
    },
    {
     "cell_type": "code",
     "collapsed": false,
     "input": [
      "post_group = zip(dataset.data,dataset.target)\n",
      "z = [(len(post[0]), post[0], dataset.target_names[post[1]]) for post in post_group]\n",
      "graphics = sorted([post for post in z if post[2] == 'comp.graphics'])\n",
      "print(graphics[5])"
     ],
     "language": "python",
     "metadata": {},
     "outputs": [
      {
       "output_type": "stream",
       "stream": "stdout",
       "text": [
        "(117, 'From:  Valentin E. Vulihman <vulih@ipmce.su>\\nSubject: Attractive drawing on the sphere\\n\\nsubscribe comp.graphics\\nquit\\n', 'comp.graphics')\n"
       ]
      }
     ],
     "prompt_number": 443
    },
    {
     "cell_type": "markdown",
     "metadata": {},
     "source": [
      "\u4e0a\u8a18\u306e\u30b3\u30fc\u30c9\u3067print\u3057\u305f\u4e8c\u3064\u306e\u6587\u66f8\u306b\u3064\u3044\u3066\uff0c\u305d\u308c\u3089\u304ccomp.graphics\u306b\u6240\u5c5e\u3059\u308b\"\u6c7a\u3081\u624b\"\u3092\u898b\u3064\u3051\u308b\u4e8b\u304c\u3067\u304d\u308b\u304b\uff0e\u6b21\u306b\u793a\u3059\u306e\u306f\uff0c\u524d\u51e6\u7406\u3092\u884c\u3063\u305f\u6bb5\u968e\u3067\u6b8b\u3063\u305f\u5358\u8a9e\u3067\u3042\u308b\uff0e\u305d\u308c\u3089\u304b\u3089\u5206\u985e\u306e\u6c7a\u3081\u624b\u306f\u898b\u3064\u304b\u3089\u306a\u3044\u3060\u308d\u3046\uff0e"
     ]
    },
    {
     "cell_type": "code",
     "collapsed": false,
     "input": [
      "noise_post=graphics[5][1]\n",
      "analyzer = vectorizer.build_analyzer()\n",
      "list(analyzer(noise_post))"
     ],
     "language": "python",
     "metadata": {},
     "outputs": [
      {
       "metadata": {},
       "output_type": "pyout",
       "prompt_number": 444,
       "text": [
        "[u'valentin',\n",
        " u'vulihman',\n",
        " u'vulih',\n",
        " u'ipmc',\n",
        " u'su',\n",
        " u'subject',\n",
        " u'attract',\n",
        " u'draw',\n",
        " u'sphere',\n",
        " u'subscrib',\n",
        " u'comp',\n",
        " u'graphic',\n",
        " u'quit']"
       ]
      }
     ],
     "prompt_number": 444
    },
    {
     "cell_type": "markdown",
     "metadata": {},
     "source": [
      "\u6b21\u306b\u793a\u3059\u306e\u306f\uff0c\u30c8\u30fc\u30af\u30f3\u5316\u3092\u884c\u3044\uff0c\u5c0f\u6587\u5b57\u306b\u5909\u63db\u3057\uff0c\u30b9\u30c8\u30c3\u30d7\u30ef\u30fc\u30c9\u3092\u53d6\u308a\u9664\u3044\u305f\u5f8c\u306b\u6b8b\u308b\u5358\u8a9e\u3067\u3042\u308b\uff0e\u307e\u305f\uff0cfit_transform\u3092\u5b9f\u884c\u3059\u308b\u3068\u304d\u306b\uff0cmin_df\u3068max_df\u306b\u3088\u3063\u3066\u53d6\u308a\u9664\u304b\u308c\u308b\u5358\u8a9e\u3082\u3042\u308b\uff0e\u3053\u308c\u3089\u306e\u51e6\u7406\u3092\u884c\u3063\u305f\u5f8c\u306b\u6b8b\u308b\u5358\u8a9e\u306f\u66f4\u306b\u5c11\u306a\u304f\u306a\u308b\uff0e"
     ]
    },
    {
     "cell_type": "code",
     "collapsed": false,
     "input": [
      "list(set(analyzer(noise_post)).intersection(vectorizer.get_feature_names()))"
     ],
     "language": "python",
     "metadata": {},
     "outputs": [
      {
       "metadata": {},
       "output_type": "pyout",
       "prompt_number": 445,
       "text": [
        "[u'quit',\n",
        " u'draw',\n",
        " u'graphic',\n",
        " u'comp',\n",
        " u'su',\n",
        " u'sphere',\n",
        " u'subscrib',\n",
        " u'attract']"
       ]
      }
     ],
     "prompt_number": 445
    },
    {
     "cell_type": "markdown",
     "metadata": {},
     "source": [
      "\u66f4\u306b\uff0c\u3053\u308c\u3089\u306e\u5358\u8a9e\u306f\u4ed6\u306e\u6587\u66f8\u3067\u3082\u591a\u304f\u73fe\u308c\u308b\uff0e\u305d\u306e\u305f\u3081IDF\u306e\u5024\u3082\u78ba\u8a8d\u3057\u306a\u3051\u308c\u3070\u306a\u3089\u306a\u3044\uff0eTF-IDF\u306e\u5024\u304c\u5927\u304d\u3051\u308c\u3070\u5927\u304d\u3044\u307b\u3069\uff0c\u305d\u306e\u5358\u8a9e\u306e\u8b58\u5225\u6027\u304c\u9ad8\u3044\u3053\u3068\u3092\u610f\u5473\u3059\u308b\uff0e\u305d\u3057\u3066\uff0cTF-IDF\u306f\uff0cTF\u3068IDF\u3092\u639b\u3051\u5408\u308f\u305b\u3066\u6c42\u3081\u308b\u305f\u3081\uff0cIDF\u306e\u5024\u304c\u5c0f\u3055\u3044\u3068TF-IDF\u5168\u4f53\u3082\u5024\u3082\u5927\u304d\u304f\u306a\u3089\u306a\u3044\uff0e"
     ]
    },
    {
     "cell_type": "code",
     "collapsed": false,
     "input": [
      "useful = set(analyzer(noise_post)).intersection(vectorizer.get_feature_names())\n",
      "print(sorted(useful))"
     ],
     "language": "python",
     "metadata": {},
     "outputs": [
      {
       "output_type": "stream",
       "stream": "stdout",
       "text": [
        "[u'attract', u'comp', u'draw', u'graphic', u'quit', u'sphere', u'su', u'subscrib']\n"
       ]
      }
     ],
     "prompt_number": 446
    },
    {
     "cell_type": "code",
     "collapsed": false,
     "input": [
      "for term in sorted(useful):\n",
      "    print('IDF(%s)=%.2f' % (term,vectorizer._tfidf.idf_[vectorizer.vocabulary_[term]]))"
     ],
     "language": "python",
     "metadata": {},
     "outputs": [
      {
       "output_type": "stream",
       "stream": "stdout",
       "text": [
        "IDF(attract)=6.09\n",
        "IDF(comp)=4.14\n",
        "IDF(draw)=4.25\n",
        "IDF(graphic)=3.13\n",
        "IDF(quit)=3.68\n",
        "IDF(sphere)=5.96\n",
        "IDF(su)=5.53\n",
        "IDF(subscrib)=5.80\n"
       ]
      }
     ],
     "prompt_number": 447
    },
    {
     "cell_type": "markdown",
     "metadata": {},
     "source": [
      "\u305f\u3068\u3048\u3070\uff0csphere\u3068\u3044\u3046\u5358\u8a9e\u306eIDF\u306e\u5024\u306f5.96\u3067\u3042\u308b\uff0e\u4eca\u56de\u306e\u4f8b\u3067\u306f\uff0cIDF\u306e\u6700\u5927\u5024\u304c6.09\u3068\u306a\u308b\u304c\uff0c\u305d\u308c\u306b\u8fd1\u3044\u5024\u3092\u6301\u3064\u3053\u3068\u3068\u306a\u308b\uff0e\u305d\u306e\u4ed6\u306bsubcrib\u3084su\u306e\u5024\u304c\u9ad8\u3044\u304c\uff0c\u305d\u308c\u4ed6\u306eIDF\u306e\u5024\u306f\u5927\u304d\u304f\u306a\u3044\uff0e\u3064\u307e\u308a\uff0c\u5024\u304c\u4f4e\u3044\u3068\u3044\u3046\u4e8b\u306f\u8b58\u5225\u6027\u304c\u307b\u3068\u3093\u3069\u306a\u3044\u4e8b\u3092\u610f\u5473\u3059\u308b\uff0e<br>\n",
      "\u3053\u306e\u3088\u3046\u306b\u5b8c\u74a7\u306a\u30af\u30e9\u30b9\u30bf\u30ea\u30f3\u30b0\u306f\u975e\u5e38\u306b\u56f0\u96e3\u3067\u3042\u308b\u4e8b\u304c\u78ba\u8a8d\u3067\u304d\u308b\uff0e"
     ]
    },
    {
     "cell_type": "heading",
     "level": 2,
     "metadata": {},
     "source": [
      "3.5 \u30d1\u30e9\u30e1\u30fc\u30bf\u306e\u8abf\u6574"
     ]
    },
    {
     "cell_type": "markdown",
     "metadata": {},
     "source": [
      "\u305d\u306e\u4ed6\u306e\u30d1\u30e9\u30e1\u30fc\u30bf\u3092\u8abf\u6574\u3059\u308b\u4e8b\u3067\u826f\u3044\u7d50\u679c\u306f\u3067\u308b\u3060\u308d\u3046\u304b\uff0e<br>\n",
      "\u4eca\u56de\u89e6\u308c\u305f\u30d1\u30e9\u30e1\u30fc\u30bf\u4ee5\u5916\u306b\u3082\uff0c\u30af\u30e9\u30b9\u30bf\u6570\u3084\u30d9\u30af\u30c8\u30eb\u5316\u3092\u884c\u3046\u969b\u306emax_features\u306e\u5024\u3092\u5909\u66f4\u3059\u308b\u4e8b\u304c\u3067\u304d\u308b\uff0e\u307e\u305f\uff0c\u30af\u30e9\u30b9\u30bf\u3092\u521d\u671f\u5316\u3059\u308b\u969b\u306b\u7528\u3044\u308b\u4e2d\u5fc3\u70b9\u3092\uff0c\u5225\u306e\u70b9\u3067\u521d\u671f\u5316\u3059\u308b\u3053\u3068\u3082\u304b\u306e\u3046\u3067\u3042\u308b\uff0eKMeans\u306e\u4ed6\u306b\u3082\u624b\u6cd5\u306f\u5b58\u5728\u3059\u308b\uff0e\u307e\u305f\uff0c\u985e\u4f3c\u5ea6\u3092\u7b97\u51fa\u3059\u308b\u305f\u3081\u306b\uff0c\u30b3\u30b5\u30a4\u30f3\u985e\u4f3c\u5ea6(Cosine similarity)\uff0c\u30d4\u30a2\u30bd\u30f3\u76f8\u95a2\u4fc2\u6570(Pearson)\uff0cJaccard\u4fc2\u6570\u306a\u3069\u3092\u7528\u3044\u308b\u3053\u3068\u3082\u3067\u304d\u308b\uff0e<br>\n",
      "\u3057\u304b\u3057\uff0c\u305d\u306e\u524d\u306b\u826f\u3044\u7d50\u679c\u304c\u3069\u3046\u3044\u3046\u3082\u306e\u304b\u3092\u5b9a\u7fa9\u3059\u308bsklearn.metrics\u3068\u3044\u3046\u30d1\u30c3\u30b1\u30fc\u30b8\u304c\u3042\u308b\uff0e\u30af\u30e9\u30b9\u30bf\u30ea\u30f3\u30b0\u306e\u6027\u80fd\u3092\u8a08\u6e2c\u3059\u308b\u305f\u3081\u306e\u591a\u304f\u306e\u8a55\u4fa1\u95a2\u6570\u304c\u542b\u307e\u308c\u3066\u304a\u308a\uff0c\u3053\u3061\u3089\u3082\u5b66\u3076\u3079\u304d\u3067\u3042\u308b\uff0e"
     ]
    },
    {
     "cell_type": "heading",
     "level": 2,
     "metadata": {},
     "source": [
      "3.7 \u307e\u3068\u3081"
     ]
    },
    {
     "cell_type": "markdown",
     "metadata": {},
     "source": [
      "\u672c\u7ae0\u3067\u306f\uff0c\u30af\u30e9\u30b9\u30bf\u30ea\u30f3\u30b0\u3092\u884c\u3046\u305f\u3081\u306b\uff0c\u306f\u3058\u3081\u306b\u524d\u51e6\u7406\u3092\u884c\u3063\u305f\uff0e\u524d\u51e6\u7406\u306e\u6bb5\u968e\u3067\u306f\uff0c\u30ce\u30a4\u30ba\u306e\u542b\u307e\u308c\u308b\u30c6\u30ad\u30b9\u30c8\u30c7\u30fc\u30bf\u304b\u3089\uff0c\u30af\u30e9\u30b9\u30bf\u30ea\u30f3\u30b0\u306e\u3067\u304d\u308b\u7c21\u6f54\u306a\u30d9\u30af\u30c8\u30eb\u306e\u5f62\u306b\u5909\u63db\u3057\u305f\uff0e\u305d\u3057\u3066\uff0c\u30c6\u30ad\u30b9\u30c8\u51e6\u7406\u306b\u3064\u3044\u3066\u5b66\u3073\uff0c\u5358\u8a9e\u306e\u6570\u3092\u30ab\u30a6\u30f3\u30c8\u3059\u308b\u3068\u3044\u3046\u5358\u7d14\u306a\u624b\u6cd5\u304c\uff0c\u30ce\u30a4\u30ba\u306e\u542b\u307e\u308c\u308b\u73fe\u5b9f\u4e16\u754c\u306e\u30c7\u30fc\u30bf\u306b\u5bfe\u3057\u3066\u6709\u52b9\u3067\u3042\u308b\u3053\u3068\u3092\u5b66\u3093\u3060\uff0e<br>\n",
      "\u672c\u7ae0\u3067\u306f\uff0cScikit-learn\u306e\u4e00\u90e8\u306e\u6a5f\u80fd\u3092\u4f7f\u3063\u305f\uff0e\u6b21\u306e\u7ae0\u3067\u306f\uff0cScikit-learn\u3067\u51fa\u6765\u308b\u4e8b\u3092\u66f4\u306b\u898b\u3066\u3044\u304f\uff0e"
     ]
    },
    {
     "cell_type": "code",
     "collapsed": false,
     "input": [],
     "language": "python",
     "metadata": {},
     "outputs": []
    }
   ],
   "metadata": {}
  }
 ]
}